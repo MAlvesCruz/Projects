{
 "cells": [
  {
   "cell_type": "markdown",
   "metadata": {},
   "source": [
    "# Mosquito Bites Project"
   ]
  },
  {
   "cell_type": "code",
   "execution_count": 1,
   "metadata": {},
   "outputs": [
    {
     "data": {
      "text/html": [
       "\n",
       "    <div class=\"bk-root\">\n",
       "        <a href=\"https://bokeh.pydata.org\" target=\"_blank\" class=\"bk-logo bk-logo-small bk-logo-notebook\"></a>\n",
       "        <span id=\"76b4e0f4-bf88-486d-821e-dd2d2e4af480\">Loading BokehJS ...</span>\n",
       "    </div>"
      ]
     },
     "metadata": {},
     "output_type": "display_data"
    },
    {
     "data": {
      "application/javascript": [
       "\n",
       "(function(root) {\n",
       "  function now() {\n",
       "    return new Date();\n",
       "  }\n",
       "\n",
       "  var force = true;\n",
       "\n",
       "  if (typeof (root._bokeh_onload_callbacks) === \"undefined\" || force === true) {\n",
       "    root._bokeh_onload_callbacks = [];\n",
       "    root._bokeh_is_loading = undefined;\n",
       "  }\n",
       "\n",
       "  var JS_MIME_TYPE = 'application/javascript';\n",
       "  var HTML_MIME_TYPE = 'text/html';\n",
       "  var EXEC_MIME_TYPE = 'application/vnd.bokehjs_exec.v0+json';\n",
       "  var CLASS_NAME = 'output_bokeh rendered_html';\n",
       "\n",
       "  /**\n",
       "   * Render data to the DOM node\n",
       "   */\n",
       "  function render(props, node) {\n",
       "    var script = document.createElement(\"script\");\n",
       "    node.appendChild(script);\n",
       "  }\n",
       "\n",
       "  /**\n",
       "   * Handle when an output is cleared or removed\n",
       "   */\n",
       "  function handleClearOutput(event, handle) {\n",
       "    var cell = handle.cell;\n",
       "\n",
       "    var id = cell.output_area._bokeh_element_id;\n",
       "    var server_id = cell.output_area._bokeh_server_id;\n",
       "    // Clean up Bokeh references\n",
       "    if (id !== undefined) {\n",
       "      Bokeh.index[id].model.document.clear();\n",
       "      delete Bokeh.index[id];\n",
       "    }\n",
       "\n",
       "    if (server_id !== undefined) {\n",
       "      // Clean up Bokeh references\n",
       "      var cmd = \"from bokeh.io.state import curstate; print(curstate().uuid_to_server['\" + server_id + \"'].get_sessions()[0].document.roots[0]._id)\";\n",
       "      cell.notebook.kernel.execute(cmd, {\n",
       "        iopub: {\n",
       "          output: function(msg) {\n",
       "            var element_id = msg.content.text.trim();\n",
       "            Bokeh.index[element_id].model.document.clear();\n",
       "            delete Bokeh.index[element_id];\n",
       "          }\n",
       "        }\n",
       "      });\n",
       "      // Destroy server and session\n",
       "      var cmd = \"import bokeh.io.notebook as ion; ion.destroy_server('\" + server_id + \"')\";\n",
       "      cell.notebook.kernel.execute(cmd);\n",
       "    }\n",
       "  }\n",
       "\n",
       "  /**\n",
       "   * Handle when a new output is added\n",
       "   */\n",
       "  function handleAddOutput(event, handle) {\n",
       "    var output_area = handle.output_area;\n",
       "    var output = handle.output;\n",
       "\n",
       "    // limit handleAddOutput to display_data with EXEC_MIME_TYPE content only\n",
       "    if ((output.output_type != \"display_data\") || (!output.data.hasOwnProperty(EXEC_MIME_TYPE))) {\n",
       "      return\n",
       "    }\n",
       "\n",
       "    var toinsert = output_area.element.find(`.${CLASS_NAME.split(' ')[0]}`);\n",
       "\n",
       "    if (output.metadata[EXEC_MIME_TYPE][\"id\"] !== undefined) {\n",
       "      toinsert[0].firstChild.textContent = output.data[JS_MIME_TYPE];\n",
       "      // store reference to embed id on output_area\n",
       "      output_area._bokeh_element_id = output.metadata[EXEC_MIME_TYPE][\"id\"];\n",
       "    }\n",
       "    if (output.metadata[EXEC_MIME_TYPE][\"server_id\"] !== undefined) {\n",
       "      var bk_div = document.createElement(\"div\");\n",
       "      bk_div.innerHTML = output.data[HTML_MIME_TYPE];\n",
       "      var script_attrs = bk_div.children[0].attributes;\n",
       "      for (var i = 0; i < script_attrs.length; i++) {\n",
       "        toinsert[0].firstChild.setAttribute(script_attrs[i].name, script_attrs[i].value);\n",
       "      }\n",
       "      // store reference to server id on output_area\n",
       "      output_area._bokeh_server_id = output.metadata[EXEC_MIME_TYPE][\"server_id\"];\n",
       "    }\n",
       "  }\n",
       "\n",
       "  function register_renderer(events, OutputArea) {\n",
       "\n",
       "    function append_mime(data, metadata, element) {\n",
       "      // create a DOM node to render to\n",
       "      var toinsert = this.create_output_subarea(\n",
       "        metadata,\n",
       "        CLASS_NAME,\n",
       "        EXEC_MIME_TYPE\n",
       "      );\n",
       "      this.keyboard_manager.register_events(toinsert);\n",
       "      // Render to node\n",
       "      var props = {data: data, metadata: metadata[EXEC_MIME_TYPE]};\n",
       "      render(props, toinsert[0]);\n",
       "      element.append(toinsert);\n",
       "      return toinsert\n",
       "    }\n",
       "\n",
       "    /* Handle when an output is cleared or removed */\n",
       "    events.on('clear_output.CodeCell', handleClearOutput);\n",
       "    events.on('delete.Cell', handleClearOutput);\n",
       "\n",
       "    /* Handle when a new output is added */\n",
       "    events.on('output_added.OutputArea', handleAddOutput);\n",
       "\n",
       "    /**\n",
       "     * Register the mime type and append_mime function with output_area\n",
       "     */\n",
       "    OutputArea.prototype.register_mime_type(EXEC_MIME_TYPE, append_mime, {\n",
       "      /* Is output safe? */\n",
       "      safe: true,\n",
       "      /* Index of renderer in `output_area.display_order` */\n",
       "      index: 0\n",
       "    });\n",
       "  }\n",
       "\n",
       "  // register the mime type if in Jupyter Notebook environment and previously unregistered\n",
       "  if (root.Jupyter !== undefined) {\n",
       "    var events = require('base/js/events');\n",
       "    var OutputArea = require('notebook/js/outputarea').OutputArea;\n",
       "\n",
       "    if (OutputArea.prototype.mime_types().indexOf(EXEC_MIME_TYPE) == -1) {\n",
       "      register_renderer(events, OutputArea);\n",
       "    }\n",
       "  }\n",
       "\n",
       "  \n",
       "  if (typeof (root._bokeh_timeout) === \"undefined\" || force === true) {\n",
       "    root._bokeh_timeout = Date.now() + 5000;\n",
       "    root._bokeh_failed_load = false;\n",
       "  }\n",
       "\n",
       "  var NB_LOAD_WARNING = {'data': {'text/html':\n",
       "     \"<div style='background-color: #fdd'>\\n\"+\n",
       "     \"<p>\\n\"+\n",
       "     \"BokehJS does not appear to have successfully loaded. If loading BokehJS from CDN, this \\n\"+\n",
       "     \"may be due to a slow or bad network connection. Possible fixes:\\n\"+\n",
       "     \"</p>\\n\"+\n",
       "     \"<ul>\\n\"+\n",
       "     \"<li>re-rerun `output_notebook()` to attempt to load from CDN again, or</li>\\n\"+\n",
       "     \"<li>use INLINE resources instead, as so:</li>\\n\"+\n",
       "     \"</ul>\\n\"+\n",
       "     \"<code>\\n\"+\n",
       "     \"from bokeh.resources import INLINE\\n\"+\n",
       "     \"output_notebook(resources=INLINE)\\n\"+\n",
       "     \"</code>\\n\"+\n",
       "     \"</div>\"}};\n",
       "\n",
       "  function display_loaded() {\n",
       "    var el = document.getElementById(\"76b4e0f4-bf88-486d-821e-dd2d2e4af480\");\n",
       "    if (el != null) {\n",
       "      el.textContent = \"BokehJS is loading...\";\n",
       "    }\n",
       "    if (root.Bokeh !== undefined) {\n",
       "      if (el != null) {\n",
       "        el.textContent = \"BokehJS \" + root.Bokeh.version + \" successfully loaded.\";\n",
       "      }\n",
       "    } else if (Date.now() < root._bokeh_timeout) {\n",
       "      setTimeout(display_loaded, 100)\n",
       "    }\n",
       "  }\n",
       "\n",
       "\n",
       "  function run_callbacks() {\n",
       "    try {\n",
       "      root._bokeh_onload_callbacks.forEach(function(callback) { callback() });\n",
       "    }\n",
       "    finally {\n",
       "      delete root._bokeh_onload_callbacks\n",
       "    }\n",
       "    console.info(\"Bokeh: all callbacks have finished\");\n",
       "  }\n",
       "\n",
       "  function load_libs(js_urls, callback) {\n",
       "    root._bokeh_onload_callbacks.push(callback);\n",
       "    if (root._bokeh_is_loading > 0) {\n",
       "      console.log(\"Bokeh: BokehJS is being loaded, scheduling callback at\", now());\n",
       "      return null;\n",
       "    }\n",
       "    if (js_urls == null || js_urls.length === 0) {\n",
       "      run_callbacks();\n",
       "      return null;\n",
       "    }\n",
       "    console.log(\"Bokeh: BokehJS not loaded, scheduling load and callback at\", now());\n",
       "    root._bokeh_is_loading = js_urls.length;\n",
       "    for (var i = 0; i < js_urls.length; i++) {\n",
       "      var url = js_urls[i];\n",
       "      var s = document.createElement('script');\n",
       "      s.src = url;\n",
       "      s.async = false;\n",
       "      s.onreadystatechange = s.onload = function() {\n",
       "        root._bokeh_is_loading--;\n",
       "        if (root._bokeh_is_loading === 0) {\n",
       "          console.log(\"Bokeh: all BokehJS libraries loaded\");\n",
       "          run_callbacks()\n",
       "        }\n",
       "      };\n",
       "      s.onerror = function() {\n",
       "        console.warn(\"failed to load library \" + url);\n",
       "      };\n",
       "      console.log(\"Bokeh: injecting script tag for BokehJS library: \", url);\n",
       "      document.getElementsByTagName(\"head\")[0].appendChild(s);\n",
       "    }\n",
       "  };var element = document.getElementById(\"76b4e0f4-bf88-486d-821e-dd2d2e4af480\");\n",
       "  if (element == null) {\n",
       "    console.log(\"Bokeh: ERROR: autoload.js configured with elementid '76b4e0f4-bf88-486d-821e-dd2d2e4af480' but no matching script tag was found. \")\n",
       "    return false;\n",
       "  }\n",
       "\n",
       "  var js_urls = [\"https://cdn.pydata.org/bokeh/release/bokeh-0.12.10.min.js\", \"https://cdn.pydata.org/bokeh/release/bokeh-widgets-0.12.10.min.js\", \"https://cdn.pydata.org/bokeh/release/bokeh-tables-0.12.10.min.js\", \"https://cdn.pydata.org/bokeh/release/bokeh-gl-0.12.10.min.js\"];\n",
       "\n",
       "  var inline_js = [\n",
       "    function(Bokeh) {\n",
       "      Bokeh.set_log_level(\"info\");\n",
       "    },\n",
       "    \n",
       "    function(Bokeh) {\n",
       "      \n",
       "    },\n",
       "    function(Bokeh) {\n",
       "      console.log(\"Bokeh: injecting CSS: https://cdn.pydata.org/bokeh/release/bokeh-0.12.10.min.css\");\n",
       "      Bokeh.embed.inject_css(\"https://cdn.pydata.org/bokeh/release/bokeh-0.12.10.min.css\");\n",
       "      console.log(\"Bokeh: injecting CSS: https://cdn.pydata.org/bokeh/release/bokeh-widgets-0.12.10.min.css\");\n",
       "      Bokeh.embed.inject_css(\"https://cdn.pydata.org/bokeh/release/bokeh-widgets-0.12.10.min.css\");\n",
       "      console.log(\"Bokeh: injecting CSS: https://cdn.pydata.org/bokeh/release/bokeh-tables-0.12.10.min.css\");\n",
       "      Bokeh.embed.inject_css(\"https://cdn.pydata.org/bokeh/release/bokeh-tables-0.12.10.min.css\");\n",
       "    }\n",
       "  ];\n",
       "\n",
       "  function run_inline_js() {\n",
       "    \n",
       "    if ((root.Bokeh !== undefined) || (force === true)) {\n",
       "      for (var i = 0; i < inline_js.length; i++) {\n",
       "        inline_js[i].call(root, root.Bokeh);\n",
       "      }if (force === true) {\n",
       "        display_loaded();\n",
       "      }} else if (Date.now() < root._bokeh_timeout) {\n",
       "      setTimeout(run_inline_js, 100);\n",
       "    } else if (!root._bokeh_failed_load) {\n",
       "      console.log(\"Bokeh: BokehJS failed to load within specified timeout.\");\n",
       "      root._bokeh_failed_load = true;\n",
       "    } else if (force !== true) {\n",
       "      var cell = $(document.getElementById(\"76b4e0f4-bf88-486d-821e-dd2d2e4af480\")).parents('.cell').data().cell;\n",
       "      cell.output_area.append_execute_result(NB_LOAD_WARNING)\n",
       "    }\n",
       "\n",
       "  }\n",
       "\n",
       "  if (root._bokeh_is_loading === 0) {\n",
       "    console.log(\"Bokeh: BokehJS loaded, going straight to plotting\");\n",
       "    run_inline_js();\n",
       "  } else {\n",
       "    load_libs(js_urls, function() {\n",
       "      console.log(\"Bokeh: BokehJS plotting callback run at\", now());\n",
       "      run_inline_js();\n",
       "    });\n",
       "  }\n",
       "}(window));"
      ],
      "application/vnd.bokehjs_load.v0+json": "\n(function(root) {\n  function now() {\n    return new Date();\n  }\n\n  var force = true;\n\n  if (typeof (root._bokeh_onload_callbacks) === \"undefined\" || force === true) {\n    root._bokeh_onload_callbacks = [];\n    root._bokeh_is_loading = undefined;\n  }\n\n  \n\n  \n  if (typeof (root._bokeh_timeout) === \"undefined\" || force === true) {\n    root._bokeh_timeout = Date.now() + 5000;\n    root._bokeh_failed_load = false;\n  }\n\n  var NB_LOAD_WARNING = {'data': {'text/html':\n     \"<div style='background-color: #fdd'>\\n\"+\n     \"<p>\\n\"+\n     \"BokehJS does not appear to have successfully loaded. If loading BokehJS from CDN, this \\n\"+\n     \"may be due to a slow or bad network connection. Possible fixes:\\n\"+\n     \"</p>\\n\"+\n     \"<ul>\\n\"+\n     \"<li>re-rerun `output_notebook()` to attempt to load from CDN again, or</li>\\n\"+\n     \"<li>use INLINE resources instead, as so:</li>\\n\"+\n     \"</ul>\\n\"+\n     \"<code>\\n\"+\n     \"from bokeh.resources import INLINE\\n\"+\n     \"output_notebook(resources=INLINE)\\n\"+\n     \"</code>\\n\"+\n     \"</div>\"}};\n\n  function display_loaded() {\n    var el = document.getElementById(\"76b4e0f4-bf88-486d-821e-dd2d2e4af480\");\n    if (el != null) {\n      el.textContent = \"BokehJS is loading...\";\n    }\n    if (root.Bokeh !== undefined) {\n      if (el != null) {\n        el.textContent = \"BokehJS \" + root.Bokeh.version + \" successfully loaded.\";\n      }\n    } else if (Date.now() < root._bokeh_timeout) {\n      setTimeout(display_loaded, 100)\n    }\n  }\n\n\n  function run_callbacks() {\n    try {\n      root._bokeh_onload_callbacks.forEach(function(callback) { callback() });\n    }\n    finally {\n      delete root._bokeh_onload_callbacks\n    }\n    console.info(\"Bokeh: all callbacks have finished\");\n  }\n\n  function load_libs(js_urls, callback) {\n    root._bokeh_onload_callbacks.push(callback);\n    if (root._bokeh_is_loading > 0) {\n      console.log(\"Bokeh: BokehJS is being loaded, scheduling callback at\", now());\n      return null;\n    }\n    if (js_urls == null || js_urls.length === 0) {\n      run_callbacks();\n      return null;\n    }\n    console.log(\"Bokeh: BokehJS not loaded, scheduling load and callback at\", now());\n    root._bokeh_is_loading = js_urls.length;\n    for (var i = 0; i < js_urls.length; i++) {\n      var url = js_urls[i];\n      var s = document.createElement('script');\n      s.src = url;\n      s.async = false;\n      s.onreadystatechange = s.onload = function() {\n        root._bokeh_is_loading--;\n        if (root._bokeh_is_loading === 0) {\n          console.log(\"Bokeh: all BokehJS libraries loaded\");\n          run_callbacks()\n        }\n      };\n      s.onerror = function() {\n        console.warn(\"failed to load library \" + url);\n      };\n      console.log(\"Bokeh: injecting script tag for BokehJS library: \", url);\n      document.getElementsByTagName(\"head\")[0].appendChild(s);\n    }\n  };var element = document.getElementById(\"76b4e0f4-bf88-486d-821e-dd2d2e4af480\");\n  if (element == null) {\n    console.log(\"Bokeh: ERROR: autoload.js configured with elementid '76b4e0f4-bf88-486d-821e-dd2d2e4af480' but no matching script tag was found. \")\n    return false;\n  }\n\n  var js_urls = [\"https://cdn.pydata.org/bokeh/release/bokeh-0.12.10.min.js\", \"https://cdn.pydata.org/bokeh/release/bokeh-widgets-0.12.10.min.js\", \"https://cdn.pydata.org/bokeh/release/bokeh-tables-0.12.10.min.js\", \"https://cdn.pydata.org/bokeh/release/bokeh-gl-0.12.10.min.js\"];\n\n  var inline_js = [\n    function(Bokeh) {\n      Bokeh.set_log_level(\"info\");\n    },\n    \n    function(Bokeh) {\n      \n    },\n    function(Bokeh) {\n      console.log(\"Bokeh: injecting CSS: https://cdn.pydata.org/bokeh/release/bokeh-0.12.10.min.css\");\n      Bokeh.embed.inject_css(\"https://cdn.pydata.org/bokeh/release/bokeh-0.12.10.min.css\");\n      console.log(\"Bokeh: injecting CSS: https://cdn.pydata.org/bokeh/release/bokeh-widgets-0.12.10.min.css\");\n      Bokeh.embed.inject_css(\"https://cdn.pydata.org/bokeh/release/bokeh-widgets-0.12.10.min.css\");\n      console.log(\"Bokeh: injecting CSS: https://cdn.pydata.org/bokeh/release/bokeh-tables-0.12.10.min.css\");\n      Bokeh.embed.inject_css(\"https://cdn.pydata.org/bokeh/release/bokeh-tables-0.12.10.min.css\");\n    }\n  ];\n\n  function run_inline_js() {\n    \n    if ((root.Bokeh !== undefined) || (force === true)) {\n      for (var i = 0; i < inline_js.length; i++) {\n        inline_js[i].call(root, root.Bokeh);\n      }if (force === true) {\n        display_loaded();\n      }} else if (Date.now() < root._bokeh_timeout) {\n      setTimeout(run_inline_js, 100);\n    } else if (!root._bokeh_failed_load) {\n      console.log(\"Bokeh: BokehJS failed to load within specified timeout.\");\n      root._bokeh_failed_load = true;\n    } else if (force !== true) {\n      var cell = $(document.getElementById(\"76b4e0f4-bf88-486d-821e-dd2d2e4af480\")).parents('.cell').data().cell;\n      cell.output_area.append_execute_result(NB_LOAD_WARNING)\n    }\n\n  }\n\n  if (root._bokeh_is_loading === 0) {\n    console.log(\"Bokeh: BokehJS loaded, going straight to plotting\");\n    run_inline_js();\n  } else {\n    load_libs(js_urls, function() {\n      console.log(\"Bokeh: BokehJS plotting callback run at\", now());\n      run_inline_js();\n    });\n  }\n}(window));"
     },
     "metadata": {},
     "output_type": "display_data"
    }
   ],
   "source": [
    "from bokeh.io import output_notebook, show\n",
    "from bokeh.plotting import figure\n",
    "output_notebook()"
   ]
  },
  {
   "cell_type": "markdown",
   "metadata": {},
   "source": [
    "# 1. Introduction"
   ]
  },
  {
   "cell_type": "markdown",
   "metadata": {},
   "source": [
    "In this project we will test the association found in the research article, *Beer Consumption Increases Human Attractiveness to Malaria Mosquitoes*, published by Thierry Lefèvre and collaborators in 2010. In this article, they study whether beer consumption could lead to more mosquitos bites. \n",
    "\n",
    "The experiment used 43 health adult males with 25 of them being randomly assigned to drink beer and 18 to drink water. They tested each volunteer twice: first without consuming anything and later after 15 minutes of drinking 1 liter of beer/water.   \n",
    "\n",
    "For this project we have data only for the number of bites after the consumption of either beer or water. Thus, we will check if people who drink beer are more likely to be bitten than those who drink water.\n",
    " \n",
    " http://journals.plos.org/plosone/article?id=10.1371/journal.pone.0009546"
   ]
  },
  {
   "cell_type": "markdown",
   "metadata": {},
   "source": [
    "# 2. The Data"
   ]
  },
  {
   "cell_type": "markdown",
   "metadata": {},
   "source": [
    "The data consists of a *csv* file (mosquitos_data.csv) with the columns:\n",
    "\n",
    "|Variable | Definition |\n",
    "|---------|------------|\n",
    "|**Response**  |\tNumber of mosquito bites |\n",
    "|**Treatment** |\tType of beverage         |"
   ]
  },
  {
   "cell_type": "code",
   "execution_count": 2,
   "metadata": {
    "collapsed": true
   },
   "outputs": [],
   "source": [
    "import pandas as pd\n",
    "from pandas import Series,DataFrame\n",
    "from pylab import *\n",
    "import numpy as np\n",
    "from numpy import nan as NA\n",
    "from numpy import *\n",
    "import matplotlib.pyplot as plt\n",
    "%matplotlib inline\n",
    "import seaborn as sns\n",
    "sns.set(color_codes=True)\n",
    "import sklearn as skl\n",
    "import math\n",
    "import random"
   ]
  },
  {
   "cell_type": "code",
   "execution_count": 3,
   "metadata": {},
   "outputs": [
    {
     "data": {
      "text/html": [
       "<div>\n",
       "<style>\n",
       "    .dataframe thead tr:only-child th {\n",
       "        text-align: right;\n",
       "    }\n",
       "\n",
       "    .dataframe thead th {\n",
       "        text-align: left;\n",
       "    }\n",
       "\n",
       "    .dataframe tbody tr th {\n",
       "        vertical-align: top;\n",
       "    }\n",
       "</style>\n",
       "<table border=\"1\" class=\"dataframe\">\n",
       "  <thead>\n",
       "    <tr style=\"text-align: right;\">\n",
       "      <th></th>\n",
       "      <th>Response</th>\n",
       "      <th>Treatment</th>\n",
       "    </tr>\n",
       "  </thead>\n",
       "  <tbody>\n",
       "    <tr>\n",
       "      <th>0</th>\n",
       "      <td>27</td>\n",
       "      <td>Beer</td>\n",
       "    </tr>\n",
       "    <tr>\n",
       "      <th>1</th>\n",
       "      <td>20</td>\n",
       "      <td>Beer</td>\n",
       "    </tr>\n",
       "    <tr>\n",
       "      <th>2</th>\n",
       "      <td>21</td>\n",
       "      <td>Beer</td>\n",
       "    </tr>\n",
       "    <tr>\n",
       "      <th>3</th>\n",
       "      <td>26</td>\n",
       "      <td>Beer</td>\n",
       "    </tr>\n",
       "    <tr>\n",
       "      <th>4</th>\n",
       "      <td>27</td>\n",
       "      <td>Beer</td>\n",
       "    </tr>\n",
       "    <tr>\n",
       "      <th>5</th>\n",
       "      <td>31</td>\n",
       "      <td>Beer</td>\n",
       "    </tr>\n",
       "    <tr>\n",
       "      <th>6</th>\n",
       "      <td>24</td>\n",
       "      <td>Beer</td>\n",
       "    </tr>\n",
       "    <tr>\n",
       "      <th>7</th>\n",
       "      <td>21</td>\n",
       "      <td>Beer</td>\n",
       "    </tr>\n",
       "    <tr>\n",
       "      <th>8</th>\n",
       "      <td>20</td>\n",
       "      <td>Beer</td>\n",
       "    </tr>\n",
       "    <tr>\n",
       "      <th>9</th>\n",
       "      <td>19</td>\n",
       "      <td>Beer</td>\n",
       "    </tr>\n",
       "  </tbody>\n",
       "</table>\n",
       "</div>"
      ],
      "text/plain": [
       "   Response Treatment\n",
       "0        27      Beer\n",
       "1        20      Beer\n",
       "2        21      Beer\n",
       "3        26      Beer\n",
       "4        27      Beer\n",
       "5        31      Beer\n",
       "6        24      Beer\n",
       "7        21      Beer\n",
       "8        20      Beer\n",
       "9        19      Beer"
      ]
     },
     "execution_count": 3,
     "metadata": {},
     "output_type": "execute_result"
    }
   ],
   "source": [
    "# Read the file mosquitos_data.csv and convert it into a data frame. \n",
    "df = pd.read_csv('mosquitos_data.csv')\n",
    "df.head(10)"
   ]
  },
  {
   "cell_type": "markdown",
   "metadata": {},
   "source": [
    "# 3. Exploratory Analysis"
   ]
  },
  {
   "cell_type": "markdown",
   "metadata": {},
   "source": [
    " We will start by looking at the distribution of bites for each group."
   ]
  },
  {
   "cell_type": "code",
   "execution_count": 4,
   "metadata": {
    "collapsed": true
   },
   "outputs": [],
   "source": [
    "# Separating each Group:\n",
    "b   = df.loc[:][df.Treatment=='Beer']  \n",
    "w = df.loc[:][df.Treatment=='Water']  "
   ]
  },
  {
   "cell_type": "code",
   "execution_count": 5,
   "metadata": {},
   "outputs": [
    {
     "data": {
      "text/plain": [
       "<matplotlib.legend.Legend at 0x7f00d8645898>"
      ]
     },
     "execution_count": 5,
     "metadata": {},
     "output_type": "execute_result"
    },
    {
     "data": {
      "image/png": "[encoded data removed]",
      "text/plain": [
       "<matplotlib.figure.Figure at 0x7f00d86458d0>"
      ]
     },
     "metadata": {},
     "output_type": "display_data"
    }
   ],
   "source": [
    "# We will plot the histogram using seaborn.\n",
    "f, ax = plt.subplots(figsize=(15, 10))\n",
    "\n",
    "sns.distplot(b.Response, bins=5,kde=False,label=\"Beer\")\n",
    "sns.distplot(w.Response,bins=5, kde=False,color='g',label=\"Water\")\n",
    "plt.xlabel('Number of Bites', fontsize=18)\n",
    "plt.ylabel('Count', fontsize=18)\n",
    "plt.legend()"
   ]
  },
  {
   "cell_type": "markdown",
   "metadata": {},
   "source": [
    "The first thing that can be noticed in the Figure above is difference between the range of number of bites for each group. While those drinking water could get as few as 12 bites, beer drinkers were bitten at least 16 times, i.e. 30% more. Similar behaviour can be seen for the maximum number of bites: while people drinking water were bitten at most 24 times, people drinking beer were bitten as many as 30 times (around 30% larger as well). "
   ]
  },
  {
   "cell_type": "code",
   "execution_count": 6,
   "metadata": {},
   "outputs": [
    {
     "data": {
      "image/png": "[encoded data removed]",
      "text/plain": [
       "<matplotlib.figure.Figure at 0x7f00d14b7c18>"
      ]
     },
     "metadata": {},
     "output_type": "display_data"
    }
   ],
   "source": [
    "# Box plot with the number of bites per treatment\n",
    "sns.factorplot('Treatment','Response',data=df,kind='box',size=10)\n",
    "plt.xlabel('Beverage', fontsize=18)\n",
    "plt.ylabel('Number of Bites', fontsize=18)\n",
    "plt.title('Number of Bites per type of beverage', fontsize=18)\n",
    "plt.legend()\n",
    "plt.show()"
   ]
  },
  {
   "cell_type": "markdown",
   "metadata": {},
   "source": [
    "The first thing to be noticed in the Figure above is that the median number of bites (represented by the black horizontal lines insides the boxes) are lower for the group drinking water (~20) than for the group drinking beer (~24). In addition, the interquartile range (represented by the box size) of the water group is lower than that of the beer group, which means that the dispersion in the number of bites is smaller for the water group. These differences could be perceived as an indication that there is an association between beer consumption and attractiveness to mosquitos. \n",
    "\n",
    "The upper and lower bars in the Figure above represents the maximum and minimum values, respectively. The Figure shows that while people in the beer group were bitten at least approximately 16 times, people in the water group were bitten as little as ~12 times. In addition, the maximum amount of times a person in the water group was bitten was ~24 times, which is very similar to the median value for the beer group and smaller than the maximum value for the beer group (~31). This behaviour strengths the argument that there is an association between beer consumption and attractiveness to mosquitos, since people in the water group appear to be less likely to be bitten. "
   ]
  },
  {
   "cell_type": "code",
   "execution_count": 7,
   "metadata": {},
   "outputs": [
    {
     "data": {
      "text/html": [
       "<div>\n",
       "<style>\n",
       "    .dataframe thead tr:only-child th {\n",
       "        text-align: right;\n",
       "    }\n",
       "\n",
       "    .dataframe thead th {\n",
       "        text-align: left;\n",
       "    }\n",
       "\n",
       "    .dataframe tbody tr th {\n",
       "        vertical-align: top;\n",
       "    }\n",
       "</style>\n",
       "<table border=\"1\" class=\"dataframe\">\n",
       "  <thead>\n",
       "    <tr style=\"text-align: right;\">\n",
       "      <th></th>\n",
       "      <th>mean</th>\n",
       "      <th>median</th>\n",
       "      <th>std</th>\n",
       "    </tr>\n",
       "    <tr>\n",
       "      <th>Treatment</th>\n",
       "      <th></th>\n",
       "      <th></th>\n",
       "      <th></th>\n",
       "    </tr>\n",
       "  </thead>\n",
       "  <tbody>\n",
       "    <tr>\n",
       "      <th>Beer</th>\n",
       "      <td>23.600000</td>\n",
       "      <td>24</td>\n",
       "      <td>4.133199</td>\n",
       "    </tr>\n",
       "    <tr>\n",
       "      <th>Water</th>\n",
       "      <td>19.222222</td>\n",
       "      <td>20</td>\n",
       "      <td>3.671120</td>\n",
       "    </tr>\n",
       "  </tbody>\n",
       "</table>\n",
       "</div>"
      ],
      "text/plain": [
       "                mean  median       std\n",
       "Treatment                             \n",
       "Beer       23.600000      24  4.133199\n",
       "Water      19.222222      20  3.671120"
      ]
     },
     "execution_count": 7,
     "metadata": {},
     "output_type": "execute_result"
    }
   ],
   "source": [
    "# Using pivot tables to calculate the median, mean, \n",
    "# and standard deviation for each group\n",
    "df.pivot_table(index='Treatment',\n",
    "             values='Response', aggfunc={'median','mean','std'})"
   ]
  },
  {
   "cell_type": "markdown",
   "metadata": {},
   "source": [
    "# 4. Testing the robustness of the difference between the two groups"
   ]
  },
  {
   "cell_type": "markdown",
   "metadata": {},
   "source": [
    "We will check whether the difference between the average number of bites for the beer and water groups is real if it occurred by chance. "
   ]
  },
  {
   "cell_type": "markdown",
   "metadata": {},
   "source": [
    "### 4.1 Random Permutation"
   ]
  },
  {
   "cell_type": "markdown",
   "metadata": {},
   "source": [
    "In this first part we will use random permutation to swap elements between the two groups and recalculate the means. \n",
    "\n",
    "The Figure below ilustrastes the technique we will apply. The box in the upper left side contains the number of bites for each person who drank beer and the box in the upper right side contains the number fo bites for the water group. For each group the mean value was initially calculated. As shown above, the difference between this two means is 4.38. \n",
    "\n",
    "For the random permutation test, we take **n** random elements (in the example below, 5) from each group and re-assign them to the other group.A new mean is, then, calculated for the 2 new beer and water groups. We will do this process at least 10 thousand times in order to check the probability that the initial mean, 4.38, occurred by chance. \n",
    "\n",
    "There are 18 people who drank water in the experiment. For this reason, in our first calculation we will swap a random number, between 1 and 18, of elements for each iteration. "
   ]
  },
  {
   "cell_type": "markdown",
   "metadata": {},
   "source": [
    "![title](beer_water_perm.jpg)"
   ]
  },
  {
   "cell_type": "code",
   "execution_count": 8,
   "metadata": {},
   "outputs": [
    {
     "name": "stderr",
     "output_type": "stream",
     "text": [
      "/home/monique/anaconda2/envs/py36/lib/python3.6/site-packages/pandas/core/indexing.py:179: SettingWithCopyWarning: \n",
      "A value is trying to be set on a copy of a slice from a DataFrame\n",
      "\n",
      "See the caveats in the documentation: http://pandas.pydata.org/pandas-docs/stable/indexing.html#indexing-view-versus-copy\n",
      "  self._setitem_with_indexer(indexer, value)\n"
     ]
    }
   ],
   "source": [
    "diff_a=[]\n",
    "for i in range(0,10000):\n",
    "    per=random.randint(1,18) \n",
    "    # Randomly select k elements from the water group\n",
    "    indw=random.sample(list(df.loc[:][df.Treatment=='Water'].index),k=per)\n",
    "    # Randomly select k elements from the beer group\n",
    "    indb=random.sample(list(df.loc[:][df.Treatment=='Beer'].index),k=per)\n",
    "    df2=df.copy()\n",
    "    # Swap the labels\n",
    "    df2.Treatment.iloc[indw]='Beer'\n",
    "    df2.Treatment.iloc[indb]='Water'\n",
    "    # Calculate the difference between the means\n",
    "    diff=mean(df2.loc[:][df2.Treatment=='Beer'])-mean(df2.loc[:][df2.Treatment=='Water'])\n",
    "    # Add the difference to a list\n",
    "    diff_a.append(diff.Response)\n",
    "#    print(i)"
   ]
  },
  {
   "cell_type": "code",
   "execution_count": 9,
   "metadata": {},
   "outputs": [
    {
     "data": {
      "image/png": "[encoded data removed]",
      "text/plain": [
       "<matplotlib.figure.Figure at 0x7f00d13febe0>"
      ]
     },
     "metadata": {},
     "output_type": "display_data"
    }
   ],
   "source": [
    "# Plotting the distribution of difference between means:\n",
    "diff_o=mean(df.loc[:][df.Treatment=='Beer'])-mean(df.loc[:][df.Treatment=='Water'])\n",
    "yy=[0.0,800.0]\n",
    "xx=[diff_o,diff_o]\n",
    "f, ax = plt.subplots(figsize=(15, 10))\n",
    "sns.distplot(diff_a, bins=30, kde=False)\n",
    "plt.plot(xx,yy,'r')\n",
    "ax.set_ylabel('Count',fontsize=18)\n",
    "ax.set_xlabel('Mean(Beer)-Mean(Water)',fontsize=18)\n",
    "ax.set_title('Difference between the mean number of bites between groups',fontsize=18)\n",
    "ax.set_ylim(0,800)\n",
    "plt.show()"
   ]
  },
  {
   "cell_type": "markdown",
   "metadata": {},
   "source": [
    "The Figure above shows the distribution of differences calculated for 10000 iterations of random permutation performed on the mosquito bites data. The red line shows the difference between the mean values for the beer and water groups for the original data. As it can be seen from this Figure, the value in red is not achieved by the majority (~98% of the sample) of the mixed sample, showing that the difference between means for the original data did not happen by chance. The large spread in the distribution is related do the random selection of the number of observations being swapped in each iteration. "
   ]
  },
  {
   "cell_type": "code",
   "execution_count": 10,
   "metadata": {},
   "outputs": [
    {
     "data": {
      "text/plain": [
       "0.0247"
      ]
     },
     "execution_count": 10,
     "metadata": {},
     "output_type": "execute_result"
    }
   ],
   "source": [
    "# Calculating the fraction of observations larger than the original difference between means\n",
    "per_r  = pd.Series(diff_a)\n",
    "pval_r = per_r[per_r >= 4.38]\n",
    "len(pval_r)/len(per_r)\n"
   ]
  },
  {
   "cell_type": "markdown",
   "metadata": {},
   "source": [
    "#### 4.1.1 Choosing fixed values for the number of swapped elements"
   ]
  },
  {
   "cell_type": "markdown",
   "metadata": {},
   "source": [
    "In this part we will perform the same technique performed before, but for a fixed number of swapped elements."
   ]
  },
  {
   "cell_type": "code",
   "execution_count": 11,
   "metadata": {
    "collapsed": true
   },
   "outputs": [],
   "source": [
    "# Defining function\n",
    "def perm(data,per,ar_ou):\n",
    "    for i in range(0,10000):\n",
    "    \n",
    "        # Randomly select k elements from the water group\n",
    "        indw=random.sample(list(data.loc[:][data.Treatment=='Water'].index),k=per)\n",
    "        # Randomly select k elements from the beer group\n",
    "        indb=random.sample(list(data.loc[:][data.Treatment=='Beer'].index),k=per)\n",
    "        df2=data.copy()\n",
    "        # Swap the labels\n",
    "        df2.Treatment.iloc[indw]='Beer'\n",
    "        df2.Treatment.iloc[indb]='Water'\n",
    "        # Calculate the difference between the means\n",
    "        diff=mean(df2.loc[:][df2.Treatment=='Beer'])-mean(df2.loc[:][df2.Treatment=='Water'])\n",
    "        # Add the difference to a list\n",
    "        ar_ou.append(diff.Response)\n",
    "#        print(i)"
   ]
  },
  {
   "cell_type": "markdown",
   "metadata": {},
   "source": [
    "Swapping **two** elements:"
   ]
  },
  {
   "cell_type": "code",
   "execution_count": 12,
   "metadata": {},
   "outputs": [
    {
     "name": "stderr",
     "output_type": "stream",
     "text": [
      "/home/monique/anaconda2/envs/py36/lib/python3.6/site-packages/pandas/core/indexing.py:179: SettingWithCopyWarning: \n",
      "A value is trying to be set on a copy of a slice from a DataFrame\n",
      "\n",
      "See the caveats in the documentation: http://pandas.pydata.org/pandas-docs/stable/indexing.html#indexing-view-versus-copy\n",
      "  self._setitem_with_indexer(indexer, value)\n"
     ]
    }
   ],
   "source": [
    "# Call the function for k=2\n",
    "diff_2=[]\n",
    "perm(df,2,diff_2)"
   ]
  },
  {
   "cell_type": "code",
   "execution_count": 13,
   "metadata": {},
   "outputs": [
    {
     "data": {
      "image/png": "[encoded data removed]",
      "text/plain": [
       "<matplotlib.figure.Figure at 0x7f00d13f2780>"
      ]
     },
     "metadata": {},
     "output_type": "display_data"
    }
   ],
   "source": [
    "yy=[0.0,1500.0]\n",
    "xx=[diff_o,diff_o]\n",
    "f, ax = plt.subplots(figsize=(15, 10))\n",
    "sns.distplot(diff_2, bins=20, kde=False)\n",
    "plt.plot(xx,yy,'r')\n",
    "ax.set_ylabel('Count',fontsize=18)\n",
    "ax.set_xlabel('Mean(Beer)-Mean(Water)',fontsize=18)\n",
    "ax.set_title('k=2',fontsize=18)\n",
    "ax.set_ylim(0,1500)\n",
    "plt.show()"
   ]
  },
  {
   "cell_type": "code",
   "execution_count": 14,
   "metadata": {},
   "outputs": [
    {
     "data": {
      "text/plain": [
       "0.1061"
      ]
     },
     "execution_count": 14,
     "metadata": {},
     "output_type": "execute_result"
    }
   ],
   "source": [
    "# Calculating the fraction of observations larger than the original difference between means\n",
    "per_2  = pd.Series(diff_2)\n",
    "pval_2 = per_2[per_2 >= 4.38]\n",
    "len(pval_2)/len(per_2)\n"
   ]
  },
  {
   "cell_type": "markdown",
   "metadata": {},
   "source": [
    "The Figure above shows 10000 iterations swaping only two observations. Differently from the previous case, when only two elements are swaped, the original value falls within the 2 sigma region. It is clear that swaping only 2 elements does not change significantly the nature of the two groups. Thus, a larger amount of permutations is necessary to test if the original mean is real or happens by chance."
   ]
  },
  {
   "cell_type": "markdown",
   "metadata": {},
   "source": [
    "Swapping **nine** elements:"
   ]
  },
  {
   "cell_type": "code",
   "execution_count": 15,
   "metadata": {},
   "outputs": [
    {
     "name": "stderr",
     "output_type": "stream",
     "text": [
      "/home/monique/anaconda2/envs/py36/lib/python3.6/site-packages/pandas/core/indexing.py:179: SettingWithCopyWarning: \n",
      "A value is trying to be set on a copy of a slice from a DataFrame\n",
      "\n",
      "See the caveats in the documentation: http://pandas.pydata.org/pandas-docs/stable/indexing.html#indexing-view-versus-copy\n",
      "  self._setitem_with_indexer(indexer, value)\n"
     ]
    }
   ],
   "source": [
    "# Call the function for k=9\n",
    "diff_9=[]\n",
    "perm(df,9,diff_9)"
   ]
  },
  {
   "cell_type": "code",
   "execution_count": 16,
   "metadata": {},
   "outputs": [
    {
     "data": {
      "image/png": "[encoded data removed]",
      "text/plain": [
       "<matplotlib.figure.Figure at 0x7f00d1125940>"
      ]
     },
     "metadata": {},
     "output_type": "display_data"
    }
   ],
   "source": [
    "yy=[0.0,1800.0]\n",
    "xx=[diff_o,diff_o]\n",
    "f, ax = plt.subplots(figsize=(15, 10))\n",
    "sns.distplot(diff_9, bins=20, kde=False)\n",
    "plt.plot(xx,yy,'r')\n",
    "ax.set_ylabel('Count',fontsize=18)\n",
    "ax.set_xlabel('Mean(Beer)-Mean(Water)',fontsize=18)\n",
    "ax.set_title('k=9',fontsize=18)\n",
    "ax.set_ylim(0,1800)\n",
    "plt.show()"
   ]
  },
  {
   "cell_type": "code",
   "execution_count": 17,
   "metadata": {},
   "outputs": [
    {
     "data": {
      "text/plain": [
       "0.0006"
      ]
     },
     "execution_count": 17,
     "metadata": {},
     "output_type": "execute_result"
    }
   ],
   "source": [
    "# Calculating the fraction of observations larger than the original difference between means\n",
    "per_9  = pd.Series(diff_9)\n",
    "pval_9 = per_9[per_9 >= 4.38]\n",
    "len(pval_9)/len(per_9)"
   ]
  },
  {
   "cell_type": "markdown",
   "metadata": {},
   "source": [
    "The Figure above shows the distribution of means calculated for 10000 runs of random permutation technique when swaping 9 observations. The red line shows the difference between the mean values for the beer and water groups for the original data. As it can be seen from this Figure, the value in red is not achieved by the vast majority (>99.9%) of the mixed sample, showing that the difference between mean for the original data is real. \n",
    "\n",
    "This p-value is very similar to the value if a t-test is applied. \n",
    "\n",
    "In order to perform a t-test we will first formulate the null and alternative hypothesis.\n",
    "\n",
    "H0: There is no difference between the means.\n",
    "\n",
    "HA: There is a difference between the means and it is larger than 0.\n",
    "\n",
    "The t-score can be estimated by:\n",
    "$$t=\\frac{4.38-0}{1.95}=3.66$$\n",
    "\n",
    "where 4.38 is the difference between the two means and 1.95 is the standard error calculated from\n",
    "\n",
    "$$SE=\\sqrt{\\frac{\\sigma_{1}^{2}}{n_{1}}+\\frac{\\sigma_{2}^{2}}{n_{2}}}$$\n",
    "\n",
    "From t-probability table and using df=17 below we can see that the p-value is between 0.0005 and 0.001 which is very similar to what we found in the simulation above.\n",
    "\n",
    "![title](t_table_s.jpg)\n",
    "\n",
    "The 95% confidence interval for the mean is [2.30,6.43]."
   ]
  },
  {
   "cell_type": "markdown",
   "metadata": {},
   "source": [
    "Swaping **All** elements:"
   ]
  },
  {
   "cell_type": "code",
   "execution_count": 18,
   "metadata": {},
   "outputs": [
    {
     "name": "stderr",
     "output_type": "stream",
     "text": [
      "/home/monique/anaconda2/envs/py36/lib/python3.6/site-packages/pandas/core/indexing.py:179: SettingWithCopyWarning: \n",
      "A value is trying to be set on a copy of a slice from a DataFrame\n",
      "\n",
      "See the caveats in the documentation: http://pandas.pydata.org/pandas-docs/stable/indexing.html#indexing-view-versus-copy\n",
      "  self._setitem_with_indexer(indexer, value)\n"
     ]
    }
   ],
   "source": [
    "# Call the function for k=18\n",
    "diff_18=[]\n",
    "perm(df,18,diff_18)"
   ]
  },
  {
   "cell_type": "code",
   "execution_count": 19,
   "metadata": {},
   "outputs": [
    {
     "data": {
      "image/png": "[encoded data removed]",
      "text/plain": [
       "<matplotlib.figure.Figure at 0x7f00d0513630>"
      ]
     },
     "metadata": {},
     "output_type": "display_data"
    }
   ],
   "source": [
    "yy=[0.0,1800.0]\n",
    "xx=[diff_o,diff_o]\n",
    "f, ax = plt.subplots(figsize=(15, 10))\n",
    "sns.distplot(diff_18, bins=20, kde=False)\n",
    "plt.plot(xx,yy,'r')\n",
    "plt.plot([-4.38,-4.38],yy,'g')\n",
    "ax.set_ylabel('Count',fontsize=18)\n",
    "ax.set_xlabel('Mean(Beer)-Mean(Water)',fontsize=18)\n",
    "ax.set_title('k=18',fontsize=18)\n",
    "ax.set_ylim(0,1800)\n",
    "plt.show()"
   ]
  },
  {
   "cell_type": "markdown",
   "metadata": {},
   "source": [
    "The Figure above shows 10000 iterations of random permutation between the two samples when swaping all elements of the *Water* sample. Swaping all elements has a similar effect as swaping only 2 elements (the nature of the groups is not significantly changed), except that, in this case, the distributions of differences is shifted to the negative region.  "
   ]
  },
  {
   "cell_type": "markdown",
   "metadata": {},
   "source": [
    "#### 4.1.2 Shuffle the sample and split into two groups"
   ]
  },
  {
   "cell_type": "markdown",
   "metadata": {},
   "source": [
    "In this test we will group the entire sample in one with 43 elements, shuffle this sample and separate in one group of 25 elements and another of 18."
   ]
  },
  {
   "cell_type": "code",
   "execution_count": 20,
   "metadata": {},
   "outputs": [],
   "source": [
    "diff_sh=[]\n",
    "for i in range(0,10000):\n",
    "    df2=df.copy()     \n",
    "    nt=random.sample(list(df2.Response),k=len(df2)) \n",
    "    diff=mean(nt[0:25])-mean(nt[24:43])\n",
    "    # Add the difference to a list\n",
    "    diff_sh.append(diff)\n",
    "#    print(i)"
   ]
  },
  {
   "cell_type": "code",
   "execution_count": 21,
   "metadata": {},
   "outputs": [
    {
     "data": {
      "image/png": "[encoded data removed]",
      "text/plain": [
       "<matplotlib.figure.Figure at 0x7f00cf8f1128>"
      ]
     },
     "metadata": {},
     "output_type": "display_data"
    }
   ],
   "source": [
    "yy=[0.0,1800.0]\n",
    "xx=[diff_o,diff_o]\n",
    "f, ax = plt.subplots(figsize=(15, 10))\n",
    "sns.distplot(diff_sh, bins=20, kde=False)\n",
    "plt.plot(xx,yy,'r')\n",
    "ax.set_ylabel('Count',fontsize=18)\n",
    "ax.set_xlabel('Mean(Beer)-Mean(Water)',fontsize=18)\n",
    "ax.set_title('Shuffle',fontsize=18)\n",
    "ax.set_ylim(0,1800)\n",
    "plt.show()"
   ]
  },
  {
   "cell_type": "code",
   "execution_count": 22,
   "metadata": {},
   "outputs": [
    {
     "data": {
      "text/plain": [
       "0.0002"
      ]
     },
     "execution_count": 22,
     "metadata": {},
     "output_type": "execute_result"
    }
   ],
   "source": [
    "# Calculating the fraction of observations larger than the original difference between means\n",
    "per_sh  = pd.Series(diff_sh)\n",
    "pval_sh = per_sh[per_sh >= 4.38]\n",
    "len(pval_sh)/len(per_sh)"
   ]
  },
  {
   "cell_type": "markdown",
   "metadata": {},
   "source": [
    "As seen in the permutation case, a simple shuffle and division into two groups shows that the chance of this difference between means to happen by chance is really small. "
   ]
  },
  {
   "cell_type": "markdown",
   "metadata": {},
   "source": [
    "### 4.2 Bootstrapping"
   ]
  },
  {
   "cell_type": "markdown",
   "metadata": {},
   "source": [
    "For the sake of completion we will test the bootstrapping technique in which the sampling has replacement."
   ]
  },
  {
   "cell_type": "code",
   "execution_count": 23,
   "metadata": {
    "scrolled": true
   },
   "outputs": [
    {
     "name": "stderr",
     "output_type": "stream",
     "text": [
      "/home/monique/anaconda2/envs/py36/lib/python3.6/site-packages/pandas/core/indexing.py:179: SettingWithCopyWarning: \n",
      "A value is trying to be set on a copy of a slice from a DataFrame\n",
      "\n",
      "See the caveats in the documentation: http://pandas.pydata.org/pandas-docs/stable/indexing.html#indexing-view-versus-copy\n",
      "  self._setitem_with_indexer(indexer, value)\n"
     ]
    }
   ],
   "source": [
    "diff_bt=[]\n",
    "for i in range(0,10000):\n",
    "    df2=df.copy()     \n",
    "    indb=random.choices(list(df[0:25].index),k=25) \n",
    "    indw=random.choices(list(df[25:43].index),k=18) \n",
    "    df2.Treatment.iloc[indw]='Beer'\n",
    "    df2.Treatment.iloc[indb]='Water'\n",
    "    # Calculate the difference between the means\n",
    "    diff=mean(df2.loc[:][df2.Treatment=='Beer'])-mean(df2.loc[:][df2.Treatment=='Water'])\n",
    "    # Add the difference to a list\n",
    "    diff_bt.append(diff.Response)\n",
    "#    print(i)"
   ]
  },
  {
   "cell_type": "code",
   "execution_count": 24,
   "metadata": {},
   "outputs": [
    {
     "data": {
      "image/png": "[encoded data removed]",
      "text/plain": [
       "<matplotlib.figure.Figure at 0x7f00e362ab38>"
      ]
     },
     "metadata": {},
     "output_type": "display_data"
    }
   ],
   "source": [
    "yy=[0.0,1800.0]\n",
    "xx=[diff_o,diff_o]\n",
    "f, ax = plt.subplots(figsize=(15, 10))\n",
    "sns.distplot(diff_bt, bins=20, kde=False)\n",
    "plt.plot(xx,yy,'r')\n",
    "ax.set_ylabel('Count',fontsize=18)\n",
    "ax.set_xlabel('Mean(Beer)-Mean(Water)',fontsize=18)\n",
    "ax.set_title('Bootstrapping',fontsize=18)\n",
    "ax.set_ylim(0,1800)\n",
    "plt.show()"
   ]
  },
  {
   "cell_type": "code",
   "execution_count": 25,
   "metadata": {},
   "outputs": [
    {
     "data": {
      "text/plain": [
       "0.0"
      ]
     },
     "execution_count": 25,
     "metadata": {},
     "output_type": "execute_result"
    }
   ],
   "source": [
    "# Calculating the fraction of observations larger than the original difference between means\n",
    "per_bt  = pd.Series(diff_bt)\n",
    "pval_bt = per_sh[per_bt >= 4.38]\n",
    "len(pval_bt)/len(per_bt)"
   ]
  },
  {
   "cell_type": "markdown",
   "metadata": {},
   "source": [
    "The boostrapping approach confirms what all others did: The difference between the means is real!"
   ]
  },
  {
   "cell_type": "markdown",
   "metadata": {},
   "source": [
    "# 5. Conclusion"
   ]
  },
  {
   "cell_type": "markdown",
   "metadata": {},
   "source": [
    "In this project we have used the data from the 2010 article *Beer Consumption Increases Human Attractiveness to Malaria Mosquitoes* to test the hypothesis that people who drink beer are more attractive to mosquitoes. \n",
    "\n",
    "The sample consists of 43 individuals randomly divided in two groups: one that consumed beer (25 individuals) and one that consumed water (18 individuals).\n",
    "\n",
    "The exploratory analysis showed that the group that drank beer has, on average, 4.38 more bites than the other group. In addition, while on one hand a person in the water group has been bitten at most 24 times and in the beer group 31 times, on the other hand, a person in the beer group has been bitten at least 16 times and in the water group as little as 12 times. \n",
    "\n",
    "This simple exploratory analysis leads to the conclusion that, indeed, beer consumption increases attactiveness to mosquitoes. \n",
    "\n",
    "In order to test whether this conclusion is true or that the difference of 4.38 between the average number of bites found happened by chance, several simulations were performed. \n",
    "\n",
    "First, 10000 random permutation between individuals of the two groups were performed and the result showed that, even if a random number of elements were permuted each time, the chance of the value 4.38 appearing by chance is really small (section 4.1 and subsection 4.1.1).\n",
    "\n",
    "Another test consisted in shuffling the entire sample and, then, dividing it in 2 groups of 25 and 18 samples. Again, the change of the difference between the means to be equal to 4.38 is really small, with p-value equal to 0.0002 (subsection 4.1.2).\n",
    "\n",
    "The third test was boostrapping. In the boostrapping case, 25 elements, with replacement, are drawn from the beer group and 18 elements, with replacement, are drawn from the water group. Again, we find that a difference equal to 4.38 almost never happens in a randomly selected sample (section 4.2). \n",
    "\n",
    "We also used the classic t-test to find the p-value of the alternative hypothesis (diff > 0) and the 95% confidence level for the difference between the average values. As seen in subsection 4.1.1, the p-value of the t-test under the null hypothesis that the difference between the means is zero falls between 0.0005 and 0.001 (much smaller than 0.05). This confirms that the null hypothesis can be rejected. Furthermore, the 95% confidence level for the true value of the difference between the means is [2.30,6.34].\n",
    "\n",
    "So, there you go, if you drink beer and are travelling to a place where there are Malaria mosquitoes do not forget to vaccinate and use insect repellent, because your chances of being bitten is larger. ;)\n"
   ]
  }
 ],
 "metadata": {
  "kernelspec": {
   "display_name": "Python 3",
   "language": "python",
   "name": "python3"
  },
  "language_info": {
   "codemirror_mode": {
    "name": "ipython",
    "version": 3
   },
   "file_extension": ".py",
   "mimetype": "text/x-python",
   "name": "python",
   "nbconvert_exporter": "python",
   "pygments_lexer": "ipython3",
   "version": "3.6.3"
  }
 },
 "nbformat": 4,
 "nbformat_minor": 2
}
