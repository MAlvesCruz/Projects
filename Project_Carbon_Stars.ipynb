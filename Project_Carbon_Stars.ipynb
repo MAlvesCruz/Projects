{
 "cells": [
  {
   "cell_type": "markdown",
   "metadata": {},
   "source": [
    "# Project Carbon Stars"
   ]
  },
  {
   "cell_type": "code",
   "execution_count": 1,
   "metadata": {},
   "outputs": [
    {
     "data": {
      "text/html": [
       "\n",
       "    <div class=\"bk-root\">\n",
       "        <a href=\"https://bokeh.pydata.org\" target=\"_blank\" class=\"bk-logo bk-logo-small bk-logo-notebook\"></a>\n",
       "        <span id=\"2a46187a-87fa-457a-bc53-c72b39924081\">Loading BokehJS ...</span>\n",
       "    </div>"
      ]
     },
     "metadata": {},
     "output_type": "display_data"
    },
    {
     "data": {
      "application/javascript": [
       "\n",
       "(function(root) {\n",
       "  function now() {\n",
       "    return new Date();\n",
       "  }\n",
       "\n",
       "  var force = true;\n",
       "\n",
       "  if (typeof (root._bokeh_onload_callbacks) === \"undefined\" || force === true) {\n",
       "    root._bokeh_onload_callbacks = [];\n",
       "    root._bokeh_is_loading = undefined;\n",
       "  }\n",
       "\n",
       "  var JS_MIME_TYPE = 'application/javascript';\n",
       "  var HTML_MIME_TYPE = 'text/html';\n",
       "  var EXEC_MIME_TYPE = 'application/vnd.bokehjs_exec.v0+json';\n",
       "  var CLASS_NAME = 'output_bokeh rendered_html';\n",
       "\n",
       "  /**\n",
       "   * Render data to the DOM node\n",
       "   */\n",
       "  function render(props, node) {\n",
       "    var script = document.createElement(\"script\");\n",
       "    node.appendChild(script);\n",
       "  }\n",
       "\n",
       "  /**\n",
       "   * Handle when an output is cleared or removed\n",
       "   */\n",
       "  function handleClearOutput(event, handle) {\n",
       "    var cell = handle.cell;\n",
       "\n",
       "    var id = cell.output_area._bokeh_element_id;\n",
       "    var server_id = cell.output_area._bokeh_server_id;\n",
       "    // Clean up Bokeh references\n",
       "    if (id != null && id in Bokeh.index) {\n",
       "      Bokeh.index[id].model.document.clear();\n",
       "      delete Bokeh.index[id];\n",
       "    }\n",
       "\n",
       "    if (server_id !== undefined) {\n",
       "      // Clean up Bokeh references\n",
       "      var cmd = \"from bokeh.io.state import curstate; print(curstate().uuid_to_server['\" + server_id + \"'].get_sessions()[0].document.roots[0]._id)\";\n",
       "      cell.notebook.kernel.execute(cmd, {\n",
       "        iopub: {\n",
       "          output: function(msg) {\n",
       "            var id = msg.content.text.trim();\n",
       "            if (id in Bokeh.index) {\n",
       "              Bokeh.index[id].model.document.clear();\n",
       "              delete Bokeh.index[id];\n",
       "            }\n",
       "          }\n",
       "        }\n",
       "      });\n",
       "      // Destroy server and session\n",
       "      var cmd = \"import bokeh.io.notebook as ion; ion.destroy_server('\" + server_id + \"')\";\n",
       "      cell.notebook.kernel.execute(cmd);\n",
       "    }\n",
       "  }\n",
       "\n",
       "  /**\n",
       "   * Handle when a new output is added\n",
       "   */\n",
       "  function handleAddOutput(event, handle) {\n",
       "    var output_area = handle.output_area;\n",
       "    var output = handle.output;\n",
       "\n",
       "    // limit handleAddOutput to display_data with EXEC_MIME_TYPE content only\n",
       "    if ((output.output_type != \"display_data\") || (!output.data.hasOwnProperty(EXEC_MIME_TYPE))) {\n",
       "      return\n",
       "    }\n",
       "\n",
       "    var toinsert = output_area.element.find(\".\" + CLASS_NAME.split(' ')[0]);\n",
       "\n",
       "    if (output.metadata[EXEC_MIME_TYPE][\"id\"] !== undefined) {\n",
       "      toinsert[toinsert.length - 1].firstChild.textContent = output.data[JS_MIME_TYPE];\n",
       "      // store reference to embed id on output_area\n",
       "      output_area._bokeh_element_id = output.metadata[EXEC_MIME_TYPE][\"id\"];\n",
       "    }\n",
       "    if (output.metadata[EXEC_MIME_TYPE][\"server_id\"] !== undefined) {\n",
       "      var bk_div = document.createElement(\"div\");\n",
       "      bk_div.innerHTML = output.data[HTML_MIME_TYPE];\n",
       "      var script_attrs = bk_div.children[0].attributes;\n",
       "      for (var i = 0; i < script_attrs.length; i++) {\n",
       "        toinsert[toinsert.length - 1].firstChild.setAttribute(script_attrs[i].name, script_attrs[i].value);\n",
       "      }\n",
       "      // store reference to server id on output_area\n",
       "      output_area._bokeh_server_id = output.metadata[EXEC_MIME_TYPE][\"server_id\"];\n",
       "    }\n",
       "  }\n",
       "\n",
       "  function register_renderer(events, OutputArea) {\n",
       "\n",
       "    function append_mime(data, metadata, element) {\n",
       "      // create a DOM node to render to\n",
       "      var toinsert = this.create_output_subarea(\n",
       "        metadata,\n",
       "        CLASS_NAME,\n",
       "        EXEC_MIME_TYPE\n",
       "      );\n",
       "      this.keyboard_manager.register_events(toinsert);\n",
       "      // Render to node\n",
       "      var props = {data: data, metadata: metadata[EXEC_MIME_TYPE]};\n",
       "      render(props, toinsert[toinsert.length - 1]);\n",
       "      element.append(toinsert);\n",
       "      return toinsert\n",
       "    }\n",
       "\n",
       "    /* Handle when an output is cleared or removed */\n",
       "    events.on('clear_output.CodeCell', handleClearOutput);\n",
       "    events.on('delete.Cell', handleClearOutput);\n",
       "\n",
       "    /* Handle when a new output is added */\n",
       "    events.on('output_added.OutputArea', handleAddOutput);\n",
       "\n",
       "    /**\n",
       "     * Register the mime type and append_mime function with output_area\n",
       "     */\n",
       "    OutputArea.prototype.register_mime_type(EXEC_MIME_TYPE, append_mime, {\n",
       "      /* Is output safe? */\n",
       "      safe: true,\n",
       "      /* Index of renderer in `output_area.display_order` */\n",
       "      index: 0\n",
       "    });\n",
       "  }\n",
       "\n",
       "  // register the mime type if in Jupyter Notebook environment and previously unregistered\n",
       "  if (root.Jupyter !== undefined) {\n",
       "    var events = require('base/js/events');\n",
       "    var OutputArea = require('notebook/js/outputarea').OutputArea;\n",
       "\n",
       "    if (OutputArea.prototype.mime_types().indexOf(EXEC_MIME_TYPE) == -1) {\n",
       "      register_renderer(events, OutputArea);\n",
       "    }\n",
       "  }\n",
       "\n",
       "  \n",
       "  if (typeof (root._bokeh_timeout) === \"undefined\" || force === true) {\n",
       "    root._bokeh_timeout = Date.now() + 5000;\n",
       "    root._bokeh_failed_load = false;\n",
       "  }\n",
       "\n",
       "  var NB_LOAD_WARNING = {'data': {'text/html':\n",
       "     \"<div style='background-color: #fdd'>\\n\"+\n",
       "     \"<p>\\n\"+\n",
       "     \"BokehJS does not appear to have successfully loaded. If loading BokehJS from CDN, this \\n\"+\n",
       "     \"may be due to a slow or bad network connection. Possible fixes:\\n\"+\n",
       "     \"</p>\\n\"+\n",
       "     \"<ul>\\n\"+\n",
       "     \"<li>re-rerun `output_notebook()` to attempt to load from CDN again, or</li>\\n\"+\n",
       "     \"<li>use INLINE resources instead, as so:</li>\\n\"+\n",
       "     \"</ul>\\n\"+\n",
       "     \"<code>\\n\"+\n",
       "     \"from bokeh.resources import INLINE\\n\"+\n",
       "     \"output_notebook(resources=INLINE)\\n\"+\n",
       "     \"</code>\\n\"+\n",
       "     \"</div>\"}};\n",
       "\n",
       "  function display_loaded() {\n",
       "    var el = document.getElementById(\"2a46187a-87fa-457a-bc53-c72b39924081\");\n",
       "    if (el != null) {\n",
       "      el.textContent = \"BokehJS is loading...\";\n",
       "    }\n",
       "    if (root.Bokeh !== undefined) {\n",
       "      if (el != null) {\n",
       "        el.textContent = \"BokehJS \" + root.Bokeh.version + \" successfully loaded.\";\n",
       "      }\n",
       "    } else if (Date.now() < root._bokeh_timeout) {\n",
       "      setTimeout(display_loaded, 100)\n",
       "    }\n",
       "  }\n",
       "\n",
       "\n",
       "  function run_callbacks() {\n",
       "    try {\n",
       "      root._bokeh_onload_callbacks.forEach(function(callback) { callback() });\n",
       "    }\n",
       "    finally {\n",
       "      delete root._bokeh_onload_callbacks\n",
       "    }\n",
       "    console.info(\"Bokeh: all callbacks have finished\");\n",
       "  }\n",
       "\n",
       "  function load_libs(js_urls, callback) {\n",
       "    root._bokeh_onload_callbacks.push(callback);\n",
       "    if (root._bokeh_is_loading > 0) {\n",
       "      console.log(\"Bokeh: BokehJS is being loaded, scheduling callback at\", now());\n",
       "      return null;\n",
       "    }\n",
       "    if (js_urls == null || js_urls.length === 0) {\n",
       "      run_callbacks();\n",
       "      return null;\n",
       "    }\n",
       "    console.log(\"Bokeh: BokehJS not loaded, scheduling load and callback at\", now());\n",
       "    root._bokeh_is_loading = js_urls.length;\n",
       "    for (var i = 0; i < js_urls.length; i++) {\n",
       "      var url = js_urls[i];\n",
       "      var s = document.createElement('script');\n",
       "      s.src = url;\n",
       "      s.async = false;\n",
       "      s.onreadystatechange = s.onload = function() {\n",
       "        root._bokeh_is_loading--;\n",
       "        if (root._bokeh_is_loading === 0) {\n",
       "          console.log(\"Bokeh: all BokehJS libraries loaded\");\n",
       "          run_callbacks()\n",
       "        }\n",
       "      };\n",
       "      s.onerror = function() {\n",
       "        console.warn(\"failed to load library \" + url);\n",
       "      };\n",
       "      console.log(\"Bokeh: injecting script tag for BokehJS library: \", url);\n",
       "      document.getElementsByTagName(\"head\")[0].appendChild(s);\n",
       "    }\n",
       "  };var element = document.getElementById(\"2a46187a-87fa-457a-bc53-c72b39924081\");\n",
       "  if (element == null) {\n",
       "    console.log(\"Bokeh: ERROR: autoload.js configured with elementid '2a46187a-87fa-457a-bc53-c72b39924081' but no matching script tag was found. \")\n",
       "    return false;\n",
       "  }\n",
       "\n",
       "  var js_urls = [\"https://cdn.pydata.org/bokeh/release/bokeh-0.13.0.min.js\", \"https://cdn.pydata.org/bokeh/release/bokeh-widgets-0.13.0.min.js\", \"https://cdn.pydata.org/bokeh/release/bokeh-tables-0.13.0.min.js\", \"https://cdn.pydata.org/bokeh/release/bokeh-gl-0.13.0.min.js\"];\n",
       "\n",
       "  var inline_js = [\n",
       "    function(Bokeh) {\n",
       "      Bokeh.set_log_level(\"info\");\n",
       "    },\n",
       "    \n",
       "    function(Bokeh) {\n",
       "      \n",
       "    },\n",
       "    function(Bokeh) {\n",
       "      console.log(\"Bokeh: injecting CSS: https://cdn.pydata.org/bokeh/release/bokeh-0.13.0.min.css\");\n",
       "      Bokeh.embed.inject_css(\"https://cdn.pydata.org/bokeh/release/bokeh-0.13.0.min.css\");\n",
       "      console.log(\"Bokeh: injecting CSS: https://cdn.pydata.org/bokeh/release/bokeh-widgets-0.13.0.min.css\");\n",
       "      Bokeh.embed.inject_css(\"https://cdn.pydata.org/bokeh/release/bokeh-widgets-0.13.0.min.css\");\n",
       "      console.log(\"Bokeh: injecting CSS: https://cdn.pydata.org/bokeh/release/bokeh-tables-0.13.0.min.css\");\n",
       "      Bokeh.embed.inject_css(\"https://cdn.pydata.org/bokeh/release/bokeh-tables-0.13.0.min.css\");\n",
       "    }\n",
       "  ];\n",
       "\n",
       "  function run_inline_js() {\n",
       "    \n",
       "    if ((root.Bokeh !== undefined) || (force === true)) {\n",
       "      for (var i = 0; i < inline_js.length; i++) {\n",
       "        inline_js[i].call(root, root.Bokeh);\n",
       "      }if (force === true) {\n",
       "        display_loaded();\n",
       "      }} else if (Date.now() < root._bokeh_timeout) {\n",
       "      setTimeout(run_inline_js, 100);\n",
       "    } else if (!root._bokeh_failed_load) {\n",
       "      console.log(\"Bokeh: BokehJS failed to load within specified timeout.\");\n",
       "      root._bokeh_failed_load = true;\n",
       "    } else if (force !== true) {\n",
       "      var cell = $(document.getElementById(\"2a46187a-87fa-457a-bc53-c72b39924081\")).parents('.cell').data().cell;\n",
       "      cell.output_area.append_execute_result(NB_LOAD_WARNING)\n",
       "    }\n",
       "\n",
       "  }\n",
       "\n",
       "  if (root._bokeh_is_loading === 0) {\n",
       "    console.log(\"Bokeh: BokehJS loaded, going straight to plotting\");\n",
       "    run_inline_js();\n",
       "  } else {\n",
       "    load_libs(js_urls, function() {\n",
       "      console.log(\"Bokeh: BokehJS plotting callback run at\", now());\n",
       "      run_inline_js();\n",
       "    });\n",
       "  }\n",
       "}(window));"
      ],
      "application/vnd.bokehjs_load.v0+json": "\n(function(root) {\n  function now() {\n    return new Date();\n  }\n\n  var force = true;\n\n  if (typeof (root._bokeh_onload_callbacks) === \"undefined\" || force === true) {\n    root._bokeh_onload_callbacks = [];\n    root._bokeh_is_loading = undefined;\n  }\n\n  \n\n  \n  if (typeof (root._bokeh_timeout) === \"undefined\" || force === true) {\n    root._bokeh_timeout = Date.now() + 5000;\n    root._bokeh_failed_load = false;\n  }\n\n  var NB_LOAD_WARNING = {'data': {'text/html':\n     \"<div style='background-color: #fdd'>\\n\"+\n     \"<p>\\n\"+\n     \"BokehJS does not appear to have successfully loaded. If loading BokehJS from CDN, this \\n\"+\n     \"may be due to a slow or bad network connection. Possible fixes:\\n\"+\n     \"</p>\\n\"+\n     \"<ul>\\n\"+\n     \"<li>re-rerun `output_notebook()` to attempt to load from CDN again, or</li>\\n\"+\n     \"<li>use INLINE resources instead, as so:</li>\\n\"+\n     \"</ul>\\n\"+\n     \"<code>\\n\"+\n     \"from bokeh.resources import INLINE\\n\"+\n     \"output_notebook(resources=INLINE)\\n\"+\n     \"</code>\\n\"+\n     \"</div>\"}};\n\n  function display_loaded() {\n    var el = document.getElementById(\"2a46187a-87fa-457a-bc53-c72b39924081\");\n    if (el != null) {\n      el.textContent = \"BokehJS is loading...\";\n    }\n    if (root.Bokeh !== undefined) {\n      if (el != null) {\n        el.textContent = \"BokehJS \" + root.Bokeh.version + \" successfully loaded.\";\n      }\n    } else if (Date.now() < root._bokeh_timeout) {\n      setTimeout(display_loaded, 100)\n    }\n  }\n\n\n  function run_callbacks() {\n    try {\n      root._bokeh_onload_callbacks.forEach(function(callback) { callback() });\n    }\n    finally {\n      delete root._bokeh_onload_callbacks\n    }\n    console.info(\"Bokeh: all callbacks have finished\");\n  }\n\n  function load_libs(js_urls, callback) {\n    root._bokeh_onload_callbacks.push(callback);\n    if (root._bokeh_is_loading > 0) {\n      console.log(\"Bokeh: BokehJS is being loaded, scheduling callback at\", now());\n      return null;\n    }\n    if (js_urls == null || js_urls.length === 0) {\n      run_callbacks();\n      return null;\n    }\n    console.log(\"Bokeh: BokehJS not loaded, scheduling load and callback at\", now());\n    root._bokeh_is_loading = js_urls.length;\n    for (var i = 0; i < js_urls.length; i++) {\n      var url = js_urls[i];\n      var s = document.createElement('script');\n      s.src = url;\n      s.async = false;\n      s.onreadystatechange = s.onload = function() {\n        root._bokeh_is_loading--;\n        if (root._bokeh_is_loading === 0) {\n          console.log(\"Bokeh: all BokehJS libraries loaded\");\n          run_callbacks()\n        }\n      };\n      s.onerror = function() {\n        console.warn(\"failed to load library \" + url);\n      };\n      console.log(\"Bokeh: injecting script tag for BokehJS library: \", url);\n      document.getElementsByTagName(\"head\")[0].appendChild(s);\n    }\n  };var element = document.getElementById(\"2a46187a-87fa-457a-bc53-c72b39924081\");\n  if (element == null) {\n    console.log(\"Bokeh: ERROR: autoload.js configured with elementid '2a46187a-87fa-457a-bc53-c72b39924081' but no matching script tag was found. \")\n    return false;\n  }\n\n  var js_urls = [\"https://cdn.pydata.org/bokeh/release/bokeh-0.13.0.min.js\", \"https://cdn.pydata.org/bokeh/release/bokeh-widgets-0.13.0.min.js\", \"https://cdn.pydata.org/bokeh/release/bokeh-tables-0.13.0.min.js\", \"https://cdn.pydata.org/bokeh/release/bokeh-gl-0.13.0.min.js\"];\n\n  var inline_js = [\n    function(Bokeh) {\n      Bokeh.set_log_level(\"info\");\n    },\n    \n    function(Bokeh) {\n      \n    },\n    function(Bokeh) {\n      console.log(\"Bokeh: injecting CSS: https://cdn.pydata.org/bokeh/release/bokeh-0.13.0.min.css\");\n      Bokeh.embed.inject_css(\"https://cdn.pydata.org/bokeh/release/bokeh-0.13.0.min.css\");\n      console.log(\"Bokeh: injecting CSS: https://cdn.pydata.org/bokeh/release/bokeh-widgets-0.13.0.min.css\");\n      Bokeh.embed.inject_css(\"https://cdn.pydata.org/bokeh/release/bokeh-widgets-0.13.0.min.css\");\n      console.log(\"Bokeh: injecting CSS: https://cdn.pydata.org/bokeh/release/bokeh-tables-0.13.0.min.css\");\n      Bokeh.embed.inject_css(\"https://cdn.pydata.org/bokeh/release/bokeh-tables-0.13.0.min.css\");\n    }\n  ];\n\n  function run_inline_js() {\n    \n    if ((root.Bokeh !== undefined) || (force === true)) {\n      for (var i = 0; i < inline_js.length; i++) {\n        inline_js[i].call(root, root.Bokeh);\n      }if (force === true) {\n        display_loaded();\n      }} else if (Date.now() < root._bokeh_timeout) {\n      setTimeout(run_inline_js, 100);\n    } else if (!root._bokeh_failed_load) {\n      console.log(\"Bokeh: BokehJS failed to load within specified timeout.\");\n      root._bokeh_failed_load = true;\n    } else if (force !== true) {\n      var cell = $(document.getElementById(\"2a46187a-87fa-457a-bc53-c72b39924081\")).parents('.cell').data().cell;\n      cell.output_area.append_execute_result(NB_LOAD_WARNING)\n    }\n\n  }\n\n  if (root._bokeh_is_loading === 0) {\n    console.log(\"Bokeh: BokehJS loaded, going straight to plotting\");\n    run_inline_js();\n  } else {\n    load_libs(js_urls, function() {\n      console.log(\"Bokeh: BokehJS plotting callback run at\", now());\n      run_inline_js();\n    });\n  }\n}(window));"
     },
     "metadata": {},
     "output_type": "display_data"
    }
   ],
   "source": [
    "from bokeh.io import output_notebook, show\n",
    "from bokeh.plotting import figure\n",
    "output_notebook()"
   ]
  },
  {
   "cell_type": "markdown",
   "metadata": {},
   "source": [
    "# 1. Introduction\n",
    "\n",
    "Stars are responsible for the production of all elements heavier than Helium. They can have different masses and chemical composition. Precise measurements of the chemical composition of stars provides us with information regarding the chemical evolution of our Galaxy. To get an estimation of the abundance of a particular element, e.g. Iron, it is necessary that the star is observed in High-resolution.  \n",
    "\n",
    "In order to get observations in High-resolution, a large telescope is required. The Figure below shows four 8.2 m telescopes located in Chile and known as VLT (Very Large Telescopes). These telescopes are expensive and it is not easy to get time to observe on them.  \n",
    "\n",
    "![title](VLT2.jpg)\n",
    "\n",
    "## 1.1 What do we want to observe?\n",
    "\n",
    "When passing the light of a star through a prism, it is decomposed into different wavelenghts as shown in the illustration bellow. This decomposition is called a Spectrum. \n",
    "\n",
    "![title](solar_spec.jpg)\n",
    "\n",
    "A real observation is more complex than what is shown above and the amount of detail that can be visualized depends on the resolution of the observation. The Figure below shows the difference between a high-resolution spectrum, where two points in the plot are separated by 0.02 Angstrons and a low-resolution one where this separation is equal to 1 Angstrom.\n",
    "\n",
    "![title](Hres_Lres.jpeg)\n",
    "\n",
    "## 1.2 How to get time on a telescope?\n",
    "\n",
    "![title](proposal.png)\n",
    "\n",
    "## 1.3 How do we Select Targets?\n",
    "\n",
    "Targets cannot be selected randomly, instead, they need to fit our scientific objectives. \n",
    "\n",
    "### 1.3.1 SDSS\n",
    "\n",
    "The Sloan Digital Sky Survey (SDSS) is a survey of the sky containing hundreds of thousands of stars that were observed in low-resolution. This means that the observations provided by this survey cannot be used to measure chemical abundances, but could be used to select interesting targets. However, most of the data from this survey is unlabelled. \n",
    "\n",
    "### 1.3.2 What is the Solution?\n",
    "\n",
    "Because we know the physics of how a star produces its spectrum , we can use a code to produce spectra of different compositions. \n",
    "\n",
    "We will use, then, synthetic spectra. \n",
    "\n",
    "## 1.4 Synthetic Spectra\n",
    "\n",
    "We used a radiative-transfer code to create ~20,000 synthetic spectra with a resolution similar to the resolution of the SDSS observations. The spectra produced mimic the composition of stars that have a normal amount of carbon and the stars we are interested in which present an excess of carbon. We, then, added gaussian white noise to the spectra."
   ]
  },
  {
   "cell_type": "markdown",
   "metadata": {},
   "source": [
    "# 2. The Data\n",
    "\n",
    "\n",
    "The data is comprised by 9 features for ~20,000 synthetic stars. \n",
    "\n",
    "## 2.1 What are the Features?\n",
    "\n",
    "The features are basically the area inside absorption lines (orange area in the Figure below) for key elements related to Carbon-enhanced Metal-Poor Stars. \n",
    "\n",
    "![title](ex_ew.jpg)\n",
    "\n",
    "## 2.2 What is the problem we want to solve?\n",
    "\n",
    "We produced stars with compositions typical of 3 types of stars:\n",
    "\n",
    "\n",
    "| Class         |  Types                        | Proportion  |\n",
    "| ------------- |:-----------------------------:| -----------:|\n",
    "| 1             | C-normal                      | ~ 80%       |\n",
    "| 2             | C-rich/ no heavy elements     | ~  7%       |\n",
    "| 3             | C-rich/ heavy elements        | ~ 13%       |\n",
    "\n",
    "\n",
    "We have, then, a **Classification Problem!!!!**"
   ]
  },
  {
   "cell_type": "code",
   "execution_count": 2,
   "metadata": {},
   "outputs": [],
   "source": [
    "import pandas as pd\n",
    "from pandas import Series,DataFrame\n",
    "from pylab import *\n",
    "import numpy as np\n",
    "from numpy import nan as NA\n",
    "from numpy import *\n",
    "import matplotlib.pyplot as plt\n",
    "%matplotlib inline\n",
    "import seaborn as sns\n",
    "sns.set(color_codes=True)\n",
    "import math\n",
    "import ipywidgets as widgets\n",
    "import itertools\n",
    "from pandas.plotting import scatter_matrix\n",
    "from imblearn.over_sampling import RandomOverSampler\n",
    "from imblearn.over_sampling import SMOTE, BorderlineSMOTE, SVMSMOTE, SMOTENC\n",
    "from sklearn.preprocessing import StandardScaler\n",
    "from sklearn.preprocessing import MinMaxScaler\n",
    "from sklearn.preprocessing import PowerTransformer\n",
    "\n",
    "from sklearn.metrics import confusion_matrix\n",
    "from sklearn import preprocessing\n",
    "from sklearn.linear_model import LogisticRegression\n",
    "from sklearn.model_selection import train_test_split #training and testing data split\n",
    "from sklearn.naive_bayes import MultinomialNB\n",
    "from sklearn.metrics import confusion_matrix\n",
    "from sklearn.svm import SVC #support vector Machine\n",
    "from sklearn.ensemble import RandomForestClassifier #Random Forest\n",
    "from sklearn.neighbors import KNeighborsClassifier #KNN\n",
    "from sklearn.naive_bayes import GaussianNB #Naive bayes\n",
    "from sklearn.tree import DecisionTreeClassifier #Decision Tree\n",
    "from sklearn.linear_model import Perceptron\n",
    "from sklearn.ensemble import ExtraTreesClassifier\n",
    "from sklearn.ensemble import BaggingClassifier\n",
    "from sklearn.ensemble import AdaBoostClassifier\n",
    "from sklearn.ensemble import GradientBoostingClassifier\n",
    "\n",
    "from sklearn.datasets import make_multilabel_classification\n",
    "from sklearn.multiclass import OneVsRestClassifier\n",
    "from sklearn.ensemble import VotingClassifier\n",
    "\n",
    "from sklearn.model_selection import cross_val_score\n",
    "from sklearn.model_selection import KFold\n",
    "from sklearn.model_selection import GridSearchCV\n",
    "from imblearn.under_sampling import RandomUnderSampler \n",
    "import itertools\n",
    "from sklearn.metrics import roc_auc_score\n",
    "from sklearn.metrics import roc_curve\n",
    "from sklearn.metrics import precision_recall_curve\n",
    "from sklearn.metrics import classification_report\n",
    "import random\n",
    "from sklearn.metrics import silhouette_score\n",
    "from sklearn.metrics import silhouette_samples\n",
    "from sklearn.cluster import AgglomerativeClustering\n",
    "from pylab import *\n",
    "from sklearn.cluster import KMeans\n",
    "\n",
    "\n",
    "from sklearn.metrics import accuracy_score\n",
    "from sklearn.metrics import make_scorer"
   ]
  },
  {
   "cell_type": "code",
   "execution_count": 3,
   "metadata": {},
   "outputs": [
    {
     "data": {
      "text/html": [
       "<div>\n",
       "<style scoped>\n",
       "    .dataframe tbody tr th:only-of-type {\n",
       "        vertical-align: middle;\n",
       "    }\n",
       "\n",
       "    .dataframe tbody tr th {\n",
       "        vertical-align: top;\n",
       "    }\n",
       "\n",
       "    .dataframe thead th {\n",
       "        text-align: right;\n",
       "    }\n",
       "</style>\n",
       "<table border=\"1\" class=\"dataframe\">\n",
       "  <thead>\n",
       "    <tr style=\"text-align: right;\">\n",
       "      <th></th>\n",
       "      <th>ID</th>\n",
       "      <th>Temp</th>\n",
       "      <th>[Fe/H]</th>\n",
       "      <th>log(g)</th>\n",
       "      <th>KP</th>\n",
       "      <th>Fe5270</th>\n",
       "      <th>GP</th>\n",
       "      <th>GPE</th>\n",
       "      <th>g-r</th>\n",
       "      <th>Bamg</th>\n",
       "      <th>Ba_bmc</th>\n",
       "      <th>Eu_bmc</th>\n",
       "      <th>Sr_bmc</th>\n",
       "      <th>classe</th>\n",
       "    </tr>\n",
       "  </thead>\n",
       "  <tbody>\n",
       "    <tr>\n",
       "      <th>0</th>\n",
       "      <td>M0000</td>\n",
       "      <td>4200</td>\n",
       "      <td>-1.0</td>\n",
       "      <td>1.4</td>\n",
       "      <td>9.188</td>\n",
       "      <td>3.519</td>\n",
       "      <td>7.041</td>\n",
       "      <td>42.792</td>\n",
       "      <td>1.119</td>\n",
       "      <td>-0.264</td>\n",
       "      <td>0.587</td>\n",
       "      <td>0.661</td>\n",
       "      <td>2.368</td>\n",
       "      <td>1</td>\n",
       "    </tr>\n",
       "    <tr>\n",
       "      <th>1</th>\n",
       "      <td>M0001</td>\n",
       "      <td>4200</td>\n",
       "      <td>-1.0</td>\n",
       "      <td>1.4</td>\n",
       "      <td>10.198</td>\n",
       "      <td>2.918</td>\n",
       "      <td>6.989</td>\n",
       "      <td>35.250</td>\n",
       "      <td>1.100</td>\n",
       "      <td>-0.233</td>\n",
       "      <td>0.766</td>\n",
       "      <td>0.673</td>\n",
       "      <td>2.794</td>\n",
       "      <td>1</td>\n",
       "    </tr>\n",
       "    <tr>\n",
       "      <th>2</th>\n",
       "      <td>M0002</td>\n",
       "      <td>4200</td>\n",
       "      <td>-1.0</td>\n",
       "      <td>1.4</td>\n",
       "      <td>8.570</td>\n",
       "      <td>3.678</td>\n",
       "      <td>7.221</td>\n",
       "      <td>39.710</td>\n",
       "      <td>1.116</td>\n",
       "      <td>-0.294</td>\n",
       "      <td>0.772</td>\n",
       "      <td>0.715</td>\n",
       "      <td>2.583</td>\n",
       "      <td>1</td>\n",
       "    </tr>\n",
       "    <tr>\n",
       "      <th>3</th>\n",
       "      <td>M0003</td>\n",
       "      <td>4200</td>\n",
       "      <td>-1.0</td>\n",
       "      <td>1.4</td>\n",
       "      <td>8.677</td>\n",
       "      <td>2.908</td>\n",
       "      <td>6.912</td>\n",
       "      <td>39.763</td>\n",
       "      <td>1.117</td>\n",
       "      <td>-0.213</td>\n",
       "      <td>0.681</td>\n",
       "      <td>0.667</td>\n",
       "      <td>1.856</td>\n",
       "      <td>1</td>\n",
       "    </tr>\n",
       "    <tr>\n",
       "      <th>4</th>\n",
       "      <td>M0004</td>\n",
       "      <td>4200</td>\n",
       "      <td>-1.0</td>\n",
       "      <td>1.4</td>\n",
       "      <td>8.739</td>\n",
       "      <td>3.433</td>\n",
       "      <td>7.113</td>\n",
       "      <td>33.972</td>\n",
       "      <td>1.108</td>\n",
       "      <td>-0.226</td>\n",
       "      <td>0.759</td>\n",
       "      <td>0.780</td>\n",
       "      <td>2.356</td>\n",
       "      <td>1</td>\n",
       "    </tr>\n",
       "    <tr>\n",
       "      <th>5</th>\n",
       "      <td>M0005</td>\n",
       "      <td>4200</td>\n",
       "      <td>-1.0</td>\n",
       "      <td>1.4</td>\n",
       "      <td>7.169</td>\n",
       "      <td>2.905</td>\n",
       "      <td>7.479</td>\n",
       "      <td>29.445</td>\n",
       "      <td>1.113</td>\n",
       "      <td>-0.230</td>\n",
       "      <td>0.651</td>\n",
       "      <td>0.765</td>\n",
       "      <td>1.993</td>\n",
       "      <td>1</td>\n",
       "    </tr>\n",
       "    <tr>\n",
       "      <th>6</th>\n",
       "      <td>M0006</td>\n",
       "      <td>4200</td>\n",
       "      <td>-1.0</td>\n",
       "      <td>1.4</td>\n",
       "      <td>7.601</td>\n",
       "      <td>2.704</td>\n",
       "      <td>7.043</td>\n",
       "      <td>35.130</td>\n",
       "      <td>1.109</td>\n",
       "      <td>-0.267</td>\n",
       "      <td>0.521</td>\n",
       "      <td>0.772</td>\n",
       "      <td>1.986</td>\n",
       "      <td>1</td>\n",
       "    </tr>\n",
       "    <tr>\n",
       "      <th>7</th>\n",
       "      <td>M0007</td>\n",
       "      <td>4200</td>\n",
       "      <td>-1.0</td>\n",
       "      <td>1.4</td>\n",
       "      <td>7.921</td>\n",
       "      <td>2.484</td>\n",
       "      <td>7.427</td>\n",
       "      <td>31.978</td>\n",
       "      <td>1.118</td>\n",
       "      <td>-0.255</td>\n",
       "      <td>0.580</td>\n",
       "      <td>0.702</td>\n",
       "      <td>1.846</td>\n",
       "      <td>1</td>\n",
       "    </tr>\n",
       "    <tr>\n",
       "      <th>8</th>\n",
       "      <td>M0009</td>\n",
       "      <td>4200</td>\n",
       "      <td>-1.0</td>\n",
       "      <td>1.4</td>\n",
       "      <td>8.799</td>\n",
       "      <td>3.079</td>\n",
       "      <td>7.119</td>\n",
       "      <td>40.067</td>\n",
       "      <td>1.126</td>\n",
       "      <td>-0.221</td>\n",
       "      <td>0.549</td>\n",
       "      <td>0.772</td>\n",
       "      <td>2.681</td>\n",
       "      <td>1</td>\n",
       "    </tr>\n",
       "    <tr>\n",
       "      <th>9</th>\n",
       "      <td>M0010</td>\n",
       "      <td>4200</td>\n",
       "      <td>-1.0</td>\n",
       "      <td>1.4</td>\n",
       "      <td>9.910</td>\n",
       "      <td>2.973</td>\n",
       "      <td>6.958</td>\n",
       "      <td>36.310</td>\n",
       "      <td>1.118</td>\n",
       "      <td>-0.237</td>\n",
       "      <td>0.862</td>\n",
       "      <td>0.899</td>\n",
       "      <td>2.990</td>\n",
       "      <td>1</td>\n",
       "    </tr>\n",
       "  </tbody>\n",
       "</table>\n",
       "</div>"
      ],
      "text/plain": [
       "       ID  Temp  [Fe/H]  log(g)      KP  Fe5270     GP     GPE    g-r   Bamg  \\\n",
       "0  M0000   4200    -1.0     1.4   9.188   3.519  7.041  42.792  1.119 -0.264   \n",
       "1  M0001   4200    -1.0     1.4  10.198   2.918  6.989  35.250  1.100 -0.233   \n",
       "2  M0002   4200    -1.0     1.4   8.570   3.678  7.221  39.710  1.116 -0.294   \n",
       "3  M0003   4200    -1.0     1.4   8.677   2.908  6.912  39.763  1.117 -0.213   \n",
       "4  M0004   4200    -1.0     1.4   8.739   3.433  7.113  33.972  1.108 -0.226   \n",
       "5  M0005   4200    -1.0     1.4   7.169   2.905  7.479  29.445  1.113 -0.230   \n",
       "6  M0006   4200    -1.0     1.4   7.601   2.704  7.043  35.130  1.109 -0.267   \n",
       "7  M0007   4200    -1.0     1.4   7.921   2.484  7.427  31.978  1.118 -0.255   \n",
       "8  M0009   4200    -1.0     1.4   8.799   3.079  7.119  40.067  1.126 -0.221   \n",
       "9  M0010   4200    -1.0     1.4   9.910   2.973  6.958  36.310  1.118 -0.237   \n",
       "\n",
       "   Ba_bmc  Eu_bmc  Sr_bmc  classe  \n",
       "0   0.587   0.661   2.368       1  \n",
       "1   0.766   0.673   2.794       1  \n",
       "2   0.772   0.715   2.583       1  \n",
       "3   0.681   0.667   1.856       1  \n",
       "4   0.759   0.780   2.356       1  \n",
       "5   0.651   0.765   1.993       1  \n",
       "6   0.521   0.772   1.986       1  \n",
       "7   0.580   0.702   1.846       1  \n",
       "8   0.549   0.772   2.681       1  \n",
       "9   0.862   0.899   2.990       1  "
      ]
     },
     "execution_count": 3,
     "metadata": {},
     "output_type": "execute_result"
    }
   ],
   "source": [
    "# Getting the data into a dataframe\n",
    "columns = ['ID','Temp','[Fe/H]','log(g)',' KP','Fe5270','GP', 'GPE', 'Bamg','Ba_bmc','Eu_bmc','Sr_bmc','g-r','classe']\n",
    "\n",
    "df = pd.read_csv('Hugo_SN40_ML.csv',usecols=columns)\n",
    "df.head(10)"
   ]
  },
  {
   "cell_type": "code",
   "execution_count": 4,
   "metadata": {},
   "outputs": [
    {
     "data": {
      "text/html": [
       "<div>\n",
       "<style scoped>\n",
       "    .dataframe tbody tr th:only-of-type {\n",
       "        vertical-align: middle;\n",
       "    }\n",
       "\n",
       "    .dataframe tbody tr th {\n",
       "        vertical-align: top;\n",
       "    }\n",
       "\n",
       "    .dataframe thead th {\n",
       "        text-align: right;\n",
       "    }\n",
       "</style>\n",
       "<table border=\"1\" class=\"dataframe\">\n",
       "  <thead>\n",
       "    <tr style=\"text-align: right;\">\n",
       "      <th></th>\n",
       "      <th>Temp</th>\n",
       "      <th>[Fe/H]</th>\n",
       "      <th>log(g)</th>\n",
       "      <th>KP</th>\n",
       "      <th>Fe5270</th>\n",
       "      <th>GP</th>\n",
       "      <th>GPE</th>\n",
       "      <th>g-r</th>\n",
       "      <th>Bamg</th>\n",
       "      <th>Ba_bmc</th>\n",
       "      <th>Eu_bmc</th>\n",
       "      <th>Sr_bmc</th>\n",
       "      <th>classe</th>\n",
       "    </tr>\n",
       "  </thead>\n",
       "  <tbody>\n",
       "    <tr>\n",
       "      <th>count</th>\n",
       "      <td>18386.000000</td>\n",
       "      <td>18386.000000</td>\n",
       "      <td>18386.000000</td>\n",
       "      <td>18386.000000</td>\n",
       "      <td>18386.000000</td>\n",
       "      <td>18386.000000</td>\n",
       "      <td>18386.000000</td>\n",
       "      <td>18386.000000</td>\n",
       "      <td>18386.000000</td>\n",
       "      <td>18386.000000</td>\n",
       "      <td>18386.000000</td>\n",
       "      <td>18386.000000</td>\n",
       "      <td>18386.000000</td>\n",
       "    </tr>\n",
       "    <tr>\n",
       "      <th>mean</th>\n",
       "      <td>5397.759437</td>\n",
       "      <td>-1.664582</td>\n",
       "      <td>3.340797</td>\n",
       "      <td>4.860402</td>\n",
       "      <td>1.220740</td>\n",
       "      <td>3.429997</td>\n",
       "      <td>20.032729</td>\n",
       "      <td>0.547165</td>\n",
       "      <td>-0.277688</td>\n",
       "      <td>0.961674</td>\n",
       "      <td>0.661433</td>\n",
       "      <td>2.157795</td>\n",
       "      <td>1.365224</td>\n",
       "    </tr>\n",
       "    <tr>\n",
       "      <th>std</th>\n",
       "      <td>536.267658</td>\n",
       "      <td>0.518595</td>\n",
       "      <td>1.094828</td>\n",
       "      <td>2.366159</td>\n",
       "      <td>0.665053</td>\n",
       "      <td>1.996668</td>\n",
       "      <td>15.107907</td>\n",
       "      <td>0.227998</td>\n",
       "      <td>0.029323</td>\n",
       "      <td>0.458882</td>\n",
       "      <td>0.290177</td>\n",
       "      <td>0.747546</td>\n",
       "      <td>0.805695</td>\n",
       "    </tr>\n",
       "    <tr>\n",
       "      <th>min</th>\n",
       "      <td>4200.000000</td>\n",
       "      <td>-3.000000</td>\n",
       "      <td>1.000000</td>\n",
       "      <td>-5.511000</td>\n",
       "      <td>0.001000</td>\n",
       "      <td>-0.205000</td>\n",
       "      <td>0.006000</td>\n",
       "      <td>0.151000</td>\n",
       "      <td>-0.406000</td>\n",
       "      <td>0.018000</td>\n",
       "      <td>0.004000</td>\n",
       "      <td>0.183000</td>\n",
       "      <td>1.000000</td>\n",
       "    </tr>\n",
       "    <tr>\n",
       "      <th>25%</th>\n",
       "      <td>5040.000000</td>\n",
       "      <td>-2.000000</td>\n",
       "      <td>2.500000</td>\n",
       "      <td>3.090250</td>\n",
       "      <td>0.718000</td>\n",
       "      <td>1.696250</td>\n",
       "      <td>8.471500</td>\n",
       "      <td>0.363000</td>\n",
       "      <td>-0.295000</td>\n",
       "      <td>0.668000</td>\n",
       "      <td>0.491000</td>\n",
       "      <td>1.626000</td>\n",
       "      <td>1.000000</td>\n",
       "    </tr>\n",
       "    <tr>\n",
       "      <th>50%</th>\n",
       "      <td>5400.000000</td>\n",
       "      <td>-1.500000</td>\n",
       "      <td>3.500000</td>\n",
       "      <td>5.303000</td>\n",
       "      <td>1.200500</td>\n",
       "      <td>3.168000</td>\n",
       "      <td>15.322500</td>\n",
       "      <td>0.509000</td>\n",
       "      <td>-0.281000</td>\n",
       "      <td>0.854000</td>\n",
       "      <td>0.633000</td>\n",
       "      <td>2.073000</td>\n",
       "      <td>1.000000</td>\n",
       "    </tr>\n",
       "    <tr>\n",
       "      <th>75%</th>\n",
       "      <td>5900.000000</td>\n",
       "      <td>-1.500000</td>\n",
       "      <td>4.400000</td>\n",
       "      <td>6.630000</td>\n",
       "      <td>1.618000</td>\n",
       "      <td>5.234000</td>\n",
       "      <td>28.809500</td>\n",
       "      <td>0.653000</td>\n",
       "      <td>-0.265000</td>\n",
       "      <td>1.127000</td>\n",
       "      <td>0.788000</td>\n",
       "      <td>2.582000</td>\n",
       "      <td>1.000000</td>\n",
       "    </tr>\n",
       "    <tr>\n",
       "      <th>max</th>\n",
       "      <td>6775.000000</td>\n",
       "      <td>-1.000000</td>\n",
       "      <td>4.800000</td>\n",
       "      <td>11.984000</td>\n",
       "      <td>3.911000</td>\n",
       "      <td>8.836000</td>\n",
       "      <td>95.646000</td>\n",
       "      <td>1.529000</td>\n",
       "      <td>0.160000</td>\n",
       "      <td>4.909000</td>\n",
       "      <td>3.937000</td>\n",
       "      <td>4.998000</td>\n",
       "      <td>4.000000</td>\n",
       "    </tr>\n",
       "  </tbody>\n",
       "</table>\n",
       "</div>"
      ],
      "text/plain": [
       "               Temp        [Fe/H]        log(g)            KP        Fe5270  \\\n",
       "count  18386.000000  18386.000000  18386.000000  18386.000000  18386.000000   \n",
       "mean    5397.759437     -1.664582      3.340797      4.860402      1.220740   \n",
       "std      536.267658      0.518595      1.094828      2.366159      0.665053   \n",
       "min     4200.000000     -3.000000      1.000000     -5.511000      0.001000   \n",
       "25%     5040.000000     -2.000000      2.500000      3.090250      0.718000   \n",
       "50%     5400.000000     -1.500000      3.500000      5.303000      1.200500   \n",
       "75%     5900.000000     -1.500000      4.400000      6.630000      1.618000   \n",
       "max     6775.000000     -1.000000      4.800000     11.984000      3.911000   \n",
       "\n",
       "                 GP           GPE           g-r          Bamg        Ba_bmc  \\\n",
       "count  18386.000000  18386.000000  18386.000000  18386.000000  18386.000000   \n",
       "mean       3.429997     20.032729      0.547165     -0.277688      0.961674   \n",
       "std        1.996668     15.107907      0.227998      0.029323      0.458882   \n",
       "min       -0.205000      0.006000      0.151000     -0.406000      0.018000   \n",
       "25%        1.696250      8.471500      0.363000     -0.295000      0.668000   \n",
       "50%        3.168000     15.322500      0.509000     -0.281000      0.854000   \n",
       "75%        5.234000     28.809500      0.653000     -0.265000      1.127000   \n",
       "max        8.836000     95.646000      1.529000      0.160000      4.909000   \n",
       "\n",
       "             Eu_bmc        Sr_bmc        classe  \n",
       "count  18386.000000  18386.000000  18386.000000  \n",
       "mean       0.661433      2.157795      1.365224  \n",
       "std        0.290177      0.747546      0.805695  \n",
       "min        0.004000      0.183000      1.000000  \n",
       "25%        0.491000      1.626000      1.000000  \n",
       "50%        0.633000      2.073000      1.000000  \n",
       "75%        0.788000      2.582000      1.000000  \n",
       "max        3.937000      4.998000      4.000000  "
      ]
     },
     "execution_count": 4,
     "metadata": {},
     "output_type": "execute_result"
    }
   ],
   "source": [
    "df.describe()"
   ]
  },
  {
   "cell_type": "markdown",
   "metadata": {},
   "source": [
    "The column **Temp** represents the temperature at the surface of the star, **log(g)** represents the pressure at the surface of the star, and **[Fe/H]** represents the amount of Iron compared to the Sun. These three columns are the inputs for the code to produce the spectra and are information we have for the objects in the SDSS database."
   ]
  },
  {
   "cell_type": "code",
   "execution_count": 5,
   "metadata": {},
   "outputs": [
    {
     "name": "stderr",
     "output_type": "stream",
     "text": [
      "/home/monique/anaconda3/lib/python3.7/site-packages/ipykernel_launcher.py:4: SettingWithCopyWarning: \n",
      "A value is trying to be set on a copy of a slice from a DataFrame\n",
      "\n",
      "See the caveats in the documentation: http://pandas.pydata.org/pandas-docs/stable/indexing.html#indexing-view-versus-copy\n",
      "  after removing the cwd from sys.path.\n"
     ]
    }
   ],
   "source": [
    "# Because we are interested in separate between carbon stars with and without heavy elements,\n",
    "# we will combine classes 3 and 4 that represent carbon stars with excess of different types of heavy elements\n",
    "# Combine classes 3 and 4:\n",
    "df.classe[(df.classe == 4)]=3"
   ]
  },
  {
   "cell_type": "code",
   "execution_count": 6,
   "metadata": {},
   "outputs": [
    {
     "data": {
      "text/plain": [
       "1    0.801643\n",
       "2    0.073262\n",
       "3    0.125095\n",
       "Name: classe, dtype: float64"
      ]
     },
     "execution_count": 6,
     "metadata": {},
     "output_type": "execute_result"
    }
   ],
   "source": [
    "# Count the number of types of stars\n",
    "pd.value_counts(df['classe'],dropna=True,sort=False,normalize=True)"
   ]
  },
  {
   "cell_type": "code",
   "execution_count": 7,
   "metadata": {},
   "outputs": [
    {
     "data": {
      "text/plain": [
       "Index(['ID', 'Temp', '[Fe/H]', 'log(g)', ' KP', 'Fe5270', 'GP', 'GPE', 'g-r',\n",
       "       'Bamg', 'Ba_bmc', 'Eu_bmc', 'Sr_bmc', 'classe'],\n",
       "      dtype='object')"
      ]
     },
     "execution_count": 7,
     "metadata": {},
     "output_type": "execute_result"
    }
   ],
   "source": [
    "df.columns"
   ]
  },
  {
   "cell_type": "markdown",
   "metadata": {},
   "source": [
    "## 2.3 Splitting the Data\n",
    "\n",
    "The variable **[Fe/H]**, as explained above, is one the inputs for the code that creates the spectrum. \n",
    "We used 5 values for this variable and created stars with the proportions of **[Fe/H]** found in the literature. Because the proportions are quite different, see Figure below, we believe a stratified split using this variable will reduce the error in the predictions."
   ]
  },
  {
   "cell_type": "code",
   "execution_count": 10,
   "metadata": {},
   "outputs": [
    {
     "data": {
      "text/plain": [
       "Text(0.5,0,'[Fe/H]')"
      ]
     },
     "execution_count": 10,
     "metadata": {},
     "output_type": "execute_result"
    },
    {
     "data": {
      "image/png": "[encoded data removed]",
      "text/plain": [
       "<Figure size 1080x720 with 1 Axes>"
      ]
     },
     "metadata": {
      "needs_background": "light"
     },
     "output_type": "display_data"
    }
   ],
   "source": [
    "# We will plot the histogram using seaborn.\n",
    "f, ax = plt.subplots(figsize=(15, 10))\n",
    "sns.distplot(df['[Fe/H]'],bins=10, kde=False)\n",
    "ax.set_ylabel('Count',fontsize=18)\n",
    "ax.set_xlabel('[Fe/H]',fontsize=18)"
   ]
  },
  {
   "cell_type": "code",
   "execution_count": 11,
   "metadata": {},
   "outputs": [],
   "source": [
    "# We will use a stratified split to ensure that both the test and train sets are\n",
    "# representative of the income categories.\n",
    "from sklearn.model_selection import StratifiedShuffleSplit\n",
    "\n",
    "split = StratifiedShuffleSplit(n_splits=1, test_size=0.3, random_state=42)\n",
    "for train_index, test_index in split.split(df, df[\"[Fe/H]\"]):\n",
    "    strat_train_set = df.loc[train_index]\n",
    "    strat_test_set  = df.loc[test_index]"
   ]
  },
  {
   "cell_type": "code",
   "execution_count": 12,
   "metadata": {},
   "outputs": [],
   "source": [
    "train_set, test_set = train_test_split(df, test_size=0.3, random_state=42)"
   ]
  },
  {
   "cell_type": "code",
   "execution_count": 13,
   "metadata": {},
   "outputs": [],
   "source": [
    "# Calculates the proportion of each income class in the original data set and in the test sets\n",
    "# created by a random and a stratified splitting.\n",
    "def income_cat_proportions(data):\n",
    "    return data[\"[Fe/H]\"].value_counts() / len(data)\n",
    "\n",
    "compare_props = pd.DataFrame({\n",
    "    \"Overall\": income_cat_proportions(df),\n",
    "    \"Stratified\": income_cat_proportions(strat_test_set),\n",
    "    \"Random\": income_cat_proportions(test_set),\n",
    "}).sort_index()\n",
    "compare_props[\"Rand. %error\"] = 100 * compare_props[\"Random\"] / compare_props[\"Overall\"] - 100\n",
    "compare_props[\"Strat. %error\"] = 100 * compare_props[\"Stratified\"] / compare_props[\"Overall\"] - 100"
   ]
  },
  {
   "cell_type": "code",
   "execution_count": 14,
   "metadata": {},
   "outputs": [
    {
     "data": {
      "text/html": [
       "<div>\n",
       "<style scoped>\n",
       "    .dataframe tbody tr th:only-of-type {\n",
       "        vertical-align: middle;\n",
       "    }\n",
       "\n",
       "    .dataframe tbody tr th {\n",
       "        vertical-align: top;\n",
       "    }\n",
       "\n",
       "    .dataframe thead th {\n",
       "        text-align: right;\n",
       "    }\n",
       "</style>\n",
       "<table border=\"1\" class=\"dataframe\">\n",
       "  <thead>\n",
       "    <tr style=\"text-align: right;\">\n",
       "      <th></th>\n",
       "      <th>Overall</th>\n",
       "      <th>Stratified</th>\n",
       "      <th>Random</th>\n",
       "      <th>Rand. %error</th>\n",
       "      <th>Strat. %error</th>\n",
       "    </tr>\n",
       "  </thead>\n",
       "  <tbody>\n",
       "    <tr>\n",
       "      <th>-3.0</th>\n",
       "      <td>0.049821</td>\n",
       "      <td>0.049855</td>\n",
       "      <td>0.051668</td>\n",
       "      <td>3.708030</td>\n",
       "      <td>0.069152</td>\n",
       "    </tr>\n",
       "    <tr>\n",
       "      <th>-2.5</th>\n",
       "      <td>0.082073</td>\n",
       "      <td>0.082125</td>\n",
       "      <td>0.076686</td>\n",
       "      <td>-6.564024</td>\n",
       "      <td>0.062641</td>\n",
       "    </tr>\n",
       "    <tr>\n",
       "      <th>-2.0</th>\n",
       "      <td>0.211465</td>\n",
       "      <td>0.211385</td>\n",
       "      <td>0.217186</td>\n",
       "      <td>2.705467</td>\n",
       "      <td>-0.037918</td>\n",
       "    </tr>\n",
       "    <tr>\n",
       "      <th>-1.5</th>\n",
       "      <td>0.460731</td>\n",
       "      <td>0.460660</td>\n",
       "      <td>0.461385</td>\n",
       "      <td>0.141964</td>\n",
       "      <td>-0.015430</td>\n",
       "    </tr>\n",
       "    <tr>\n",
       "      <th>-1.0</th>\n",
       "      <td>0.195910</td>\n",
       "      <td>0.195975</td>\n",
       "      <td>0.193075</td>\n",
       "      <td>-1.447216</td>\n",
       "      <td>0.033389</td>\n",
       "    </tr>\n",
       "  </tbody>\n",
       "</table>\n",
       "</div>"
      ],
      "text/plain": [
       "       Overall  Stratified    Random  Rand. %error  Strat. %error\n",
       "-3.0  0.049821    0.049855  0.051668      3.708030       0.069152\n",
       "-2.5  0.082073    0.082125  0.076686     -6.564024       0.062641\n",
       "-2.0  0.211465    0.211385  0.217186      2.705467      -0.037918\n",
       "-1.5  0.460731    0.460660  0.461385      0.141964      -0.015430\n",
       "-1.0  0.195910    0.195975  0.193075     -1.447216       0.033389"
      ]
     },
     "execution_count": 14,
     "metadata": {},
     "output_type": "execute_result"
    }
   ],
   "source": [
    "compare_props"
   ]
  },
  {
   "cell_type": "markdown",
   "metadata": {},
   "source": [
    "# 3. Exploratory Analysis"
   ]
  },
  {
   "cell_type": "markdown",
   "metadata": {},
   "source": [
    "We will start the analysis trying to identify whether the star is normal or carbon stars. At this moment, we will ignore the subclasses of carbon enhanced stars."
   ]
  },
  {
   "cell_type": "code",
   "execution_count": 15,
   "metadata": {},
   "outputs": [
    {
     "data": {
      "image/png": "[encoded data removed]",
      "text/plain": [
       "<Figure size 1440x1080 with 16 Axes>"
      ]
     },
     "metadata": {
      "needs_background": "light"
     },
     "output_type": "display_data"
    }
   ],
   "source": [
    "strat_train_set.hist(bins=50, figsize=(20,15))\n",
    "plt.show()"
   ]
  },
  {
   "cell_type": "code",
   "execution_count": 16,
   "metadata": {},
   "outputs": [
    {
     "name": "stderr",
     "output_type": "stream",
     "text": [
      "/home/monique/anaconda3/lib/python3.7/site-packages/scipy/stats/stats.py:1713: FutureWarning: Using a non-tuple sequence for multidimensional indexing is deprecated; use `arr[tuple(seq)]` instead of `arr[seq]`. In the future this will be interpreted as an array index, `arr[np.array(seq)]`, which will result either in an error or a different result.\n",
      "  return np.add.reduce(sorted[indexer] * weights, axis=axis) / sumval\n"
     ]
    },
    {
     "data": {
      "text/plain": [
       "<matplotlib.legend.Legend at 0x7fa31d69e160>"
      ]
     },
     "execution_count": 16,
     "metadata": {},
     "output_type": "execute_result"
    },
    {
     "data": {
      "image/png": "[encoded data removed]",
      "text/plain": [
       "<Figure size 1080x720 with 1 Axes>"
      ]
     },
     "metadata": {
      "needs_background": "light"
     },
     "output_type": "display_data"
    }
   ],
   "source": [
    "f,axes=plt.subplots(figsize=(15, 10))\n",
    "sns.distplot(strat_train_set.GPE[strat_train_set.classe==1],bins=50, kde=True,label='1')\n",
    "sns.distplot(strat_train_set.GPE[strat_train_set.classe==2],bins=50, kde=True,color='g',label='2')\n",
    "sns.distplot(strat_train_set.GPE[strat_train_set.classe==3],bins=50, kde=True,color='r',label='3')\n",
    "plt.legend()"
   ]
  },
  {
   "cell_type": "code",
   "execution_count": 17,
   "metadata": {},
   "outputs": [
    {
     "name": "stderr",
     "output_type": "stream",
     "text": [
      "/home/monique/anaconda3/lib/python3.7/site-packages/scipy/stats/stats.py:1713: FutureWarning: Using a non-tuple sequence for multidimensional indexing is deprecated; use `arr[tuple(seq)]` instead of `arr[seq]`. In the future this will be interpreted as an array index, `arr[np.array(seq)]`, which will result either in an error or a different result.\n",
      "  return np.add.reduce(sorted[indexer] * weights, axis=axis) / sumval\n"
     ]
    },
    {
     "data": {
      "text/plain": [
       "<matplotlib.legend.Legend at 0x7fa31dbc86d8>"
      ]
     },
     "execution_count": 17,
     "metadata": {},
     "output_type": "execute_result"
    },
    {
     "data": {
      "image/png": "[encoded data removed]",
      "text/plain": [
       "<Figure size 1080x720 with 1 Axes>"
      ]
     },
     "metadata": {
      "needs_background": "light"
     },
     "output_type": "display_data"
    }
   ],
   "source": [
    "f,axes=plt.subplots(figsize=(15, 10))\n",
    "sns.distplot(strat_train_set.Ba_bmc[strat_train_set.classe==1],bins=50, kde=True,label='1')\n",
    "sns.distplot(strat_train_set.Ba_bmc[strat_train_set.classe==2],bins=50, kde=True,color='g',label='2')\n",
    "sns.distplot(strat_train_set.Ba_bmc[strat_train_set.classe==3],bins=50, kde=True,color='r',label='3')\n",
    "\n",
    "plt.legend()"
   ]
  },
  {
   "cell_type": "code",
   "execution_count": 20,
   "metadata": {},
   "outputs": [
    {
     "name": "stderr",
     "output_type": "stream",
     "text": [
      "/home/monique/anaconda3/lib/python3.7/site-packages/scipy/stats/stats.py:1713: FutureWarning: Using a non-tuple sequence for multidimensional indexing is deprecated; use `arr[tuple(seq)]` instead of `arr[seq]`. In the future this will be interpreted as an array index, `arr[np.array(seq)]`, which will result either in an error or a different result.\n",
      "  return np.add.reduce(sorted[indexer] * weights, axis=axis) / sumval\n"
     ]
    },
    {
     "data": {
      "text/plain": [
       "<matplotlib.legend.Legend at 0x7fa31d7841d0>"
      ]
     },
     "execution_count": 20,
     "metadata": {},
     "output_type": "execute_result"
    },
    {
     "data": {
      "image/png": "[encoded data removed]",
      "text/plain": [
       "<Figure size 1080x720 with 1 Axes>"
      ]
     },
     "metadata": {
      "needs_background": "light"
     },
     "output_type": "display_data"
    }
   ],
   "source": [
    "f,axes=plt.subplots(figsize=(15, 10))\n",
    "sns.distplot(strat_train_set.Bamg[strat_train_set.classe==1],bins=50, kde=True,label='1')\n",
    "sns.distplot(strat_train_set.Bamg[strat_train_set.classe==2],bins=50, kde=True,color='g',label='2')\n",
    "sns.distplot(strat_train_set.Bamg[strat_train_set.classe==3],bins=50, kde=True,color='r',label='3')\n",
    "plt.legend()"
   ]
  },
  {
   "cell_type": "markdown",
   "metadata": {},
   "source": [
    "## 3.1 Feature Scaling\n",
    "\n",
    "We have seen above that the features have quite different scales. We will scale the features to have a mean value equal to zero and a standard deviation equal to 1."
   ]
  },
  {
   "cell_type": "code",
   "execution_count": 21,
   "metadata": {},
   "outputs": [],
   "source": [
    "std_sc=StandardScaler()"
   ]
  },
  {
   "cell_type": "code",
   "execution_count": 22,
   "metadata": {},
   "outputs": [
    {
     "data": {
      "text/plain": [
       "Index(['ID', 'Temp', '[Fe/H]', 'log(g)', ' KP', 'Fe5270', 'GP', 'GPE', 'g-r',\n",
       "       'Bamg', 'Ba_bmc', 'Eu_bmc', 'Sr_bmc', 'classe'],\n",
       "      dtype='object')"
      ]
     },
     "execution_count": 22,
     "metadata": {},
     "output_type": "execute_result"
    }
   ],
   "source": [
    "strat_train_set.columns"
   ]
  },
  {
   "cell_type": "code",
   "execution_count": 23,
   "metadata": {},
   "outputs": [],
   "source": [
    "strat_train_set[[' KP', 'Fe5270','GP','GPE','g-r',\n",
    "          'Bamg','Ba_bmc','Eu_bmc','Sr_bmc']] = std_sc.fit_transform(strat_train_set[[' KP','Fe5270','GP','GPE','g-r',\n",
    "                                                                                      'Bamg','Ba_bmc','Eu_bmc','Sr_bmc']])\n",
    "\n"
   ]
  },
  {
   "cell_type": "code",
   "execution_count": 24,
   "metadata": {},
   "outputs": [
    {
     "data": {
      "text/html": [
       "<div>\n",
       "<style scoped>\n",
       "    .dataframe tbody tr th:only-of-type {\n",
       "        vertical-align: middle;\n",
       "    }\n",
       "\n",
       "    .dataframe tbody tr th {\n",
       "        vertical-align: top;\n",
       "    }\n",
       "\n",
       "    .dataframe thead th {\n",
       "        text-align: right;\n",
       "    }\n",
       "</style>\n",
       "<table border=\"1\" class=\"dataframe\">\n",
       "  <thead>\n",
       "    <tr style=\"text-align: right;\">\n",
       "      <th></th>\n",
       "      <th>Temp</th>\n",
       "      <th>[Fe/H]</th>\n",
       "      <th>log(g)</th>\n",
       "      <th>KP</th>\n",
       "      <th>Fe5270</th>\n",
       "      <th>GP</th>\n",
       "      <th>GPE</th>\n",
       "      <th>g-r</th>\n",
       "      <th>Bamg</th>\n",
       "      <th>Ba_bmc</th>\n",
       "      <th>Eu_bmc</th>\n",
       "      <th>Sr_bmc</th>\n",
       "      <th>classe</th>\n",
       "    </tr>\n",
       "  </thead>\n",
       "  <tbody>\n",
       "    <tr>\n",
       "      <th>count</th>\n",
       "      <td>12870.000000</td>\n",
       "      <td>12870.000000</td>\n",
       "      <td>12870.000000</td>\n",
       "      <td>1.287000e+04</td>\n",
       "      <td>1.287000e+04</td>\n",
       "      <td>1.287000e+04</td>\n",
       "      <td>1.287000e+04</td>\n",
       "      <td>1.287000e+04</td>\n",
       "      <td>1.287000e+04</td>\n",
       "      <td>1.287000e+04</td>\n",
       "      <td>1.287000e+04</td>\n",
       "      <td>1.287000e+04</td>\n",
       "      <td>12870.000000</td>\n",
       "    </tr>\n",
       "    <tr>\n",
       "      <th>mean</th>\n",
       "      <td>5393.006216</td>\n",
       "      <td>-1.664569</td>\n",
       "      <td>3.332098</td>\n",
       "      <td>1.351073e-16</td>\n",
       "      <td>1.083826e-16</td>\n",
       "      <td>4.358941e-17</td>\n",
       "      <td>-4.601344e-17</td>\n",
       "      <td>-3.051517e-16</td>\n",
       "      <td>2.548855e-15</td>\n",
       "      <td>-2.015999e-16</td>\n",
       "      <td>-9.408860e-17</td>\n",
       "      <td>-1.099267e-16</td>\n",
       "      <td>1.326651</td>\n",
       "    </tr>\n",
       "    <tr>\n",
       "      <th>std</th>\n",
       "      <td>537.546752</td>\n",
       "      <td>0.518553</td>\n",
       "      <td>1.100943</td>\n",
       "      <td>1.000039e+00</td>\n",
       "      <td>1.000039e+00</td>\n",
       "      <td>1.000039e+00</td>\n",
       "      <td>1.000039e+00</td>\n",
       "      <td>1.000039e+00</td>\n",
       "      <td>1.000039e+00</td>\n",
       "      <td>1.000039e+00</td>\n",
       "      <td>1.000039e+00</td>\n",
       "      <td>1.000039e+00</td>\n",
       "      <td>0.687847</td>\n",
       "    </tr>\n",
       "    <tr>\n",
       "      <th>min</th>\n",
       "      <td>4200.000000</td>\n",
       "      <td>-3.000000</td>\n",
       "      <td>1.000000</td>\n",
       "      <td>-2.173033e+00</td>\n",
       "      <td>-1.829353e+00</td>\n",
       "      <td>-1.829892e+00</td>\n",
       "      <td>-1.326067e+00</td>\n",
       "      <td>-1.737792e+00</td>\n",
       "      <td>-4.355577e+00</td>\n",
       "      <td>-2.064650e+00</td>\n",
       "      <td>-2.269160e+00</td>\n",
       "      <td>-2.636948e+00</td>\n",
       "      <td>1.000000</td>\n",
       "    </tr>\n",
       "    <tr>\n",
       "      <th>25%</th>\n",
       "      <td>5040.000000</td>\n",
       "      <td>-2.000000</td>\n",
       "      <td>2.500000</td>\n",
       "      <td>-7.443028e-01</td>\n",
       "      <td>-7.512520e-01</td>\n",
       "      <td>-8.674073e-01</td>\n",
       "      <td>-7.665386e-01</td>\n",
       "      <td>-8.093181e-01</td>\n",
       "      <td>-5.890337e-01</td>\n",
       "      <td>-6.409211e-01</td>\n",
       "      <td>-5.904485e-01</td>\n",
       "      <td>-7.096935e-01</td>\n",
       "      <td>1.000000</td>\n",
       "    </tr>\n",
       "    <tr>\n",
       "      <th>50%</th>\n",
       "      <td>5400.000000</td>\n",
       "      <td>-1.500000</td>\n",
       "      <td>3.500000</td>\n",
       "      <td>1.891566e-01</td>\n",
       "      <td>-2.802604e-02</td>\n",
       "      <td>-1.283005e-01</td>\n",
       "      <td>-3.075614e-01</td>\n",
       "      <td>-1.685404e-01</td>\n",
       "      <td>-1.139742e-01</td>\n",
       "      <td>-2.328877e-01</td>\n",
       "      <td>-9.894932e-02</td>\n",
       "      <td>-1.112108e-01</td>\n",
       "      <td>1.000000</td>\n",
       "    </tr>\n",
       "    <tr>\n",
       "      <th>75%</th>\n",
       "      <td>5900.000000</td>\n",
       "      <td>-1.500000</td>\n",
       "      <td>4.400000</td>\n",
       "      <td>7.445686e-01</td>\n",
       "      <td>5.945023e-01</td>\n",
       "      <td>9.037856e-01</td>\n",
       "      <td>5.799540e-01</td>\n",
       "      <td>4.678782e-01</td>\n",
       "      <td>4.289510e-01</td>\n",
       "      <td>3.681938e-01</td>\n",
       "      <td>4.444688e-01</td>\n",
       "      <td>5.702366e-01</td>\n",
       "      <td>1.000000</td>\n",
       "    </tr>\n",
       "    <tr>\n",
       "      <th>max</th>\n",
       "      <td>6775.000000</td>\n",
       "      <td>-1.000000</td>\n",
       "      <td>4.800000</td>\n",
       "      <td>3.004201e+00</td>\n",
       "      <td>4.025333e+00</td>\n",
       "      <td>2.713548e+00</td>\n",
       "      <td>4.981650e+00</td>\n",
       "      <td>4.077157e+00</td>\n",
       "      <td>1.485040e+01</td>\n",
       "      <td>8.664873e+00</td>\n",
       "      <td>1.134398e+01</td>\n",
       "      <td>3.806192e+00</td>\n",
       "      <td>3.000000</td>\n",
       "    </tr>\n",
       "  </tbody>\n",
       "</table>\n",
       "</div>"
      ],
      "text/plain": [
       "               Temp        [Fe/H]        log(g)            KP        Fe5270  \\\n",
       "count  12870.000000  12870.000000  12870.000000  1.287000e+04  1.287000e+04   \n",
       "mean    5393.006216     -1.664569      3.332098  1.351073e-16  1.083826e-16   \n",
       "std      537.546752      0.518553      1.100943  1.000039e+00  1.000039e+00   \n",
       "min     4200.000000     -3.000000      1.000000 -2.173033e+00 -1.829353e+00   \n",
       "25%     5040.000000     -2.000000      2.500000 -7.443028e-01 -7.512520e-01   \n",
       "50%     5400.000000     -1.500000      3.500000  1.891566e-01 -2.802604e-02   \n",
       "75%     5900.000000     -1.500000      4.400000  7.445686e-01  5.945023e-01   \n",
       "max     6775.000000     -1.000000      4.800000  3.004201e+00  4.025333e+00   \n",
       "\n",
       "                 GP           GPE           g-r          Bamg        Ba_bmc  \\\n",
       "count  1.287000e+04  1.287000e+04  1.287000e+04  1.287000e+04  1.287000e+04   \n",
       "mean   4.358941e-17 -4.601344e-17 -3.051517e-16  2.548855e-15 -2.015999e-16   \n",
       "std    1.000039e+00  1.000039e+00  1.000039e+00  1.000039e+00  1.000039e+00   \n",
       "min   -1.829892e+00 -1.326067e+00 -1.737792e+00 -4.355577e+00 -2.064650e+00   \n",
       "25%   -8.674073e-01 -7.665386e-01 -8.093181e-01 -5.890337e-01 -6.409211e-01   \n",
       "50%   -1.283005e-01 -3.075614e-01 -1.685404e-01 -1.139742e-01 -2.328877e-01   \n",
       "75%    9.037856e-01  5.799540e-01  4.678782e-01  4.289510e-01  3.681938e-01   \n",
       "max    2.713548e+00  4.981650e+00  4.077157e+00  1.485040e+01  8.664873e+00   \n",
       "\n",
       "             Eu_bmc        Sr_bmc        classe  \n",
       "count  1.287000e+04  1.287000e+04  12870.000000  \n",
       "mean  -9.408860e-17 -1.099267e-16      1.326651  \n",
       "std    1.000039e+00  1.000039e+00      0.687847  \n",
       "min   -2.269160e+00 -2.636948e+00      1.000000  \n",
       "25%   -5.904485e-01 -7.096935e-01      1.000000  \n",
       "50%   -9.894932e-02 -1.112108e-01      1.000000  \n",
       "75%    4.444688e-01  5.702366e-01      1.000000  \n",
       "max    1.134398e+01  3.806192e+00      3.000000  "
      ]
     },
     "execution_count": 24,
     "metadata": {},
     "output_type": "execute_result"
    }
   ],
   "source": [
    "strat_train_set.describe()"
   ]
  },
  {
   "cell_type": "code",
   "execution_count": 25,
   "metadata": {},
   "outputs": [
    {
     "name": "stderr",
     "output_type": "stream",
     "text": [
      "/home/monique/anaconda3/lib/python3.7/site-packages/scipy/stats/stats.py:1713: FutureWarning: Using a non-tuple sequence for multidimensional indexing is deprecated; use `arr[tuple(seq)]` instead of `arr[seq]`. In the future this will be interpreted as an array index, `arr[np.array(seq)]`, which will result either in an error or a different result.\n",
      "  return np.add.reduce(sorted[indexer] * weights, axis=axis) / sumval\n"
     ]
    },
    {
     "data": {
      "text/plain": [
       "<matplotlib.legend.Legend at 0x7fa31de4c400>"
      ]
     },
     "execution_count": 25,
     "metadata": {},
     "output_type": "execute_result"
    },
    {
     "data": {
      "image/png": "[encoded data removed]",
      "text/plain": [
       "<Figure size 1080x720 with 1 Axes>"
      ]
     },
     "metadata": {
      "needs_background": "light"
     },
     "output_type": "display_data"
    }
   ],
   "source": [
    "f,axes=plt.subplots(figsize=(15, 10))\n",
    "sns.distplot(strat_train_set.GPE[strat_train_set.classe==1],bins=50, kde=True,label='1')\n",
    "sns.distplot(strat_train_set.GPE[strat_train_set.classe==2],bins=50, kde=True,color='g',label='2')\n",
    "sns.distplot(strat_train_set.GPE[strat_train_set.classe==3],bins=50, kde=True,color='r',label='3')\n",
    "plt.legend()"
   ]
  },
  {
   "cell_type": "code",
   "execution_count": 26,
   "metadata": {},
   "outputs": [
    {
     "data": {
      "text/html": [
       "<div>\n",
       "<style scoped>\n",
       "    .dataframe tbody tr th:only-of-type {\n",
       "        vertical-align: middle;\n",
       "    }\n",
       "\n",
       "    .dataframe tbody tr th {\n",
       "        vertical-align: top;\n",
       "    }\n",
       "\n",
       "    .dataframe thead th {\n",
       "        text-align: right;\n",
       "    }\n",
       "</style>\n",
       "<table border=\"1\" class=\"dataframe\">\n",
       "  <thead>\n",
       "    <tr style=\"text-align: right;\">\n",
       "      <th></th>\n",
       "      <th>KP</th>\n",
       "      <th>Fe5270</th>\n",
       "      <th>GP</th>\n",
       "      <th>GPE</th>\n",
       "      <th>g-r</th>\n",
       "      <th>Bamg</th>\n",
       "      <th>Ba_bmc</th>\n",
       "      <th>Eu_bmc</th>\n",
       "      <th>Sr_bmc</th>\n",
       "      <th>classe</th>\n",
       "    </tr>\n",
       "  </thead>\n",
       "  <tbody>\n",
       "    <tr>\n",
       "      <th>13669</th>\n",
       "      <td>-0.592050</td>\n",
       "      <td>-1.580791</td>\n",
       "      <td>-1.069553</td>\n",
       "      <td>-0.598827</td>\n",
       "      <td>-0.268798</td>\n",
       "      <td>-0.147907</td>\n",
       "      <td>-0.101264</td>\n",
       "      <td>-0.766973</td>\n",
       "      <td>0.301605</td>\n",
       "      <td>1</td>\n",
       "    </tr>\n",
       "    <tr>\n",
       "      <th>18119</th>\n",
       "      <td>-1.423058</td>\n",
       "      <td>-1.682611</td>\n",
       "      <td>-0.064981</td>\n",
       "      <td>0.149256</td>\n",
       "      <td>-1.240862</td>\n",
       "      <td>-0.317571</td>\n",
       "      <td>1.870897</td>\n",
       "      <td>1.226714</td>\n",
       "      <td>-1.041887</td>\n",
       "      <td>3</td>\n",
       "    </tr>\n",
       "    <tr>\n",
       "      <th>4509</th>\n",
       "      <td>1.283521</td>\n",
       "      <td>0.466103</td>\n",
       "      <td>-0.286600</td>\n",
       "      <td>-0.786738</td>\n",
       "      <td>0.428647</td>\n",
       "      <td>0.734346</td>\n",
       "      <td>0.344063</td>\n",
       "      <td>0.929045</td>\n",
       "      <td>1.590233</td>\n",
       "      <td>1</td>\n",
       "    </tr>\n",
       "    <tr>\n",
       "      <th>14074</th>\n",
       "      <td>-1.686414</td>\n",
       "      <td>-1.507420</td>\n",
       "      <td>-1.630887</td>\n",
       "      <td>-0.915354</td>\n",
       "      <td>-1.428301</td>\n",
       "      <td>-1.030160</td>\n",
       "      <td>1.171098</td>\n",
       "      <td>-1.988798</td>\n",
       "      <td>1.291828</td>\n",
       "      <td>1</td>\n",
       "    </tr>\n",
       "    <tr>\n",
       "      <th>5671</th>\n",
       "      <td>0.660582</td>\n",
       "      <td>0.262462</td>\n",
       "      <td>0.646612</td>\n",
       "      <td>0.184081</td>\n",
       "      <td>0.123515</td>\n",
       "      <td>-0.113974</td>\n",
       "      <td>-0.430323</td>\n",
       "      <td>0.036040</td>\n",
       "      <td>1.291828</td>\n",
       "      <td>1</td>\n",
       "    </tr>\n",
       "    <tr>\n",
       "      <th>6220</th>\n",
       "      <td>0.785507</td>\n",
       "      <td>-0.340975</td>\n",
       "      <td>-0.458468</td>\n",
       "      <td>-0.733643</td>\n",
       "      <td>-0.151104</td>\n",
       "      <td>0.496817</td>\n",
       "      <td>-0.480779</td>\n",
       "      <td>-0.645829</td>\n",
       "      <td>-0.137305</td>\n",
       "      <td>1</td>\n",
       "    </tr>\n",
       "    <tr>\n",
       "      <th>12464</th>\n",
       "      <td>-0.856250</td>\n",
       "      <td>-0.993825</td>\n",
       "      <td>-1.318811</td>\n",
       "      <td>-1.039550</td>\n",
       "      <td>-0.918294</td>\n",
       "      <td>-0.046109</td>\n",
       "      <td>0.526142</td>\n",
       "      <td>-0.368928</td>\n",
       "      <td>-1.119499</td>\n",
       "      <td>1</td>\n",
       "    </tr>\n",
       "    <tr>\n",
       "      <th>7941</th>\n",
       "      <td>0.167210</td>\n",
       "      <td>0.217541</td>\n",
       "      <td>0.767724</td>\n",
       "      <td>0.539259</td>\n",
       "      <td>-0.255721</td>\n",
       "      <td>-0.113974</td>\n",
       "      <td>0.030360</td>\n",
       "      <td>0.029117</td>\n",
       "      <td>-0.842504</td>\n",
       "      <td>1</td>\n",
       "    </tr>\n",
       "    <tr>\n",
       "      <th>6182</th>\n",
       "      <td>0.739504</td>\n",
       "      <td>0.075292</td>\n",
       "      <td>-0.531838</td>\n",
       "      <td>-0.456162</td>\n",
       "      <td>-0.155463</td>\n",
       "      <td>0.157488</td>\n",
       "      <td>-0.156107</td>\n",
       "      <td>0.184874</td>\n",
       "      <td>0.815451</td>\n",
       "      <td>1</td>\n",
       "    </tr>\n",
       "    <tr>\n",
       "      <th>1341</th>\n",
       "      <td>1.501296</td>\n",
       "      <td>1.632549</td>\n",
       "      <td>0.177745</td>\n",
       "      <td>0.264153</td>\n",
       "      <td>0.210695</td>\n",
       "      <td>0.089623</td>\n",
       "      <td>-1.132316</td>\n",
       "      <td>0.312941</td>\n",
       "      <td>-1.124851</td>\n",
       "      <td>1</td>\n",
       "    </tr>\n",
       "  </tbody>\n",
       "</table>\n",
       "</div>"
      ],
      "text/plain": [
       "             KP    Fe5270        GP       GPE       g-r      Bamg    Ba_bmc  \\\n",
       "13669 -0.592050 -1.580791 -1.069553 -0.598827 -0.268798 -0.147907 -0.101264   \n",
       "18119 -1.423058 -1.682611 -0.064981  0.149256 -1.240862 -0.317571  1.870897   \n",
       "4509   1.283521  0.466103 -0.286600 -0.786738  0.428647  0.734346  0.344063   \n",
       "14074 -1.686414 -1.507420 -1.630887 -0.915354 -1.428301 -1.030160  1.171098   \n",
       "5671   0.660582  0.262462  0.646612  0.184081  0.123515 -0.113974 -0.430323   \n",
       "6220   0.785507 -0.340975 -0.458468 -0.733643 -0.151104  0.496817 -0.480779   \n",
       "12464 -0.856250 -0.993825 -1.318811 -1.039550 -0.918294 -0.046109  0.526142   \n",
       "7941   0.167210  0.217541  0.767724  0.539259 -0.255721 -0.113974  0.030360   \n",
       "6182   0.739504  0.075292 -0.531838 -0.456162 -0.155463  0.157488 -0.156107   \n",
       "1341   1.501296  1.632549  0.177745  0.264153  0.210695  0.089623 -1.132316   \n",
       "\n",
       "         Eu_bmc    Sr_bmc  classe  \n",
       "13669 -0.766973  0.301605       1  \n",
       "18119  1.226714 -1.041887       3  \n",
       "4509   0.929045  1.590233       1  \n",
       "14074 -1.988798  1.291828       1  \n",
       "5671   0.036040  1.291828       1  \n",
       "6220  -0.645829 -0.137305       1  \n",
       "12464 -0.368928 -1.119499       1  \n",
       "7941   0.029117 -0.842504       1  \n",
       "6182   0.184874  0.815451       1  \n",
       "1341   0.312941 -1.124851       1  "
      ]
     },
     "execution_count": 26,
     "metadata": {},
     "output_type": "execute_result"
    }
   ],
   "source": [
    "# drop non feature columns\n",
    "drop_elements = ['ID','Temp','[Fe/H]','log(g)']\n",
    "train = strat_train_set.drop(drop_elements, axis = 1)\n",
    "train.head(10)"
   ]
  },
  {
   "cell_type": "code",
   "execution_count": 27,
   "metadata": {},
   "outputs": [],
   "source": [
    "# setting feature matrix and target vector\n",
    "drop_elem=['classe']\n",
    "X_train= train.drop(drop_elem, axis = 1)\n",
    "y_train=train.loc[:,'classe']"
   ]
  },
  {
   "cell_type": "code",
   "execution_count": 28,
   "metadata": {},
   "outputs": [
    {
     "data": {
      "text/plain": [
       "Index([' KP', 'Fe5270', 'GP', 'GPE', 'g-r', 'Bamg', 'Ba_bmc', 'Eu_bmc',\n",
       "       'Sr_bmc'],\n",
       "      dtype='object')"
      ]
     },
     "execution_count": 28,
     "metadata": {},
     "output_type": "execute_result"
    }
   ],
   "source": [
    "X_train.columns"
   ]
  },
  {
   "cell_type": "markdown",
   "metadata": {},
   "source": [
    "# 4. Pre-processing Test Set"
   ]
  },
  {
   "cell_type": "code",
   "execution_count": 29,
   "metadata": {},
   "outputs": [],
   "source": [
    "strat_test_set[[' KP', 'Fe5270','GP','GPE','g-r',\n",
    "          'Bamg','Ba_bmc','Eu_bmc','Sr_bmc']] = std_sc.fit_transform(strat_test_set[[' KP','Fe5270','GP','GPE','g-r',\n",
    "                                                                                      'Bamg','Ba_bmc','Eu_bmc','Sr_bmc']])"
   ]
  },
  {
   "cell_type": "code",
   "execution_count": 31,
   "metadata": {},
   "outputs": [
    {
     "data": {
      "text/html": [
       "<div>\n",
       "<style scoped>\n",
       "    .dataframe tbody tr th:only-of-type {\n",
       "        vertical-align: middle;\n",
       "    }\n",
       "\n",
       "    .dataframe tbody tr th {\n",
       "        vertical-align: top;\n",
       "    }\n",
       "\n",
       "    .dataframe thead th {\n",
       "        text-align: right;\n",
       "    }\n",
       "</style>\n",
       "<table border=\"1\" class=\"dataframe\">\n",
       "  <thead>\n",
       "    <tr style=\"text-align: right;\">\n",
       "      <th></th>\n",
       "      <th>KP</th>\n",
       "      <th>Fe5270</th>\n",
       "      <th>GP</th>\n",
       "      <th>GPE</th>\n",
       "      <th>g-r</th>\n",
       "      <th>Bamg</th>\n",
       "      <th>Ba_bmc</th>\n",
       "      <th>Eu_bmc</th>\n",
       "      <th>Sr_bmc</th>\n",
       "      <th>classe</th>\n",
       "    </tr>\n",
       "  </thead>\n",
       "  <tbody>\n",
       "    <tr>\n",
       "      <th>13133</th>\n",
       "      <td>-1.377601</td>\n",
       "      <td>-1.354952</td>\n",
       "      <td>-1.437932</td>\n",
       "      <td>-0.750110</td>\n",
       "      <td>-1.359791</td>\n",
       "      <td>-0.869902</td>\n",
       "      <td>2.366824</td>\n",
       "      <td>3.427104</td>\n",
       "      <td>2.943313</td>\n",
       "      <td>1</td>\n",
       "    </tr>\n",
       "    <tr>\n",
       "      <th>7822</th>\n",
       "      <td>0.432609</td>\n",
       "      <td>-0.331289</td>\n",
       "      <td>-0.109974</td>\n",
       "      <td>-0.294608</td>\n",
       "      <td>-0.313227</td>\n",
       "      <td>-0.938931</td>\n",
       "      <td>0.086863</td>\n",
       "      <td>0.509367</td>\n",
       "      <td>-0.595715</td>\n",
       "      <td>1</td>\n",
       "    </tr>\n",
       "    <tr>\n",
       "      <th>1083</th>\n",
       "      <td>1.056790</td>\n",
       "      <td>0.854885</td>\n",
       "      <td>1.507730</td>\n",
       "      <td>0.724081</td>\n",
       "      <td>0.332526</td>\n",
       "      <td>-0.352188</td>\n",
       "      <td>-0.868488</td>\n",
       "      <td>-0.115130</td>\n",
       "      <td>-1.359140</td>\n",
       "      <td>1</td>\n",
       "    </tr>\n",
       "    <tr>\n",
       "      <th>18019</th>\n",
       "      <td>-0.967558</td>\n",
       "      <td>-1.046638</td>\n",
       "      <td>0.389502</td>\n",
       "      <td>0.446494</td>\n",
       "      <td>-0.789747</td>\n",
       "      <td>-0.421217</td>\n",
       "      <td>-0.649509</td>\n",
       "      <td>-0.838593</td>\n",
       "      <td>-1.098425</td>\n",
       "      <td>3</td>\n",
       "    </tr>\n",
       "    <tr>\n",
       "      <th>8599</th>\n",
       "      <td>0.009845</td>\n",
       "      <td>-0.909947</td>\n",
       "      <td>-1.036364</td>\n",
       "      <td>-0.963475</td>\n",
       "      <td>-0.754120</td>\n",
       "      <td>-0.076074</td>\n",
       "      <td>-1.035943</td>\n",
       "      <td>-0.719153</td>\n",
       "      <td>0.142307</td>\n",
       "      <td>1</td>\n",
       "    </tr>\n",
       "    <tr>\n",
       "      <th>190</th>\n",
       "      <td>1.435455</td>\n",
       "      <td>2.931069</td>\n",
       "      <td>1.764674</td>\n",
       "      <td>0.286003</td>\n",
       "      <td>2.630514</td>\n",
       "      <td>0.717754</td>\n",
       "      <td>-0.336068</td>\n",
       "      <td>1.700350</td>\n",
       "      <td>1.211904</td>\n",
       "      <td>1</td>\n",
       "    </tr>\n",
       "    <tr>\n",
       "      <th>12231</th>\n",
       "      <td>-1.012930</td>\n",
       "      <td>-0.759587</td>\n",
       "      <td>-1.286847</td>\n",
       "      <td>-1.210086</td>\n",
       "      <td>-0.927805</td>\n",
       "      <td>-0.593788</td>\n",
       "      <td>3.107490</td>\n",
       "      <td>4.447458</td>\n",
       "      <td>0.547417</td>\n",
       "      <td>1</td>\n",
       "    </tr>\n",
       "    <tr>\n",
       "      <th>5305</th>\n",
       "      <td>0.639539</td>\n",
       "      <td>-0.097395</td>\n",
       "      <td>0.872079</td>\n",
       "      <td>0.622205</td>\n",
       "      <td>0.198922</td>\n",
       "      <td>0.061983</td>\n",
       "      <td>-0.960803</td>\n",
       "      <td>-0.237983</td>\n",
       "      <td>-0.651869</td>\n",
       "      <td>1</td>\n",
       "    </tr>\n",
       "    <tr>\n",
       "      <th>3419</th>\n",
       "      <td>1.413829</td>\n",
       "      <td>0.654405</td>\n",
       "      <td>0.353221</td>\n",
       "      <td>0.089529</td>\n",
       "      <td>1.396904</td>\n",
       "      <td>1.339011</td>\n",
       "      <td>-1.033796</td>\n",
       "      <td>-0.548525</td>\n",
       "      <td>-0.764176</td>\n",
       "      <td>1</td>\n",
       "    </tr>\n",
       "    <tr>\n",
       "      <th>12175</th>\n",
       "      <td>-0.901409</td>\n",
       "      <td>-1.007149</td>\n",
       "      <td>-1.324121</td>\n",
       "      <td>-0.729481</td>\n",
       "      <td>-0.945619</td>\n",
       "      <td>-0.731845</td>\n",
       "      <td>0.653633</td>\n",
       "      <td>1.382982</td>\n",
       "      <td>0.726574</td>\n",
       "      <td>1</td>\n",
       "    </tr>\n",
       "  </tbody>\n",
       "</table>\n",
       "</div>"
      ],
      "text/plain": [
       "             KP    Fe5270        GP       GPE       g-r      Bamg    Ba_bmc  \\\n",
       "13133 -1.377601 -1.354952 -1.437932 -0.750110 -1.359791 -0.869902  2.366824   \n",
       "7822   0.432609 -0.331289 -0.109974 -0.294608 -0.313227 -0.938931  0.086863   \n",
       "1083   1.056790  0.854885  1.507730  0.724081  0.332526 -0.352188 -0.868488   \n",
       "18019 -0.967558 -1.046638  0.389502  0.446494 -0.789747 -0.421217 -0.649509   \n",
       "8599   0.009845 -0.909947 -1.036364 -0.963475 -0.754120 -0.076074 -1.035943   \n",
       "190    1.435455  2.931069  1.764674  0.286003  2.630514  0.717754 -0.336068   \n",
       "12231 -1.012930 -0.759587 -1.286847 -1.210086 -0.927805 -0.593788  3.107490   \n",
       "5305   0.639539 -0.097395  0.872079  0.622205  0.198922  0.061983 -0.960803   \n",
       "3419   1.413829  0.654405  0.353221  0.089529  1.396904  1.339011 -1.033796   \n",
       "12175 -0.901409 -1.007149 -1.324121 -0.729481 -0.945619 -0.731845  0.653633   \n",
       "\n",
       "         Eu_bmc    Sr_bmc  classe  \n",
       "13133  3.427104  2.943313       1  \n",
       "7822   0.509367 -0.595715       1  \n",
       "1083  -0.115130 -1.359140       1  \n",
       "18019 -0.838593 -1.098425       3  \n",
       "8599  -0.719153  0.142307       1  \n",
       "190    1.700350  1.211904       1  \n",
       "12231  4.447458  0.547417       1  \n",
       "5305  -0.237983 -0.651869       1  \n",
       "3419  -0.548525 -0.764176       1  \n",
       "12175  1.382982  0.726574       1  "
      ]
     },
     "execution_count": 31,
     "metadata": {},
     "output_type": "execute_result"
    }
   ],
   "source": [
    "drop_elements = ['ID','Temp','[Fe/H]','log(g)']\n",
    "test = strat_test_set.drop(drop_elements, axis = 1)\n",
    "test.head(10)"
   ]
  },
  {
   "cell_type": "code",
   "execution_count": 32,
   "metadata": {},
   "outputs": [],
   "source": [
    "# setting feature matrix and target vector\n",
    "drop_elem=['classe']\n",
    "X_test= test.drop(drop_elem, axis = 1)\n",
    "y_test=test.loc[:,'classe']"
   ]
  },
  {
   "cell_type": "markdown",
   "metadata": {},
   "source": [
    "# 5. Modelling\n",
    "\n",
    "Because our dataset is extremely imbalanced, we need to balance the data before applying the models. Otherwise, the performace of the models in the minority classes will be poor. We will use two ways to increase the minority classes: Random Oversampling and Synthetic Minority Oversampling Technique (SMOTE).\n",
    "\n",
    "We will test two models:\n",
    "\n",
    "Logistic regression and Random Forest\n",
    "\n"
   ]
  },
  {
   "cell_type": "markdown",
   "metadata": {},
   "source": [
    "## 5.1 Re-sampling"
   ]
  },
  {
   "cell_type": "code",
   "execution_count": 33,
   "metadata": {},
   "outputs": [],
   "source": [
    "# Re-sampling:\n",
    "ros = RandomOverSampler(random_state=42)\n",
    "smt=SMOTE(random_state=42,k_neighbors=15)"
   ]
  },
  {
   "cell_type": "code",
   "execution_count": 34,
   "metadata": {},
   "outputs": [],
   "source": [
    "# New training set\n",
    "X_res1, y_res1 = ros.fit_sample(X_train, y_train)\n",
    "X_res2, y_res2 = smt.fit_sample(X_train, y_train)"
   ]
  },
  {
   "cell_type": "code",
   "execution_count": 35,
   "metadata": {},
   "outputs": [
    {
     "data": {
      "text/plain": [
       "1    0.333333\n",
       "2    0.333333\n",
       "3    0.333333\n",
       "dtype: float64"
      ]
     },
     "execution_count": 35,
     "metadata": {},
     "output_type": "execute_result"
    }
   ],
   "source": [
    "# Proportion of class 0 and class 1 in the training set\n",
    "pd.value_counts(y_res1,dropna=True,sort=False,normalize=True)"
   ]
  },
  {
   "cell_type": "code",
   "execution_count": 36,
   "metadata": {},
   "outputs": [
    {
     "data": {
      "text/plain": [
       "30885"
      ]
     },
     "execution_count": 36,
     "metadata": {},
     "output_type": "execute_result"
    }
   ],
   "source": [
    "# we can see that the trainig set is now larger\n",
    "len(y_res1)"
   ]
  },
  {
   "cell_type": "markdown",
   "metadata": {},
   "source": [
    "## 5.2 Logistic Regression "
   ]
  },
  {
   "cell_type": "code",
   "execution_count": 37,
   "metadata": {
    "scrolled": true
   },
   "outputs": [
    {
     "name": "stderr",
     "output_type": "stream",
     "text": [
      "/home/monique/anaconda3/lib/python3.7/site-packages/sklearn/linear_model/logistic.py:433: FutureWarning: Default solver will be changed to 'lbfgs' in 0.22. Specify a solver to silence this warning.\n",
      "  FutureWarning)\n",
      "/home/monique/anaconda3/lib/python3.7/site-packages/sklearn/linear_model/logistic.py:460: FutureWarning: Default multi_class will be changed to 'auto' in 0.22. Specify the multi_class option to silence this warning.\n",
      "  \"this warning.\", FutureWarning)\n",
      "/home/monique/anaconda3/lib/python3.7/site-packages/sklearn/linear_model/logistic.py:433: FutureWarning: Default solver will be changed to 'lbfgs' in 0.22. Specify a solver to silence this warning.\n",
      "  FutureWarning)\n",
      "/home/monique/anaconda3/lib/python3.7/site-packages/sklearn/linear_model/logistic.py:460: FutureWarning: Default multi_class will be changed to 'auto' in 0.22. Specify the multi_class option to silence this warning.\n",
      "  \"this warning.\", FutureWarning)\n",
      "/home/monique/anaconda3/lib/python3.7/site-packages/sklearn/linear_model/logistic.py:433: FutureWarning: Default solver will be changed to 'lbfgs' in 0.22. Specify a solver to silence this warning.\n",
      "  FutureWarning)\n",
      "/home/monique/anaconda3/lib/python3.7/site-packages/sklearn/linear_model/logistic.py:460: FutureWarning: Default multi_class will be changed to 'auto' in 0.22. Specify the multi_class option to silence this warning.\n",
      "  \"this warning.\", FutureWarning)\n",
      "/home/monique/anaconda3/lib/python3.7/site-packages/sklearn/linear_model/logistic.py:433: FutureWarning: Default solver will be changed to 'lbfgs' in 0.22. Specify a solver to silence this warning.\n",
      "  FutureWarning)\n",
      "/home/monique/anaconda3/lib/python3.7/site-packages/sklearn/linear_model/logistic.py:460: FutureWarning: Default multi_class will be changed to 'auto' in 0.22. Specify the multi_class option to silence this warning.\n",
      "  \"this warning.\", FutureWarning)\n",
      "/home/monique/anaconda3/lib/python3.7/site-packages/sklearn/linear_model/logistic.py:433: FutureWarning: Default solver will be changed to 'lbfgs' in 0.22. Specify a solver to silence this warning.\n",
      "  FutureWarning)\n",
      "/home/monique/anaconda3/lib/python3.7/site-packages/sklearn/linear_model/logistic.py:460: FutureWarning: Default multi_class will be changed to 'auto' in 0.22. Specify the multi_class option to silence this warning.\n",
      "  \"this warning.\", FutureWarning)\n",
      "/home/monique/anaconda3/lib/python3.7/site-packages/sklearn/linear_model/logistic.py:433: FutureWarning: Default solver will be changed to 'lbfgs' in 0.22. Specify a solver to silence this warning.\n",
      "  FutureWarning)\n",
      "/home/monique/anaconda3/lib/python3.7/site-packages/sklearn/linear_model/logistic.py:460: FutureWarning: Default multi_class will be changed to 'auto' in 0.22. Specify the multi_class option to silence this warning.\n",
      "  \"this warning.\", FutureWarning)\n"
     ]
    },
    {
     "name": "stdout",
     "output_type": "stream",
     "text": [
      "Accuracy: 0.7783713776914359\n"
     ]
    }
   ],
   "source": [
    "# Logistic Regression\n",
    "clf_log1 = LogisticRegression(random_state=42)\n",
    "clf_log1 = clf_log1.fit(X_res1,y_res1) # fit logistic regression to the trainig set\n",
    "score_log1 = cross_val_score(clf_log1, X_res1, y_res1, cv=5).mean()\n",
    "print('Accuracy:',score_log1)"
   ]
  },
  {
   "cell_type": "code",
   "execution_count": 38,
   "metadata": {
    "scrolled": true
   },
   "outputs": [
    {
     "name": "stderr",
     "output_type": "stream",
     "text": [
      "/home/monique/anaconda3/lib/python3.7/site-packages/sklearn/linear_model/logistic.py:433: FutureWarning: Default solver will be changed to 'lbfgs' in 0.22. Specify a solver to silence this warning.\n",
      "  FutureWarning)\n",
      "/home/monique/anaconda3/lib/python3.7/site-packages/sklearn/linear_model/logistic.py:460: FutureWarning: Default multi_class will be changed to 'auto' in 0.22. Specify the multi_class option to silence this warning.\n",
      "  \"this warning.\", FutureWarning)\n",
      "/home/monique/anaconda3/lib/python3.7/site-packages/sklearn/linear_model/logistic.py:433: FutureWarning: Default solver will be changed to 'lbfgs' in 0.22. Specify a solver to silence this warning.\n",
      "  FutureWarning)\n",
      "/home/monique/anaconda3/lib/python3.7/site-packages/sklearn/linear_model/logistic.py:460: FutureWarning: Default multi_class will be changed to 'auto' in 0.22. Specify the multi_class option to silence this warning.\n",
      "  \"this warning.\", FutureWarning)\n",
      "/home/monique/anaconda3/lib/python3.7/site-packages/sklearn/linear_model/logistic.py:433: FutureWarning: Default solver will be changed to 'lbfgs' in 0.22. Specify a solver to silence this warning.\n",
      "  FutureWarning)\n",
      "/home/monique/anaconda3/lib/python3.7/site-packages/sklearn/linear_model/logistic.py:460: FutureWarning: Default multi_class will be changed to 'auto' in 0.22. Specify the multi_class option to silence this warning.\n",
      "  \"this warning.\", FutureWarning)\n",
      "/home/monique/anaconda3/lib/python3.7/site-packages/sklearn/linear_model/logistic.py:433: FutureWarning: Default solver will be changed to 'lbfgs' in 0.22. Specify a solver to silence this warning.\n",
      "  FutureWarning)\n",
      "/home/monique/anaconda3/lib/python3.7/site-packages/sklearn/linear_model/logistic.py:460: FutureWarning: Default multi_class will be changed to 'auto' in 0.22. Specify the multi_class option to silence this warning.\n",
      "  \"this warning.\", FutureWarning)\n",
      "/home/monique/anaconda3/lib/python3.7/site-packages/sklearn/linear_model/logistic.py:433: FutureWarning: Default solver will be changed to 'lbfgs' in 0.22. Specify a solver to silence this warning.\n",
      "  FutureWarning)\n",
      "/home/monique/anaconda3/lib/python3.7/site-packages/sklearn/linear_model/logistic.py:460: FutureWarning: Default multi_class will be changed to 'auto' in 0.22. Specify the multi_class option to silence this warning.\n",
      "  \"this warning.\", FutureWarning)\n",
      "/home/monique/anaconda3/lib/python3.7/site-packages/sklearn/linear_model/logistic.py:433: FutureWarning: Default solver will be changed to 'lbfgs' in 0.22. Specify a solver to silence this warning.\n",
      "  FutureWarning)\n",
      "/home/monique/anaconda3/lib/python3.7/site-packages/sklearn/linear_model/logistic.py:460: FutureWarning: Default multi_class will be changed to 'auto' in 0.22. Specify the multi_class option to silence this warning.\n",
      "  \"this warning.\", FutureWarning)\n"
     ]
    },
    {
     "name": "stdout",
     "output_type": "stream",
     "text": [
      "Accuracy: 0.8002266472397604\n"
     ]
    }
   ],
   "source": [
    "# Logistic Regression\n",
    "clf_log2 = LogisticRegression(random_state=42)\n",
    "clf_log2 = clf_log2.fit(X_res2,y_res2) # fit logistic regression to the trainig set\n",
    "score_log2 = cross_val_score(clf_log2, X_res2, y_res2, cv=5).mean()\n",
    "print('Accuracy:',score_log2)"
   ]
  },
  {
   "cell_type": "code",
   "execution_count": 39,
   "metadata": {},
   "outputs": [],
   "source": [
    "#From: http://scikit-learn.org/stable/auto_examples/model_selection/plot_confusion_matrix.html\n",
    "def plot_confusion_matrix(cm, classes,\n",
    "                          normalize=False,\n",
    "                          title='Confusion matrix',\n",
    "                          cmap=plt.cm.Blues):\n",
    "    \"\"\"\n",
    "    This function prints and plots the confusion matrix.\n",
    "    Normalization can be applied by setting `normalize=True`.\n",
    "    \"\"\"\n",
    "    if normalize:\n",
    "        cm = cm.astype('float') / cm.sum(axis=1)[:, np.newaxis]\n",
    "        print(\"Normalized confusion matrix\")\n",
    "    else:\n",
    "        print('Confusion matrix, without normalization')\n",
    "\n",
    "    print(cm)\n",
    "\n",
    "    plt.imshow(cm, interpolation='nearest', cmap=cmap)\n",
    "    plt.title(title)\n",
    "    plt.colorbar()\n",
    "    tick_marks = np.arange(len(classes))\n",
    "    plt.xticks(tick_marks, classes, rotation=45)\n",
    "    plt.yticks(tick_marks, classes)\n",
    "\n",
    "    fmt = '.2f' if normalize else 'd'\n",
    "    thresh = cm.max() / 2.\n",
    "    for i, j in itertools.product(range(cm.shape[0]), range(cm.shape[1])):\n",
    "        plt.text(j, i, format(cm[i, j], fmt),\n",
    "                 horizontalalignment=\"center\",\n",
    "                 color=\"white\" if cm[i, j] > thresh else \"black\")\n",
    "\n",
    "    plt.tight_layout()\n",
    "    plt.ylabel('True label')\n",
    "    plt.xlabel('Predicted label')"
   ]
  },
  {
   "cell_type": "markdown",
   "metadata": {},
   "source": [
    "**Model Evaluation:**"
   ]
  },
  {
   "cell_type": "code",
   "execution_count": 40,
   "metadata": {},
   "outputs": [],
   "source": [
    "# Predictions using logistic regression\n",
    "y_pred_log1 = clf_log1.predict(X_test) \n",
    "y_pred_log2 = clf_log2.predict(X_test) "
   ]
  },
  {
   "cell_type": "code",
   "execution_count": 41,
   "metadata": {},
   "outputs": [
    {
     "data": {
      "text/plain": [
       "0.9026468455402465"
      ]
     },
     "execution_count": 41,
     "metadata": {},
     "output_type": "execute_result"
    }
   ],
   "source": [
    "accuracy_score(y_test, y_pred_log1)"
   ]
  },
  {
   "cell_type": "code",
   "execution_count": 42,
   "metadata": {},
   "outputs": [
    {
     "data": {
      "text/plain": [
       "0.902102973168963"
      ]
     },
     "execution_count": 42,
     "metadata": {},
     "output_type": "execute_result"
    }
   ],
   "source": [
    "accuracy_score(y_test, y_pred_log2)"
   ]
  },
  {
   "cell_type": "code",
   "execution_count": 43,
   "metadata": {},
   "outputs": [],
   "source": [
    "# Getting confusion matrix for logistic regression\n",
    "conf_log1=confusion_matrix(y_test, y_pred_log1)\n",
    "conf_log2=confusion_matrix(y_test, y_pred_log2)"
   ]
  },
  {
   "cell_type": "code",
   "execution_count": 44,
   "metadata": {},
   "outputs": [
    {
     "name": "stdout",
     "output_type": "stream",
     "text": [
      "Normalized confusion matrix\n",
      "[[0.95 0.03 0.02]\n",
      " [0.1  0.71 0.19]\n",
      " [0.05 0.23 0.72]]\n"
     ]
    },
    {
     "data": {
      "image/png": "[encoded data removed]",
      "text/plain": [
       "<Figure size 936x576 with 2 Axes>"
      ]
     },
     "metadata": {
      "needs_background": "light"
     },
     "output_type": "display_data"
    }
   ],
   "source": [
    "class_names=[1,2,3]\n",
    "np.set_printoptions(precision=2)\n",
    "\n",
    "f,ax=plt.subplots(figsize=(13,8))\n",
    "plot_confusion_matrix(conf_log1, classes=class_names, normalize=True)\n",
    "ax.set_title('Logistic Regression - ROS',fontsize=22)\n",
    "ax.set_xlabel('Predicted Label',fontsize=16)\n",
    "ax.set_ylabel('True Label',fontsize=16)\n",
    "savefig('conf_matrix_log1.eps', fmt='eps', dpi=200)\n",
    "savefig('conf_matrix_log1.jpeg', fmt='jpeg', dpi=200)\n",
    "plt.show()"
   ]
  },
  {
   "cell_type": "code",
   "execution_count": 45,
   "metadata": {},
   "outputs": [
    {
     "name": "stdout",
     "output_type": "stream",
     "text": [
      "Normalized confusion matrix\n",
      "[[0.95 0.03 0.02]\n",
      " [0.1  0.7  0.19]\n",
      " [0.05 0.23 0.72]]\n"
     ]
    },
    {
     "data": {
      "image/png": "[encoded data removed]",
      "text/plain": [
       "<Figure size 936x576 with 2 Axes>"
      ]
     },
     "metadata": {
      "needs_background": "light"
     },
     "output_type": "display_data"
    }
   ],
   "source": [
    "class_names=[1,2,3]\n",
    "np.set_printoptions(precision=2)\n",
    "\n",
    "f,ax=plt.subplots(figsize=(13,8))\n",
    "plot_confusion_matrix(conf_log2, classes=class_names, normalize=True)\n",
    "ax.set_title('Logistic Regression - SMOTE',fontsize=22)\n",
    "ax.set_xlabel('Predicted Label',fontsize=16)\n",
    "ax.set_ylabel('True Label',fontsize=16)\n",
    "savefig('conf_matrix_log2.eps', fmt='eps', dpi=200)\n",
    "savefig('conf_matrix_log2.jpeg', fmt='jpeg', dpi=200)\n",
    "plt.show()"
   ]
  },
  {
   "cell_type": "markdown",
   "metadata": {},
   "source": [
    "## 5.3 Random Forest"
   ]
  },
  {
   "cell_type": "code",
   "execution_count": 46,
   "metadata": {},
   "outputs": [
    {
     "name": "stderr",
     "output_type": "stream",
     "text": [
      "/home/monique/anaconda3/lib/python3.7/site-packages/sklearn/ensemble/forest.py:246: FutureWarning: The default value of n_estimators will change from 10 in version 0.20 to 100 in 0.22.\n",
      "  \"10 in version 0.20 to 100 in 0.22.\", FutureWarning)\n"
     ]
    },
    {
     "name": "stdout",
     "output_type": "stream",
     "text": [
      "0.9952727861421401\n"
     ]
    }
   ],
   "source": [
    "clf_rf1 = RandomForestClassifier(\n",
    "    max_depth=None, random_state=42\n",
    "    )\n",
    "clf_rf1 = clf_rf1.fit(X_res1,y_res1)\n",
    "score_rf1 = cross_val_score(clf_rf1, X_res1, y_res1, cv=5).mean()\n",
    "print(score_rf1)"
   ]
  },
  {
   "cell_type": "code",
   "execution_count": 47,
   "metadata": {},
   "outputs": [
    {
     "name": "stderr",
     "output_type": "stream",
     "text": [
      "/home/monique/anaconda3/lib/python3.7/site-packages/sklearn/ensemble/forest.py:246: FutureWarning: The default value of n_estimators will change from 10 in version 0.20 to 100 in 0.22.\n",
      "  \"10 in version 0.20 to 100 in 0.22.\", FutureWarning)\n"
     ]
    },
    {
     "name": "stdout",
     "output_type": "stream",
     "text": [
      "0.9454751497490692\n"
     ]
    }
   ],
   "source": [
    "clf_rf2 = RandomForestClassifier(\n",
    "    max_depth=None, \\\n",
    "    random_state=42)\n",
    "clf_rf2 = clf_rf2.fit(X_res2,y_res2)\n",
    "score_rf2 = cross_val_score(clf_rf2, X_res2, y_res2, cv=5).mean()\n",
    "print(score_rf2)"
   ]
  },
  {
   "cell_type": "code",
   "execution_count": 39,
   "metadata": {},
   "outputs": [
    {
     "data": {
      "text/html": [
       "<div>\n",
       "<style scoped>\n",
       "    .dataframe tbody tr th:only-of-type {\n",
       "        vertical-align: middle;\n",
       "    }\n",
       "\n",
       "    .dataframe tbody tr th {\n",
       "        vertical-align: top;\n",
       "    }\n",
       "\n",
       "    .dataframe thead th {\n",
       "        text-align: right;\n",
       "    }\n",
       "</style>\n",
       "<table border=\"1\" class=\"dataframe\">\n",
       "  <thead>\n",
       "    <tr style=\"text-align: right;\">\n",
       "      <th></th>\n",
       "      <th>0</th>\n",
       "      <th>1</th>\n",
       "    </tr>\n",
       "  </thead>\n",
       "  <tbody>\n",
       "    <tr>\n",
       "      <th>0</th>\n",
       "      <td>KP</td>\n",
       "      <td>[4.2607802256058775, -0.8863206912402601, -1.9...</td>\n",
       "    </tr>\n",
       "    <tr>\n",
       "      <th>1</th>\n",
       "      <td>Fe5270</td>\n",
       "      <td>[-0.19097821979769836, -0.1603523460193922, 0....</td>\n",
       "    </tr>\n",
       "    <tr>\n",
       "      <th>2</th>\n",
       "      <td>GP</td>\n",
       "      <td>[-2.7073335416888, 1.4870612804644678, 0.29749...</td>\n",
       "    </tr>\n",
       "    <tr>\n",
       "      <th>3</th>\n",
       "      <td>GPE</td>\n",
       "      <td>[-0.41944968513424097, -0.8662445494980555, 0....</td>\n",
       "    </tr>\n",
       "    <tr>\n",
       "      <th>4</th>\n",
       "      <td>g-r</td>\n",
       "      <td>[0.016668677371686612, 0.11232185362984372, -0...</td>\n",
       "    </tr>\n",
       "    <tr>\n",
       "      <th>5</th>\n",
       "      <td>Bamg</td>\n",
       "      <td>[-0.6861272189438272, -0.9113840556497758, 1.4...</td>\n",
       "    </tr>\n",
       "    <tr>\n",
       "      <th>6</th>\n",
       "      <td>Ba_bmc</td>\n",
       "      <td>[-0.15310935946737933, -0.10859628231388267, 0...</td>\n",
       "    </tr>\n",
       "    <tr>\n",
       "      <th>7</th>\n",
       "      <td>Eu_bmc</td>\n",
       "      <td>[0.006494585594072822, -0.011064943485182869, ...</td>\n",
       "    </tr>\n",
       "    <tr>\n",
       "      <th>8</th>\n",
       "      <td>Sr_bmc</td>\n",
       "      <td>[0.12619126328678448, -0.03550932620087836, -0...</td>\n",
       "    </tr>\n",
       "  </tbody>\n",
       "</table>\n",
       "</div>"
      ],
      "text/plain": [
       "        0                                                  1\n",
       "0      KP  [4.2607802256058775, -0.8863206912402601, -1.9...\n",
       "1  Fe5270  [-0.19097821979769836, -0.1603523460193922, 0....\n",
       "2      GP  [-2.7073335416888, 1.4870612804644678, 0.29749...\n",
       "3     GPE  [-0.41944968513424097, -0.8662445494980555, 0....\n",
       "4     g-r  [0.016668677371686612, 0.11232185362984372, -0...\n",
       "5    Bamg  [-0.6861272189438272, -0.9113840556497758, 1.4...\n",
       "6  Ba_bmc  [-0.15310935946737933, -0.10859628231388267, 0...\n",
       "7  Eu_bmc  [0.006494585594072822, -0.011064943485182869, ...\n",
       "8  Sr_bmc  [0.12619126328678448, -0.03550932620087836, -0..."
      ]
     },
     "execution_count": 39,
     "metadata": {},
     "output_type": "execute_result"
    }
   ],
   "source": [
    "\n",
    "pd.DataFrame(list(zip(X_train.columns, np.transpose(clf_log1.coef_))))"
   ]
  },
  {
   "cell_type": "markdown",
   "metadata": {},
   "source": [
    "**Model Evaluation:**"
   ]
  },
  {
   "cell_type": "code",
   "execution_count": 48,
   "metadata": {},
   "outputs": [],
   "source": [
    "# Predictions using lRandom Forest\n",
    "y_pred_rf1 = clf_rf1.predict(X_test) \n",
    "y_pred_rf2 = clf_rf2.predict(X_test)"
   ]
  },
  {
   "cell_type": "code",
   "execution_count": 49,
   "metadata": {},
   "outputs": [
    {
     "data": {
      "text/plain": [
       "0.9309282088469906"
      ]
     },
     "execution_count": 49,
     "metadata": {},
     "output_type": "execute_result"
    }
   ],
   "source": [
    "accuracy_score(y_test, y_pred_rf1)"
   ]
  },
  {
   "cell_type": "code",
   "execution_count": 50,
   "metadata": {},
   "outputs": [
    {
     "data": {
      "text/plain": [
       "0.9193255982596084"
      ]
     },
     "execution_count": 50,
     "metadata": {},
     "output_type": "execute_result"
    }
   ],
   "source": [
    "accuracy_score(y_test, y_pred_rf2)"
   ]
  },
  {
   "cell_type": "code",
   "execution_count": 51,
   "metadata": {},
   "outputs": [],
   "source": [
    "# Getting confusion matrix for lRandom Forest\n",
    "conf_rf1=confusion_matrix(y_test, y_pred_rf1)\n",
    "conf_rf2=confusion_matrix(y_test, y_pred_rf2)"
   ]
  },
  {
   "cell_type": "code",
   "execution_count": 52,
   "metadata": {},
   "outputs": [
    {
     "name": "stdout",
     "output_type": "stream",
     "text": [
      "Normalized confusion matrix\n",
      "[[0.99 0.01 0.01]\n",
      " [0.18 0.6  0.22]\n",
      " [0.09 0.14 0.77]]\n"
     ]
    },
    {
     "data": {
      "image/png": "[encoded data removed]",
      "text/plain": [
       "<Figure size 936x576 with 2 Axes>"
      ]
     },
     "metadata": {
      "needs_background": "light"
     },
     "output_type": "display_data"
    }
   ],
   "source": [
    "class_names=[1,2,3]\n",
    "np.set_printoptions(precision=2)\n",
    "\n",
    "f,ax=plt.subplots(figsize=(13,8))\n",
    "plot_confusion_matrix(conf_rf1, classes=class_names, normalize=True)\n",
    "ax.set_title('Random Forest - ROS',fontsize=22)\n",
    "ax.set_xlabel('Predicted Label',fontsize=16)\n",
    "ax.set_ylabel('True Label',fontsize=16)\n",
    "savefig('conf_matrix_rf1.eps', fmt='eps', dpi=200)\n",
    "savefig('conf_matrix_rf1.jpeg', fmt='jpeg', dpi=200)\n",
    "plt.show()"
   ]
  },
  {
   "cell_type": "code",
   "execution_count": 53,
   "metadata": {},
   "outputs": [
    {
     "name": "stdout",
     "output_type": "stream",
     "text": [
      "Normalized confusion matrix\n",
      "[[0.97 0.02 0.01]\n",
      " [0.12 0.68 0.2 ]\n",
      " [0.05 0.21 0.74]]\n"
     ]
    },
    {
     "data": {
      "image/png": "[encoded data removed]",
      "text/plain": [
       "<Figure size 936x576 with 2 Axes>"
      ]
     },
     "metadata": {
      "needs_background": "light"
     },
     "output_type": "display_data"
    }
   ],
   "source": [
    "class_names=[1,2,3]\n",
    "np.set_printoptions(precision=2)\n",
    "\n",
    "f,ax=plt.subplots(figsize=(13,8))\n",
    "plot_confusion_matrix(conf_rf2, classes=class_names, normalize=True)\n",
    "ax.set_title('Random Forest - SMOTE',fontsize=22)\n",
    "ax.set_xlabel('Predicted Label',fontsize=16)\n",
    "ax.set_ylabel('True Label',fontsize=16)\n",
    "savefig('conf_matrix_rf2.eps', fmt='eps', dpi=200)\n",
    "savefig('conf_matrix_rf2.jpeg', fmt='jpeg', dpi=200)\n",
    "plt.show()"
   ]
  },
  {
   "cell_type": "markdown",
   "metadata": {},
   "source": [
    "## 5.4 Grid Search:"
   ]
  },
  {
   "cell_type": "code",
   "execution_count": 54,
   "metadata": {
    "scrolled": true
   },
   "outputs": [
    {
     "name": "stderr",
     "output_type": "stream",
     "text": [
      "/home/monique/anaconda3/lib/python3.7/site-packages/sklearn/linear_model/logistic.py:433: FutureWarning: Default solver will be changed to 'lbfgs' in 0.22. Specify a solver to silence this warning.\n",
      "  FutureWarning)\n",
      "/home/monique/anaconda3/lib/python3.7/site-packages/sklearn/linear_model/logistic.py:460: FutureWarning: Default multi_class will be changed to 'auto' in 0.22. Specify the multi_class option to silence this warning.\n",
      "  \"this warning.\", FutureWarning)\n",
      "/home/monique/anaconda3/lib/python3.7/site-packages/sklearn/linear_model/logistic.py:433: FutureWarning: Default solver will be changed to 'lbfgs' in 0.22. Specify a solver to silence this warning.\n",
      "  FutureWarning)\n",
      "/home/monique/anaconda3/lib/python3.7/site-packages/sklearn/linear_model/logistic.py:460: FutureWarning: Default multi_class will be changed to 'auto' in 0.22. Specify the multi_class option to silence this warning.\n",
      "  \"this warning.\", FutureWarning)\n",
      "/home/monique/anaconda3/lib/python3.7/site-packages/sklearn/linear_model/logistic.py:433: FutureWarning: Default solver will be changed to 'lbfgs' in 0.22. Specify a solver to silence this warning.\n",
      "  FutureWarning)\n",
      "/home/monique/anaconda3/lib/python3.7/site-packages/sklearn/linear_model/logistic.py:460: FutureWarning: Default multi_class will be changed to 'auto' in 0.22. Specify the multi_class option to silence this warning.\n",
      "  \"this warning.\", FutureWarning)\n",
      "/home/monique/anaconda3/lib/python3.7/site-packages/sklearn/linear_model/logistic.py:433: FutureWarning: Default solver will be changed to 'lbfgs' in 0.22. Specify a solver to silence this warning.\n",
      "  FutureWarning)\n",
      "/home/monique/anaconda3/lib/python3.7/site-packages/sklearn/linear_model/logistic.py:460: FutureWarning: Default multi_class will be changed to 'auto' in 0.22. Specify the multi_class option to silence this warning.\n",
      "  \"this warning.\", FutureWarning)\n",
      "/home/monique/anaconda3/lib/python3.7/site-packages/sklearn/linear_model/logistic.py:433: FutureWarning: Default solver will be changed to 'lbfgs' in 0.22. Specify a solver to silence this warning.\n",
      "  FutureWarning)\n",
      "/home/monique/anaconda3/lib/python3.7/site-packages/sklearn/linear_model/logistic.py:460: FutureWarning: Default multi_class will be changed to 'auto' in 0.22. Specify the multi_class option to silence this warning.\n",
      "  \"this warning.\", FutureWarning)\n",
      "/home/monique/anaconda3/lib/python3.7/site-packages/sklearn/linear_model/logistic.py:433: FutureWarning: Default solver will be changed to 'lbfgs' in 0.22. Specify a solver to silence this warning.\n",
      "  FutureWarning)\n",
      "/home/monique/anaconda3/lib/python3.7/site-packages/sklearn/linear_model/logistic.py:460: FutureWarning: Default multi_class will be changed to 'auto' in 0.22. Specify the multi_class option to silence this warning.\n",
      "  \"this warning.\", FutureWarning)\n",
      "/home/monique/anaconda3/lib/python3.7/site-packages/sklearn/linear_model/logistic.py:433: FutureWarning: Default solver will be changed to 'lbfgs' in 0.22. Specify a solver to silence this warning.\n",
      "  FutureWarning)\n",
      "/home/monique/anaconda3/lib/python3.7/site-packages/sklearn/linear_model/logistic.py:460: FutureWarning: Default multi_class will be changed to 'auto' in 0.22. Specify the multi_class option to silence this warning.\n",
      "  \"this warning.\", FutureWarning)\n",
      "/home/monique/anaconda3/lib/python3.7/site-packages/sklearn/linear_model/logistic.py:433: FutureWarning: Default solver will be changed to 'lbfgs' in 0.22. Specify a solver to silence this warning.\n",
      "  FutureWarning)\n",
      "/home/monique/anaconda3/lib/python3.7/site-packages/sklearn/linear_model/logistic.py:460: FutureWarning: Default multi_class will be changed to 'auto' in 0.22. Specify the multi_class option to silence this warning.\n",
      "  \"this warning.\", FutureWarning)\n",
      "/home/monique/anaconda3/lib/python3.7/site-packages/sklearn/linear_model/logistic.py:433: FutureWarning: Default solver will be changed to 'lbfgs' in 0.22. Specify a solver to silence this warning.\n",
      "  FutureWarning)\n",
      "/home/monique/anaconda3/lib/python3.7/site-packages/sklearn/linear_model/logistic.py:460: FutureWarning: Default multi_class will be changed to 'auto' in 0.22. Specify the multi_class option to silence this warning.\n",
      "  \"this warning.\", FutureWarning)\n",
      "/home/monique/anaconda3/lib/python3.7/site-packages/sklearn/linear_model/logistic.py:433: FutureWarning: Default solver will be changed to 'lbfgs' in 0.22. Specify a solver to silence this warning.\n",
      "  FutureWarning)\n",
      "/home/monique/anaconda3/lib/python3.7/site-packages/sklearn/linear_model/logistic.py:460: FutureWarning: Default multi_class will be changed to 'auto' in 0.22. Specify the multi_class option to silence this warning.\n",
      "  \"this warning.\", FutureWarning)\n",
      "/home/monique/anaconda3/lib/python3.7/site-packages/sklearn/linear_model/logistic.py:433: FutureWarning: Default solver will be changed to 'lbfgs' in 0.22. Specify a solver to silence this warning.\n",
      "  FutureWarning)\n",
      "/home/monique/anaconda3/lib/python3.7/site-packages/sklearn/linear_model/logistic.py:460: FutureWarning: Default multi_class will be changed to 'auto' in 0.22. Specify the multi_class option to silence this warning.\n",
      "  \"this warning.\", FutureWarning)\n",
      "/home/monique/anaconda3/lib/python3.7/site-packages/sklearn/linear_model/logistic.py:433: FutureWarning: Default solver will be changed to 'lbfgs' in 0.22. Specify a solver to silence this warning.\n",
      "  FutureWarning)\n",
      "/home/monique/anaconda3/lib/python3.7/site-packages/sklearn/linear_model/logistic.py:460: FutureWarning: Default multi_class will be changed to 'auto' in 0.22. Specify the multi_class option to silence this warning.\n",
      "  \"this warning.\", FutureWarning)\n",
      "/home/monique/anaconda3/lib/python3.7/site-packages/sklearn/linear_model/logistic.py:433: FutureWarning: Default solver will be changed to 'lbfgs' in 0.22. Specify a solver to silence this warning.\n",
      "  FutureWarning)\n",
      "/home/monique/anaconda3/lib/python3.7/site-packages/sklearn/linear_model/logistic.py:460: FutureWarning: Default multi_class will be changed to 'auto' in 0.22. Specify the multi_class option to silence this warning.\n",
      "  \"this warning.\", FutureWarning)\n",
      "/home/monique/anaconda3/lib/python3.7/site-packages/sklearn/linear_model/logistic.py:433: FutureWarning: Default solver will be changed to 'lbfgs' in 0.22. Specify a solver to silence this warning.\n",
      "  FutureWarning)\n",
      "/home/monique/anaconda3/lib/python3.7/site-packages/sklearn/linear_model/logistic.py:460: FutureWarning: Default multi_class will be changed to 'auto' in 0.22. Specify the multi_class option to silence this warning.\n",
      "  \"this warning.\", FutureWarning)\n",
      "/home/monique/anaconda3/lib/python3.7/site-packages/sklearn/linear_model/logistic.py:433: FutureWarning: Default solver will be changed to 'lbfgs' in 0.22. Specify a solver to silence this warning.\n",
      "  FutureWarning)\n",
      "/home/monique/anaconda3/lib/python3.7/site-packages/sklearn/linear_model/logistic.py:460: FutureWarning: Default multi_class will be changed to 'auto' in 0.22. Specify the multi_class option to silence this warning.\n",
      "  \"this warning.\", FutureWarning)\n",
      "/home/monique/anaconda3/lib/python3.7/site-packages/sklearn/linear_model/logistic.py:433: FutureWarning: Default solver will be changed to 'lbfgs' in 0.22. Specify a solver to silence this warning.\n",
      "  FutureWarning)\n",
      "/home/monique/anaconda3/lib/python3.7/site-packages/sklearn/linear_model/logistic.py:460: FutureWarning: Default multi_class will be changed to 'auto' in 0.22. Specify the multi_class option to silence this warning.\n",
      "  \"this warning.\", FutureWarning)\n",
      "/home/monique/anaconda3/lib/python3.7/site-packages/sklearn/linear_model/logistic.py:433: FutureWarning: Default solver will be changed to 'lbfgs' in 0.22. Specify a solver to silence this warning.\n",
      "  FutureWarning)\n",
      "/home/monique/anaconda3/lib/python3.7/site-packages/sklearn/linear_model/logistic.py:460: FutureWarning: Default multi_class will be changed to 'auto' in 0.22. Specify the multi_class option to silence this warning.\n",
      "  \"this warning.\", FutureWarning)\n",
      "/home/monique/anaconda3/lib/python3.7/site-packages/sklearn/linear_model/logistic.py:433: FutureWarning: Default solver will be changed to 'lbfgs' in 0.22. Specify a solver to silence this warning.\n",
      "  FutureWarning)\n",
      "/home/monique/anaconda3/lib/python3.7/site-packages/sklearn/linear_model/logistic.py:460: FutureWarning: Default multi_class will be changed to 'auto' in 0.22. Specify the multi_class option to silence this warning.\n",
      "  \"this warning.\", FutureWarning)\n",
      "/home/monique/anaconda3/lib/python3.7/site-packages/sklearn/linear_model/logistic.py:433: FutureWarning: Default solver will be changed to 'lbfgs' in 0.22. Specify a solver to silence this warning.\n",
      "  FutureWarning)\n",
      "/home/monique/anaconda3/lib/python3.7/site-packages/sklearn/linear_model/logistic.py:460: FutureWarning: Default multi_class will be changed to 'auto' in 0.22. Specify the multi_class option to silence this warning.\n",
      "  \"this warning.\", FutureWarning)\n",
      "/home/monique/anaconda3/lib/python3.7/site-packages/sklearn/linear_model/logistic.py:433: FutureWarning: Default solver will be changed to 'lbfgs' in 0.22. Specify a solver to silence this warning.\n",
      "  FutureWarning)\n",
      "/home/monique/anaconda3/lib/python3.7/site-packages/sklearn/linear_model/logistic.py:460: FutureWarning: Default multi_class will be changed to 'auto' in 0.22. Specify the multi_class option to silence this warning.\n",
      "  \"this warning.\", FutureWarning)\n"
     ]
    },
    {
     "name": "stderr",
     "output_type": "stream",
     "text": [
      "/home/monique/anaconda3/lib/python3.7/site-packages/sklearn/linear_model/logistic.py:433: FutureWarning: Default solver will be changed to 'lbfgs' in 0.22. Specify a solver to silence this warning.\n",
      "  FutureWarning)\n",
      "/home/monique/anaconda3/lib/python3.7/site-packages/sklearn/linear_model/logistic.py:460: FutureWarning: Default multi_class will be changed to 'auto' in 0.22. Specify the multi_class option to silence this warning.\n",
      "  \"this warning.\", FutureWarning)\n",
      "/home/monique/anaconda3/lib/python3.7/site-packages/sklearn/linear_model/logistic.py:433: FutureWarning: Default solver will be changed to 'lbfgs' in 0.22. Specify a solver to silence this warning.\n",
      "  FutureWarning)\n",
      "/home/monique/anaconda3/lib/python3.7/site-packages/sklearn/linear_model/logistic.py:460: FutureWarning: Default multi_class will be changed to 'auto' in 0.22. Specify the multi_class option to silence this warning.\n",
      "  \"this warning.\", FutureWarning)\n",
      "/home/monique/anaconda3/lib/python3.7/site-packages/sklearn/linear_model/logistic.py:433: FutureWarning: Default solver will be changed to 'lbfgs' in 0.22. Specify a solver to silence this warning.\n",
      "  FutureWarning)\n",
      "/home/monique/anaconda3/lib/python3.7/site-packages/sklearn/linear_model/logistic.py:460: FutureWarning: Default multi_class will be changed to 'auto' in 0.22. Specify the multi_class option to silence this warning.\n",
      "  \"this warning.\", FutureWarning)\n",
      "/home/monique/anaconda3/lib/python3.7/site-packages/sklearn/linear_model/logistic.py:433: FutureWarning: Default solver will be changed to 'lbfgs' in 0.22. Specify a solver to silence this warning.\n",
      "  FutureWarning)\n",
      "/home/monique/anaconda3/lib/python3.7/site-packages/sklearn/linear_model/logistic.py:460: FutureWarning: Default multi_class will be changed to 'auto' in 0.22. Specify the multi_class option to silence this warning.\n",
      "  \"this warning.\", FutureWarning)\n",
      "/home/monique/anaconda3/lib/python3.7/site-packages/sklearn/linear_model/logistic.py:433: FutureWarning: Default solver will be changed to 'lbfgs' in 0.22. Specify a solver to silence this warning.\n",
      "  FutureWarning)\n",
      "/home/monique/anaconda3/lib/python3.7/site-packages/sklearn/linear_model/logistic.py:460: FutureWarning: Default multi_class will be changed to 'auto' in 0.22. Specify the multi_class option to silence this warning.\n",
      "  \"this warning.\", FutureWarning)\n",
      "/home/monique/anaconda3/lib/python3.7/site-packages/sklearn/linear_model/logistic.py:433: FutureWarning: Default solver will be changed to 'lbfgs' in 0.22. Specify a solver to silence this warning.\n",
      "  FutureWarning)\n",
      "/home/monique/anaconda3/lib/python3.7/site-packages/sklearn/linear_model/logistic.py:460: FutureWarning: Default multi_class will be changed to 'auto' in 0.22. Specify the multi_class option to silence this warning.\n",
      "  \"this warning.\", FutureWarning)\n",
      "/home/monique/anaconda3/lib/python3.7/site-packages/sklearn/linear_model/logistic.py:433: FutureWarning: Default solver will be changed to 'lbfgs' in 0.22. Specify a solver to silence this warning.\n",
      "  FutureWarning)\n",
      "/home/monique/anaconda3/lib/python3.7/site-packages/sklearn/linear_model/logistic.py:460: FutureWarning: Default multi_class will be changed to 'auto' in 0.22. Specify the multi_class option to silence this warning.\n",
      "  \"this warning.\", FutureWarning)\n",
      "/home/monique/anaconda3/lib/python3.7/site-packages/sklearn/linear_model/logistic.py:433: FutureWarning: Default solver will be changed to 'lbfgs' in 0.22. Specify a solver to silence this warning.\n",
      "  FutureWarning)\n",
      "/home/monique/anaconda3/lib/python3.7/site-packages/sklearn/linear_model/logistic.py:460: FutureWarning: Default multi_class will be changed to 'auto' in 0.22. Specify the multi_class option to silence this warning.\n",
      "  \"this warning.\", FutureWarning)\n",
      "/home/monique/anaconda3/lib/python3.7/site-packages/sklearn/linear_model/logistic.py:433: FutureWarning: Default solver will be changed to 'lbfgs' in 0.22. Specify a solver to silence this warning.\n",
      "  FutureWarning)\n",
      "/home/monique/anaconda3/lib/python3.7/site-packages/sklearn/linear_model/logistic.py:460: FutureWarning: Default multi_class will be changed to 'auto' in 0.22. Specify the multi_class option to silence this warning.\n",
      "  \"this warning.\", FutureWarning)\n",
      "/home/monique/anaconda3/lib/python3.7/site-packages/sklearn/linear_model/logistic.py:433: FutureWarning: Default solver will be changed to 'lbfgs' in 0.22. Specify a solver to silence this warning.\n",
      "  FutureWarning)\n",
      "/home/monique/anaconda3/lib/python3.7/site-packages/sklearn/linear_model/logistic.py:460: FutureWarning: Default multi_class will be changed to 'auto' in 0.22. Specify the multi_class option to silence this warning.\n",
      "  \"this warning.\", FutureWarning)\n",
      "/home/monique/anaconda3/lib/python3.7/site-packages/sklearn/linear_model/logistic.py:433: FutureWarning: Default solver will be changed to 'lbfgs' in 0.22. Specify a solver to silence this warning.\n",
      "  FutureWarning)\n",
      "/home/monique/anaconda3/lib/python3.7/site-packages/sklearn/linear_model/logistic.py:460: FutureWarning: Default multi_class will be changed to 'auto' in 0.22. Specify the multi_class option to silence this warning.\n",
      "  \"this warning.\", FutureWarning)\n",
      "/home/monique/anaconda3/lib/python3.7/site-packages/sklearn/linear_model/logistic.py:433: FutureWarning: Default solver will be changed to 'lbfgs' in 0.22. Specify a solver to silence this warning.\n",
      "  FutureWarning)\n",
      "/home/monique/anaconda3/lib/python3.7/site-packages/sklearn/linear_model/logistic.py:460: FutureWarning: Default multi_class will be changed to 'auto' in 0.22. Specify the multi_class option to silence this warning.\n",
      "  \"this warning.\", FutureWarning)\n",
      "/home/monique/anaconda3/lib/python3.7/site-packages/sklearn/linear_model/logistic.py:433: FutureWarning: Default solver will be changed to 'lbfgs' in 0.22. Specify a solver to silence this warning.\n",
      "  FutureWarning)\n",
      "/home/monique/anaconda3/lib/python3.7/site-packages/sklearn/linear_model/logistic.py:460: FutureWarning: Default multi_class will be changed to 'auto' in 0.22. Specify the multi_class option to silence this warning.\n",
      "  \"this warning.\", FutureWarning)\n",
      "/home/monique/anaconda3/lib/python3.7/site-packages/sklearn/linear_model/logistic.py:433: FutureWarning: Default solver will be changed to 'lbfgs' in 0.22. Specify a solver to silence this warning.\n",
      "  FutureWarning)\n",
      "/home/monique/anaconda3/lib/python3.7/site-packages/sklearn/linear_model/logistic.py:460: FutureWarning: Default multi_class will be changed to 'auto' in 0.22. Specify the multi_class option to silence this warning.\n",
      "  \"this warning.\", FutureWarning)\n",
      "/home/monique/anaconda3/lib/python3.7/site-packages/sklearn/linear_model/logistic.py:433: FutureWarning: Default solver will be changed to 'lbfgs' in 0.22. Specify a solver to silence this warning.\n",
      "  FutureWarning)\n",
      "/home/monique/anaconda3/lib/python3.7/site-packages/sklearn/linear_model/logistic.py:460: FutureWarning: Default multi_class will be changed to 'auto' in 0.22. Specify the multi_class option to silence this warning.\n",
      "  \"this warning.\", FutureWarning)\n",
      "/home/monique/anaconda3/lib/python3.7/site-packages/sklearn/linear_model/logistic.py:433: FutureWarning: Default solver will be changed to 'lbfgs' in 0.22. Specify a solver to silence this warning.\n",
      "  FutureWarning)\n",
      "/home/monique/anaconda3/lib/python3.7/site-packages/sklearn/linear_model/logistic.py:460: FutureWarning: Default multi_class will be changed to 'auto' in 0.22. Specify the multi_class option to silence this warning.\n",
      "  \"this warning.\", FutureWarning)\n",
      "/home/monique/anaconda3/lib/python3.7/site-packages/sklearn/linear_model/logistic.py:433: FutureWarning: Default solver will be changed to 'lbfgs' in 0.22. Specify a solver to silence this warning.\n",
      "  FutureWarning)\n",
      "/home/monique/anaconda3/lib/python3.7/site-packages/sklearn/linear_model/logistic.py:460: FutureWarning: Default multi_class will be changed to 'auto' in 0.22. Specify the multi_class option to silence this warning.\n",
      "  \"this warning.\", FutureWarning)\n",
      "/home/monique/anaconda3/lib/python3.7/site-packages/sklearn/linear_model/logistic.py:433: FutureWarning: Default solver will be changed to 'lbfgs' in 0.22. Specify a solver to silence this warning.\n",
      "  FutureWarning)\n",
      "/home/monique/anaconda3/lib/python3.7/site-packages/sklearn/linear_model/logistic.py:460: FutureWarning: Default multi_class will be changed to 'auto' in 0.22. Specify the multi_class option to silence this warning.\n",
      "  \"this warning.\", FutureWarning)\n",
      "/home/monique/anaconda3/lib/python3.7/site-packages/sklearn/linear_model/logistic.py:433: FutureWarning: Default solver will be changed to 'lbfgs' in 0.22. Specify a solver to silence this warning.\n",
      "  FutureWarning)\n",
      "/home/monique/anaconda3/lib/python3.7/site-packages/sklearn/linear_model/logistic.py:460: FutureWarning: Default multi_class will be changed to 'auto' in 0.22. Specify the multi_class option to silence this warning.\n",
      "  \"this warning.\", FutureWarning)\n"
     ]
    },
    {
     "name": "stderr",
     "output_type": "stream",
     "text": [
      "/home/monique/anaconda3/lib/python3.7/site-packages/sklearn/linear_model/logistic.py:433: FutureWarning: Default solver will be changed to 'lbfgs' in 0.22. Specify a solver to silence this warning.\n",
      "  FutureWarning)\n",
      "/home/monique/anaconda3/lib/python3.7/site-packages/sklearn/linear_model/logistic.py:460: FutureWarning: Default multi_class will be changed to 'auto' in 0.22. Specify the multi_class option to silence this warning.\n",
      "  \"this warning.\", FutureWarning)\n",
      "/home/monique/anaconda3/lib/python3.7/site-packages/sklearn/linear_model/logistic.py:433: FutureWarning: Default solver will be changed to 'lbfgs' in 0.22. Specify a solver to silence this warning.\n",
      "  FutureWarning)\n",
      "/home/monique/anaconda3/lib/python3.7/site-packages/sklearn/linear_model/logistic.py:460: FutureWarning: Default multi_class will be changed to 'auto' in 0.22. Specify the multi_class option to silence this warning.\n",
      "  \"this warning.\", FutureWarning)\n",
      "/home/monique/anaconda3/lib/python3.7/site-packages/sklearn/linear_model/logistic.py:433: FutureWarning: Default solver will be changed to 'lbfgs' in 0.22. Specify a solver to silence this warning.\n",
      "  FutureWarning)\n",
      "/home/monique/anaconda3/lib/python3.7/site-packages/sklearn/linear_model/logistic.py:460: FutureWarning: Default multi_class will be changed to 'auto' in 0.22. Specify the multi_class option to silence this warning.\n",
      "  \"this warning.\", FutureWarning)\n",
      "/home/monique/anaconda3/lib/python3.7/site-packages/sklearn/linear_model/logistic.py:433: FutureWarning: Default solver will be changed to 'lbfgs' in 0.22. Specify a solver to silence this warning.\n",
      "  FutureWarning)\n",
      "/home/monique/anaconda3/lib/python3.7/site-packages/sklearn/linear_model/logistic.py:460: FutureWarning: Default multi_class will be changed to 'auto' in 0.22. Specify the multi_class option to silence this warning.\n",
      "  \"this warning.\", FutureWarning)\n",
      "/home/monique/anaconda3/lib/python3.7/site-packages/sklearn/linear_model/logistic.py:433: FutureWarning: Default solver will be changed to 'lbfgs' in 0.22. Specify a solver to silence this warning.\n",
      "  FutureWarning)\n",
      "/home/monique/anaconda3/lib/python3.7/site-packages/sklearn/linear_model/logistic.py:460: FutureWarning: Default multi_class will be changed to 'auto' in 0.22. Specify the multi_class option to silence this warning.\n",
      "  \"this warning.\", FutureWarning)\n",
      "/home/monique/anaconda3/lib/python3.7/site-packages/sklearn/linear_model/logistic.py:433: FutureWarning: Default solver will be changed to 'lbfgs' in 0.22. Specify a solver to silence this warning.\n",
      "  FutureWarning)\n",
      "/home/monique/anaconda3/lib/python3.7/site-packages/sklearn/linear_model/logistic.py:460: FutureWarning: Default multi_class will be changed to 'auto' in 0.22. Specify the multi_class option to silence this warning.\n",
      "  \"this warning.\", FutureWarning)\n",
      "/home/monique/anaconda3/lib/python3.7/site-packages/sklearn/linear_model/logistic.py:433: FutureWarning: Default solver will be changed to 'lbfgs' in 0.22. Specify a solver to silence this warning.\n",
      "  FutureWarning)\n",
      "/home/monique/anaconda3/lib/python3.7/site-packages/sklearn/linear_model/logistic.py:460: FutureWarning: Default multi_class will be changed to 'auto' in 0.22. Specify the multi_class option to silence this warning.\n",
      "  \"this warning.\", FutureWarning)\n",
      "/home/monique/anaconda3/lib/python3.7/site-packages/sklearn/linear_model/logistic.py:433: FutureWarning: Default solver will be changed to 'lbfgs' in 0.22. Specify a solver to silence this warning.\n",
      "  FutureWarning)\n",
      "/home/monique/anaconda3/lib/python3.7/site-packages/sklearn/linear_model/logistic.py:460: FutureWarning: Default multi_class will be changed to 'auto' in 0.22. Specify the multi_class option to silence this warning.\n",
      "  \"this warning.\", FutureWarning)\n",
      "/home/monique/anaconda3/lib/python3.7/site-packages/sklearn/linear_model/logistic.py:433: FutureWarning: Default solver will be changed to 'lbfgs' in 0.22. Specify a solver to silence this warning.\n",
      "  FutureWarning)\n",
      "/home/monique/anaconda3/lib/python3.7/site-packages/sklearn/linear_model/logistic.py:460: FutureWarning: Default multi_class will be changed to 'auto' in 0.22. Specify the multi_class option to silence this warning.\n",
      "  \"this warning.\", FutureWarning)\n",
      "/home/monique/anaconda3/lib/python3.7/site-packages/sklearn/linear_model/logistic.py:433: FutureWarning: Default solver will be changed to 'lbfgs' in 0.22. Specify a solver to silence this warning.\n",
      "  FutureWarning)\n",
      "/home/monique/anaconda3/lib/python3.7/site-packages/sklearn/linear_model/logistic.py:460: FutureWarning: Default multi_class will be changed to 'auto' in 0.22. Specify the multi_class option to silence this warning.\n",
      "  \"this warning.\", FutureWarning)\n",
      "/home/monique/anaconda3/lib/python3.7/site-packages/sklearn/linear_model/logistic.py:433: FutureWarning: Default solver will be changed to 'lbfgs' in 0.22. Specify a solver to silence this warning.\n",
      "  FutureWarning)\n",
      "/home/monique/anaconda3/lib/python3.7/site-packages/sklearn/linear_model/logistic.py:460: FutureWarning: Default multi_class will be changed to 'auto' in 0.22. Specify the multi_class option to silence this warning.\n",
      "  \"this warning.\", FutureWarning)\n",
      "/home/monique/anaconda3/lib/python3.7/site-packages/sklearn/linear_model/logistic.py:433: FutureWarning: Default solver will be changed to 'lbfgs' in 0.22. Specify a solver to silence this warning.\n",
      "  FutureWarning)\n",
      "/home/monique/anaconda3/lib/python3.7/site-packages/sklearn/linear_model/logistic.py:460: FutureWarning: Default multi_class will be changed to 'auto' in 0.22. Specify the multi_class option to silence this warning.\n",
      "  \"this warning.\", FutureWarning)\n",
      "/home/monique/anaconda3/lib/python3.7/site-packages/sklearn/linear_model/logistic.py:433: FutureWarning: Default solver will be changed to 'lbfgs' in 0.22. Specify a solver to silence this warning.\n",
      "  FutureWarning)\n",
      "/home/monique/anaconda3/lib/python3.7/site-packages/sklearn/linear_model/logistic.py:460: FutureWarning: Default multi_class will be changed to 'auto' in 0.22. Specify the multi_class option to silence this warning.\n",
      "  \"this warning.\", FutureWarning)\n",
      "/home/monique/anaconda3/lib/python3.7/site-packages/sklearn/linear_model/logistic.py:433: FutureWarning: Default solver will be changed to 'lbfgs' in 0.22. Specify a solver to silence this warning.\n",
      "  FutureWarning)\n",
      "/home/monique/anaconda3/lib/python3.7/site-packages/sklearn/linear_model/logistic.py:460: FutureWarning: Default multi_class will be changed to 'auto' in 0.22. Specify the multi_class option to silence this warning.\n",
      "  \"this warning.\", FutureWarning)\n",
      "/home/monique/anaconda3/lib/python3.7/site-packages/sklearn/linear_model/logistic.py:433: FutureWarning: Default solver will be changed to 'lbfgs' in 0.22. Specify a solver to silence this warning.\n",
      "  FutureWarning)\n",
      "/home/monique/anaconda3/lib/python3.7/site-packages/sklearn/linear_model/logistic.py:460: FutureWarning: Default multi_class will be changed to 'auto' in 0.22. Specify the multi_class option to silence this warning.\n",
      "  \"this warning.\", FutureWarning)\n",
      "/home/monique/anaconda3/lib/python3.7/site-packages/sklearn/linear_model/logistic.py:433: FutureWarning: Default solver will be changed to 'lbfgs' in 0.22. Specify a solver to silence this warning.\n",
      "  FutureWarning)\n",
      "/home/monique/anaconda3/lib/python3.7/site-packages/sklearn/linear_model/logistic.py:460: FutureWarning: Default multi_class will be changed to 'auto' in 0.22. Specify the multi_class option to silence this warning.\n",
      "  \"this warning.\", FutureWarning)\n",
      "/home/monique/anaconda3/lib/python3.7/site-packages/sklearn/linear_model/logistic.py:433: FutureWarning: Default solver will be changed to 'lbfgs' in 0.22. Specify a solver to silence this warning.\n",
      "  FutureWarning)\n",
      "/home/monique/anaconda3/lib/python3.7/site-packages/sklearn/linear_model/logistic.py:460: FutureWarning: Default multi_class will be changed to 'auto' in 0.22. Specify the multi_class option to silence this warning.\n",
      "  \"this warning.\", FutureWarning)\n",
      "/home/monique/anaconda3/lib/python3.7/site-packages/sklearn/linear_model/logistic.py:433: FutureWarning: Default solver will be changed to 'lbfgs' in 0.22. Specify a solver to silence this warning.\n",
      "  FutureWarning)\n",
      "/home/monique/anaconda3/lib/python3.7/site-packages/sklearn/linear_model/logistic.py:460: FutureWarning: Default multi_class will be changed to 'auto' in 0.22. Specify the multi_class option to silence this warning.\n",
      "  \"this warning.\", FutureWarning)\n"
     ]
    },
    {
     "name": "stderr",
     "output_type": "stream",
     "text": [
      "/home/monique/anaconda3/lib/python3.7/site-packages/sklearn/linear_model/logistic.py:433: FutureWarning: Default solver will be changed to 'lbfgs' in 0.22. Specify a solver to silence this warning.\n",
      "  FutureWarning)\n",
      "/home/monique/anaconda3/lib/python3.7/site-packages/sklearn/linear_model/logistic.py:460: FutureWarning: Default multi_class will be changed to 'auto' in 0.22. Specify the multi_class option to silence this warning.\n",
      "  \"this warning.\", FutureWarning)\n",
      "/home/monique/anaconda3/lib/python3.7/site-packages/sklearn/linear_model/logistic.py:433: FutureWarning: Default solver will be changed to 'lbfgs' in 0.22. Specify a solver to silence this warning.\n",
      "  FutureWarning)\n",
      "/home/monique/anaconda3/lib/python3.7/site-packages/sklearn/linear_model/logistic.py:460: FutureWarning: Default multi_class will be changed to 'auto' in 0.22. Specify the multi_class option to silence this warning.\n",
      "  \"this warning.\", FutureWarning)\n",
      "/home/monique/anaconda3/lib/python3.7/site-packages/sklearn/linear_model/logistic.py:433: FutureWarning: Default solver will be changed to 'lbfgs' in 0.22. Specify a solver to silence this warning.\n",
      "  FutureWarning)\n",
      "/home/monique/anaconda3/lib/python3.7/site-packages/sklearn/linear_model/logistic.py:460: FutureWarning: Default multi_class will be changed to 'auto' in 0.22. Specify the multi_class option to silence this warning.\n",
      "  \"this warning.\", FutureWarning)\n",
      "/home/monique/anaconda3/lib/python3.7/site-packages/sklearn/linear_model/logistic.py:433: FutureWarning: Default solver will be changed to 'lbfgs' in 0.22. Specify a solver to silence this warning.\n",
      "  FutureWarning)\n",
      "/home/monique/anaconda3/lib/python3.7/site-packages/sklearn/linear_model/logistic.py:460: FutureWarning: Default multi_class will be changed to 'auto' in 0.22. Specify the multi_class option to silence this warning.\n",
      "  \"this warning.\", FutureWarning)\n"
     ]
    },
    {
     "data": {
      "text/plain": [
       "GridSearchCV(cv=5, error_score='raise-deprecating',\n",
       "       estimator=LogisticRegression(C=1.0, class_weight=None, dual=False, fit_intercept=True,\n",
       "          intercept_scaling=1, max_iter=100, multi_class='warn',\n",
       "          n_jobs=None, penalty='l2', random_state=42, solver='warn',\n",
       "          tol=0.0001, verbose=0, warm_start=False),\n",
       "       fit_params=None, iid='warn', n_jobs=None,\n",
       "       param_grid=[{'C': [0.001, 0.05, 0.01, 0.1, 1, 10], 'penalty': ['l1', 'l2']}],\n",
       "       pre_dispatch='2*n_jobs', refit=True, return_train_score='warn',\n",
       "       scoring='accuracy', verbose=0)"
      ]
     },
     "execution_count": 54,
     "metadata": {},
     "output_type": "execute_result"
    }
   ],
   "source": [
    "C_vals = [0.001,0.05,0.01,0.1,1,10]\n",
    "penalty_vals=['l1','l2']\n",
    "\n",
    "clf_logr = LogisticRegression(random_state=42)\n",
    "\n",
    "param_grid = [{'C':C_vals, 'penalty':penalty_vals}]\n",
    "grid_search_lr = GridSearchCV(clf_logr, param_grid, cv=5,scoring='accuracy')\n",
    "grid_search_lr.fit(X_res1, np.ravel(y_res1))\n",
    "\n"
   ]
  },
  {
   "cell_type": "code",
   "execution_count": 55,
   "metadata": {},
   "outputs": [
    {
     "data": {
      "text/plain": [
       "{'C': 0.01, 'penalty': 'l1'}"
      ]
     },
     "execution_count": 55,
     "metadata": {},
     "output_type": "execute_result"
    }
   ],
   "source": [
    "grid_search_lr.best_params_"
   ]
  },
  {
   "cell_type": "code",
   "execution_count": 56,
   "metadata": {},
   "outputs": [
    {
     "name": "stdout",
     "output_type": "stream",
     "text": [
      "0.8660861556886839 {'C': 0.001, 'penalty': 'l1'}\n",
      "0.8725668081639398 {'C': 0.001, 'penalty': 'l2'}\n",
      "0.8825287815975553 {'C': 0.05, 'penalty': 'l1'}\n",
      "0.8825104374289047 {'C': 0.05, 'penalty': 'l2'}\n",
      "0.8831522566181659 {'C': 0.01, 'penalty': 'l1'}\n",
      "0.8808027598162113 {'C': 0.01, 'penalty': 'l2'}\n",
      "0.8822719285280161 {'C': 0.1, 'penalty': 'l1'}\n",
      "0.8828038983855332 {'C': 0.1, 'penalty': 'l2'}\n",
      "0.882216878855318 {'C': 1, 'penalty': 'l1'}\n",
      "0.8822535790187739 {'C': 1, 'penalty': 'l2'}\n",
      "0.8823086264016474 {'C': 10, 'penalty': 'l1'}\n",
      "0.8823086264016474 {'C': 10, 'penalty': 'l2'}\n"
     ]
    }
   ],
   "source": [
    "# Shows mean error for each parameter combination\n",
    "cvres = grid_search_lr.cv_results_\n",
    "for mean_score, params in zip(cvres[\"mean_test_score\"], cvres[\"params\"]):\n",
    "    print(np.sqrt(mean_score), params)"
   ]
  },
  {
   "cell_type": "code",
   "execution_count": 57,
   "metadata": {},
   "outputs": [],
   "source": [
    "final_model1 = grid_search_lr.best_estimator_  \n",
    "y_pred_gs = final_model1.predict(X_test)"
   ]
  },
  {
   "cell_type": "code",
   "execution_count": 58,
   "metadata": {},
   "outputs": [],
   "source": [
    "conf_gs=confusion_matrix(y_test, y_pred_gs)"
   ]
  },
  {
   "cell_type": "code",
   "execution_count": 59,
   "metadata": {},
   "outputs": [
    {
     "data": {
      "text/plain": [
       "0.9017403915881074"
      ]
     },
     "execution_count": 59,
     "metadata": {},
     "output_type": "execute_result"
    }
   ],
   "source": [
    "accuracy_score(y_test, y_pred_gs)"
   ]
  },
  {
   "cell_type": "code",
   "execution_count": 60,
   "metadata": {},
   "outputs": [
    {
     "name": "stdout",
     "output_type": "stream",
     "text": [
      "Normalized confusion matrix\n",
      "[[0.95 0.03 0.02]\n",
      " [0.1  0.72 0.18]\n",
      " [0.05 0.24 0.71]]\n"
     ]
    },
    {
     "data": {
      "image/png": "[encoded data removed]",
      "text/plain": [
       "<Figure size 1152x576 with 2 Axes>"
      ]
     },
     "metadata": {
      "needs_background": "light"
     },
     "output_type": "display_data"
    }
   ],
   "source": [
    "class_names=[1,2,3]\n",
    "np.set_printoptions(precision=2)\n",
    "\n",
    "f,ax=plt.subplots(figsize=(16,8))\n",
    "plot_confusion_matrix(conf_gs, classes=class_names, normalize=True)\n",
    "ax.set_title('Logistic Regression - ROS',fontsize=22)\n",
    "ax.set_xlabel('Predicted Label',fontsize=16)\n",
    "ax.set_ylabel('True Label',fontsize=16)\n",
    "#savefig('conf_matrix_log.eps', fmt='eps', dpi=200)\n",
    "savefig('conf_matrix_log_gs.eps', fmt='eps', dpi=200)\n",
    "savefig('conf_matrix_log_gs.jpeg', fmt='jpeg', dpi=200)\n",
    "plt.show()"
   ]
  },
  {
   "cell_type": "code",
   "execution_count": 61,
   "metadata": {
    "scrolled": true
   },
   "outputs": [
    {
     "data": {
      "text/plain": [
       "GridSearchCV(cv=5, error_score='raise-deprecating',\n",
       "       estimator=RandomForestClassifier(bootstrap=True, class_weight=None, criterion='gini',\n",
       "            max_depth=None, max_features='auto', max_leaf_nodes=None,\n",
       "            min_impurity_decrease=0.0, min_impurity_split=None,\n",
       "            min_samples_leaf=1, min_samples_split=2,\n",
       "            min_weight_fraction_leaf=0.0, n_estimators='warn', n_jobs=None,\n",
       "            oob_score=False, random_state=42, verbose=0, warm_start=False),\n",
       "       fit_params=None, iid='warn', n_jobs=None,\n",
       "       param_grid=[{'n_estimators': [200, 400, 600], 'criterion': ['gini', 'entropy'], 'min_samples_split': [2, 5, 10]}],\n",
       "       pre_dispatch='2*n_jobs', refit=True, return_train_score='warn',\n",
       "       scoring='accuracy', verbose=0)"
      ]
     },
     "execution_count": 61,
     "metadata": {},
     "output_type": "execute_result"
    }
   ],
   "source": [
    "n_vals = [200,400,600]\n",
    "penalty_vals=['gini','entropy']\n",
    "min_samples_vals=[2,5,10]\n",
    "clf_rfg = RandomForestClassifier(random_state=42)\n",
    "\n",
    "\n",
    "param_grid = [{'n_estimators':n_vals, 'criterion':penalty_vals, 'min_samples_split': min_samples_vals}]\n",
    "\n",
    "\n",
    "grid_search_rf = GridSearchCV(clf_rfg, param_grid, cv=5,scoring='accuracy')\n",
    "\n",
    "grid_search_rf.fit(X_res1, np.ravel(y_res1))\n"
   ]
  },
  {
   "cell_type": "code",
   "execution_count": 62,
   "metadata": {},
   "outputs": [
    {
     "data": {
      "text/plain": [
       "{'criterion': 'entropy', 'min_samples_split': 5, 'n_estimators': 400}"
      ]
     },
     "execution_count": 62,
     "metadata": {},
     "output_type": "execute_result"
    }
   ],
   "source": [
    "grid_search_rf.best_params_"
   ]
  },
  {
   "cell_type": "code",
   "execution_count": 63,
   "metadata": {},
   "outputs": [
    {
     "name": "stdout",
     "output_type": "stream",
     "text": [
      "0.9980716391742995 {'criterion': 'gini', 'min_samples_split': 2, 'n_estimators': 200}\n",
      "0.9981689566334574 {'criterion': 'gini', 'min_samples_split': 2, 'n_estimators': 400}\n",
      "0.9981527377158349 {'criterion': 'gini', 'min_samples_split': 2, 'n_estimators': 600}\n",
      "0.9980067555961927 {'criterion': 'gini', 'min_samples_split': 5, 'n_estimators': 200}\n",
      "0.997990534042548 {'criterion': 'gini', 'min_samples_split': 5, 'n_estimators': 400}\n",
      "0.9980554186752179 {'criterion': 'gini', 'min_samples_split': 5, 'n_estimators': 600}\n",
      "0.9975524523836313 {'criterion': 'gini', 'min_samples_split': 10, 'n_estimators': 200}\n",
      "0.9975849094742835 {'criterion': 'gini', 'min_samples_split': 10, 'n_estimators': 400}\n",
      "0.9975686810609612 {'criterion': 'gini', 'min_samples_split': 10, 'n_estimators': 600}\n",
      "0.9983959938152024 {'criterion': 'entropy', 'min_samples_split': 2, 'n_estimators': 200}\n",
      "0.9984122087812 {'criterion': 'entropy', 'min_samples_split': 2, 'n_estimators': 400}\n",
      "0.9984284234838585 {'criterion': 'entropy', 'min_samples_split': 2, 'n_estimators': 600}\n",
      "0.9983149150346812 {'criterion': 'entropy', 'min_samples_split': 5, 'n_estimators': 200}\n",
      "0.9984446379231908 {'criterion': 'entropy', 'min_samples_split': 5, 'n_estimators': 400}\n",
      "0.9983473473370478 {'criterion': 'entropy', 'min_samples_split': 5, 'n_estimators': 600}\n",
      "0.9978445281929206 {'criterion': 'entropy', 'min_samples_split': 10, 'n_estimators': 200}\n",
      "0.9977958548286451 {'criterion': 'entropy', 'min_samples_split': 10, 'n_estimators': 400}\n",
      "0.9978445281929206 {'criterion': 'entropy', 'min_samples_split': 10, 'n_estimators': 600}\n"
     ]
    }
   ],
   "source": [
    "# Shows mean error for each parameter combination\n",
    "cvres = grid_search_rf.cv_results_\n",
    "for mean_score, params in zip(cvres[\"mean_test_score\"], cvres[\"params\"]):\n",
    "    print(np.sqrt(mean_score), params)"
   ]
  },
  {
   "cell_type": "code",
   "execution_count": 64,
   "metadata": {},
   "outputs": [],
   "source": [
    "final_model = grid_search_rf.best_estimator_  \n",
    "y_pred_gsr = final_model.predict(X_test)"
   ]
  },
  {
   "cell_type": "code",
   "execution_count": 65,
   "metadata": {},
   "outputs": [],
   "source": [
    "conf_gsr=confusion_matrix(y_test, y_pred_gsr)"
   ]
  },
  {
   "cell_type": "code",
   "execution_count": 66,
   "metadata": {},
   "outputs": [
    {
     "data": {
      "text/plain": [
       "0.9403553299492385"
      ]
     },
     "execution_count": 66,
     "metadata": {},
     "output_type": "execute_result"
    }
   ],
   "source": [
    "accuracy_score(y_test, y_pred_gsr)"
   ]
  },
  {
   "cell_type": "code",
   "execution_count": 67,
   "metadata": {},
   "outputs": [
    {
     "name": "stdout",
     "output_type": "stream",
     "text": [
      "Normalized confusion matrix\n",
      "[[0.99 0.   0.01]\n",
      " [0.16 0.62 0.22]\n",
      " [0.08 0.12 0.8 ]]\n"
     ]
    },
    {
     "data": {
      "image/png": "[encoded data removed]",
      "text/plain": [
       "<Figure size 1152x576 with 2 Axes>"
      ]
     },
     "metadata": {
      "needs_background": "light"
     },
     "output_type": "display_data"
    }
   ],
   "source": [
    "class_names=[1,2,3,4]\n",
    "np.set_printoptions(precision=2)\n",
    "\n",
    "f,ax=plt.subplots(figsize=(16,8))\n",
    "plot_confusion_matrix(conf_gsr, classes=class_names, normalize=True)\n",
    "ax.set_title('Random Forest - ROS',fontsize=22)\n",
    "ax.set_xlabel('Predicted Label',fontsize=16)\n",
    "ax.set_ylabel('True Label',fontsize=16)\n",
    "savefig('conf_matrix_rf_gs.eps', fmt='eps', dpi=200)\n",
    "savefig('conf_matrix_rf_gs.jpeg', fmt='jpeg', dpi=200)\n",
    "#savefig('conf_matrix_log.eps', fmt='eps', dpi=200)\n",
    "plt.show()"
   ]
  },
  {
   "cell_type": "markdown",
   "metadata": {},
   "source": [
    "# 6. Applying to Observed Stars\n",
    "\n",
    "In this section we will apply the best model got from grid search for the logistic regression using Random Oversampling."
   ]
  },
  {
   "cell_type": "code",
   "execution_count": 68,
   "metadata": {},
   "outputs": [
    {
     "data": {
      "text/html": [
       "<div>\n",
       "<style scoped>\n",
       "    .dataframe tbody tr th:only-of-type {\n",
       "        vertical-align: middle;\n",
       "    }\n",
       "\n",
       "    .dataframe tbody tr th {\n",
       "        vertical-align: top;\n",
       "    }\n",
       "\n",
       "    .dataframe thead th {\n",
       "        text-align: right;\n",
       "    }\n",
       "</style>\n",
       "<table border=\"1\" class=\"dataframe\">\n",
       "  <thead>\n",
       "    <tr style=\"text-align: right;\">\n",
       "      <th></th>\n",
       "      <th>ID</th>\n",
       "      <th>temp</th>\n",
       "      <th>[Fe/H]</th>\n",
       "      <th>log(g)</th>\n",
       "      <th>KP</th>\n",
       "      <th>Fe5270</th>\n",
       "      <th>GP</th>\n",
       "      <th>GPE</th>\n",
       "      <th>g-r</th>\n",
       "      <th>Bamg</th>\n",
       "      <th>Ba_bmc</th>\n",
       "      <th>Eu_bmc</th>\n",
       "      <th>Sr_bmc</th>\n",
       "      <th>CN1</th>\n",
       "      <th>CN2</th>\n",
       "      <th>Dz</th>\n",
       "      <th>l</th>\n",
       "      <th>b</th>\n",
       "      <th>Vr</th>\n",
       "    </tr>\n",
       "  </thead>\n",
       "  <tbody>\n",
       "    <tr>\n",
       "      <th>0</th>\n",
       "      <td>spec-0266-51630-0056.fits2.txt</td>\n",
       "      <td>6267</td>\n",
       "      <td>-2.056</td>\n",
       "      <td>3.953</td>\n",
       "      <td>3.228</td>\n",
       "      <td>0.232</td>\n",
       "      <td>0.818</td>\n",
       "      <td>7.125</td>\n",
       "      <td>0.313</td>\n",
       "      <td>-0.370</td>\n",
       "      <td>1.260</td>\n",
       "      <td>1.919</td>\n",
       "      <td>2.581</td>\n",
       "      <td>-0.248</td>\n",
       "      <td>-0.214</td>\n",
       "      <td>1.290</td>\n",
       "      <td>237.133</td>\n",
       "      <td>37.418</td>\n",
       "      <td>299.3</td>\n",
       "    </tr>\n",
       "    <tr>\n",
       "      <th>1</th>\n",
       "      <td>spec-0273-51957-0147.fits2.txt</td>\n",
       "      <td>6043</td>\n",
       "      <td>-1.503</td>\n",
       "      <td>4.205</td>\n",
       "      <td>5.875</td>\n",
       "      <td>1.161</td>\n",
       "      <td>1.927</td>\n",
       "      <td>19.030</td>\n",
       "      <td>0.339</td>\n",
       "      <td>-0.395</td>\n",
       "      <td>0.748</td>\n",
       "      <td>0.471</td>\n",
       "      <td>1.841</td>\n",
       "      <td>-0.221</td>\n",
       "      <td>-0.569</td>\n",
       "      <td>1.098</td>\n",
       "      <td>246.990</td>\n",
       "      <td>47.117</td>\n",
       "      <td>31.2</td>\n",
       "    </tr>\n",
       "    <tr>\n",
       "      <th>2</th>\n",
       "      <td>spec-0280-51612-0258.fits2.txt</td>\n",
       "      <td>6117</td>\n",
       "      <td>-1.246</td>\n",
       "      <td>4.057</td>\n",
       "      <td>6.278</td>\n",
       "      <td>1.042</td>\n",
       "      <td>2.230</td>\n",
       "      <td>14.491</td>\n",
       "      <td>0.316</td>\n",
       "      <td>-0.542</td>\n",
       "      <td>0.786</td>\n",
       "      <td>0.359</td>\n",
       "      <td>1.649</td>\n",
       "      <td>-0.228</td>\n",
       "      <td>-0.259</td>\n",
       "      <td>2.157</td>\n",
       "      <td>260.968</td>\n",
       "      <td>54.720</td>\n",
       "      <td>113.8</td>\n",
       "    </tr>\n",
       "    <tr>\n",
       "      <th>3</th>\n",
       "      <td>spec-0280-51612-0280.fits2.txt</td>\n",
       "      <td>6053</td>\n",
       "      <td>-1.149</td>\n",
       "      <td>3.998</td>\n",
       "      <td>7.076</td>\n",
       "      <td>1.040</td>\n",
       "      <td>2.886</td>\n",
       "      <td>5.318</td>\n",
       "      <td>0.341</td>\n",
       "      <td>0.043</td>\n",
       "      <td>0.582</td>\n",
       "      <td>0.538</td>\n",
       "      <td>1.376</td>\n",
       "      <td>-0.299</td>\n",
       "      <td>-2.573</td>\n",
       "      <td>2.452</td>\n",
       "      <td>259.662</td>\n",
       "      <td>54.776</td>\n",
       "      <td>246.4</td>\n",
       "    </tr>\n",
       "    <tr>\n",
       "      <th>4</th>\n",
       "      <td>spec-0281-51614-0317.fits2.txt</td>\n",
       "      <td>6234</td>\n",
       "      <td>-1.338</td>\n",
       "      <td>3.740</td>\n",
       "      <td>6.068</td>\n",
       "      <td>0.897</td>\n",
       "      <td>1.378</td>\n",
       "      <td>2.803</td>\n",
       "      <td>0.296</td>\n",
       "      <td>-0.124</td>\n",
       "      <td>0.543</td>\n",
       "      <td>0.282</td>\n",
       "      <td>1.404</td>\n",
       "      <td>-0.226</td>\n",
       "      <td>1.765</td>\n",
       "      <td>-9999.000</td>\n",
       "      <td>261.108</td>\n",
       "      <td>55.302</td>\n",
       "      <td>399.2</td>\n",
       "    </tr>\n",
       "    <tr>\n",
       "      <th>5</th>\n",
       "      <td>spec-0282-51630-0271.fits2.txt</td>\n",
       "      <td>6420</td>\n",
       "      <td>-1.969</td>\n",
       "      <td>3.492</td>\n",
       "      <td>1.807</td>\n",
       "      <td>0.591</td>\n",
       "      <td>0.698</td>\n",
       "      <td>1.123</td>\n",
       "      <td>0.235</td>\n",
       "      <td>-0.359</td>\n",
       "      <td>1.471</td>\n",
       "      <td>0.277</td>\n",
       "      <td>2.943</td>\n",
       "      <td>-0.248</td>\n",
       "      <td>0.818</td>\n",
       "      <td>5.461</td>\n",
       "      <td>264.933</td>\n",
       "      <td>56.576</td>\n",
       "      <td>62.6</td>\n",
       "    </tr>\n",
       "    <tr>\n",
       "      <th>6</th>\n",
       "      <td>spec-0282-51658-0214.fits2.txt</td>\n",
       "      <td>6244</td>\n",
       "      <td>-1.207</td>\n",
       "      <td>3.579</td>\n",
       "      <td>6.314</td>\n",
       "      <td>1.419</td>\n",
       "      <td>1.913</td>\n",
       "      <td>7.329</td>\n",
       "      <td>0.243</td>\n",
       "      <td>0.031</td>\n",
       "      <td>0.910</td>\n",
       "      <td>0.928</td>\n",
       "      <td>2.632</td>\n",
       "      <td>-0.252</td>\n",
       "      <td>0.063</td>\n",
       "      <td>6.248</td>\n",
       "      <td>265.804</td>\n",
       "      <td>56.147</td>\n",
       "      <td>331.9</td>\n",
       "    </tr>\n",
       "    <tr>\n",
       "      <th>7</th>\n",
       "      <td>spec-0282-51658-0483.fits2.txt</td>\n",
       "      <td>6025</td>\n",
       "      <td>-1.040</td>\n",
       "      <td>3.858</td>\n",
       "      <td>7.303</td>\n",
       "      <td>1.338</td>\n",
       "      <td>2.978</td>\n",
       "      <td>17.071</td>\n",
       "      <td>0.306</td>\n",
       "      <td>0.019</td>\n",
       "      <td>1.074</td>\n",
       "      <td>0.791</td>\n",
       "      <td>2.504</td>\n",
       "      <td>-0.205</td>\n",
       "      <td>-1.371</td>\n",
       "      <td>3.822</td>\n",
       "      <td>265.525</td>\n",
       "      <td>57.580</td>\n",
       "      <td>263.8</td>\n",
       "    </tr>\n",
       "    <tr>\n",
       "      <th>8</th>\n",
       "      <td>spec-0283-51584-0443.fits2.txt</td>\n",
       "      <td>6297</td>\n",
       "      <td>-1.463</td>\n",
       "      <td>2.328</td>\n",
       "      <td>3.914</td>\n",
       "      <td>1.250</td>\n",
       "      <td>1.363</td>\n",
       "      <td>7.010</td>\n",
       "      <td>0.132</td>\n",
       "      <td>0.069</td>\n",
       "      <td>3.221</td>\n",
       "      <td>0.679</td>\n",
       "      <td>3.153</td>\n",
       "      <td>-0.225</td>\n",
       "      <td>-1.730</td>\n",
       "      <td>13.431</td>\n",
       "      <td>267.696</td>\n",
       "      <td>59.308</td>\n",
       "      <td>184.8</td>\n",
       "    </tr>\n",
       "    <tr>\n",
       "      <th>9</th>\n",
       "      <td>spec-0284-51943-0510.fits2.txt</td>\n",
       "      <td>5900</td>\n",
       "      <td>-2.160</td>\n",
       "      <td>4.324</td>\n",
       "      <td>4.353</td>\n",
       "      <td>0.533</td>\n",
       "      <td>1.335</td>\n",
       "      <td>10.879</td>\n",
       "      <td>0.326</td>\n",
       "      <td>-0.553</td>\n",
       "      <td>0.369</td>\n",
       "      <td>0.832</td>\n",
       "      <td>1.795</td>\n",
       "      <td>-0.191</td>\n",
       "      <td>-2.025</td>\n",
       "      <td>1.334</td>\n",
       "      <td>273.572</td>\n",
       "      <td>60.018</td>\n",
       "      <td>48.9</td>\n",
       "    </tr>\n",
       "  </tbody>\n",
       "</table>\n",
       "</div>"
      ],
      "text/plain": [
       "                               ID  temp  [Fe/H]  log(g)     KP  Fe5270     GP  \\\n",
       "0  spec-0266-51630-0056.fits2.txt  6267  -2.056   3.953  3.228   0.232  0.818   \n",
       "1  spec-0273-51957-0147.fits2.txt  6043  -1.503   4.205  5.875   1.161  1.927   \n",
       "2  spec-0280-51612-0258.fits2.txt  6117  -1.246   4.057  6.278   1.042  2.230   \n",
       "3  spec-0280-51612-0280.fits2.txt  6053  -1.149   3.998  7.076   1.040  2.886   \n",
       "4  spec-0281-51614-0317.fits2.txt  6234  -1.338   3.740  6.068   0.897  1.378   \n",
       "5  spec-0282-51630-0271.fits2.txt  6420  -1.969   3.492  1.807   0.591  0.698   \n",
       "6  spec-0282-51658-0214.fits2.txt  6244  -1.207   3.579  6.314   1.419  1.913   \n",
       "7  spec-0282-51658-0483.fits2.txt  6025  -1.040   3.858  7.303   1.338  2.978   \n",
       "8  spec-0283-51584-0443.fits2.txt  6297  -1.463   2.328  3.914   1.250  1.363   \n",
       "9  spec-0284-51943-0510.fits2.txt  5900  -2.160   4.324  4.353   0.533  1.335   \n",
       "\n",
       "      GPE    g-r   Bamg  Ba_bmc  Eu_bmc  Sr_bmc    CN1    CN2        Dz  \\\n",
       "0   7.125  0.313 -0.370   1.260   1.919   2.581 -0.248 -0.214     1.290   \n",
       "1  19.030  0.339 -0.395   0.748   0.471   1.841 -0.221 -0.569     1.098   \n",
       "2  14.491  0.316 -0.542   0.786   0.359   1.649 -0.228 -0.259     2.157   \n",
       "3   5.318  0.341  0.043   0.582   0.538   1.376 -0.299 -2.573     2.452   \n",
       "4   2.803  0.296 -0.124   0.543   0.282   1.404 -0.226  1.765 -9999.000   \n",
       "5   1.123  0.235 -0.359   1.471   0.277   2.943 -0.248  0.818     5.461   \n",
       "6   7.329  0.243  0.031   0.910   0.928   2.632 -0.252  0.063     6.248   \n",
       "7  17.071  0.306  0.019   1.074   0.791   2.504 -0.205 -1.371     3.822   \n",
       "8   7.010  0.132  0.069   3.221   0.679   3.153 -0.225 -1.730    13.431   \n",
       "9  10.879  0.326 -0.553   0.369   0.832   1.795 -0.191 -2.025     1.334   \n",
       "\n",
       "         l       b     Vr  \n",
       "0  237.133  37.418  299.3  \n",
       "1  246.990  47.117   31.2  \n",
       "2  260.968  54.720  113.8  \n",
       "3  259.662  54.776  246.4  \n",
       "4  261.108  55.302  399.2  \n",
       "5  264.933  56.576   62.6  \n",
       "6  265.804  56.147  331.9  \n",
       "7  265.525  57.580  263.8  \n",
       "8  267.696  59.308  184.8  \n",
       "9  273.572  60.018   48.9  "
      ]
     },
     "execution_count": 68,
     "metadata": {},
     "output_type": "execute_result"
    }
   ],
   "source": [
    "# Getting the data into a dataframe\n",
    "dfo = pd.read_csv('Hugo_obs.csv')\n",
    "dfo.head(10)"
   ]
  },
  {
   "cell_type": "code",
   "execution_count": 69,
   "metadata": {},
   "outputs": [],
   "source": [
    "dfo[[' KP', 'Fe5270','GP','GPE','g-r',\n",
    "          'Bamg','Ba_bmc','Eu_bmc','Sr_bmc']] = std_sc.fit_transform(dfo[[' KP','Fe5270','GP','GPE','g-r',\n",
    "                                                                      'Bamg','Ba_bmc','Eu_bmc','Sr_bmc']])\n",
    "                                                                  "
   ]
  },
  {
   "cell_type": "code",
   "execution_count": 70,
   "metadata": {},
   "outputs": [
    {
     "data": {
      "text/html": [
       "<div>\n",
       "<style scoped>\n",
       "    .dataframe tbody tr th:only-of-type {\n",
       "        vertical-align: middle;\n",
       "    }\n",
       "\n",
       "    .dataframe tbody tr th {\n",
       "        vertical-align: top;\n",
       "    }\n",
       "\n",
       "    .dataframe thead th {\n",
       "        text-align: right;\n",
       "    }\n",
       "</style>\n",
       "<table border=\"1\" class=\"dataframe\">\n",
       "  <thead>\n",
       "    <tr style=\"text-align: right;\">\n",
       "      <th></th>\n",
       "      <th>temp</th>\n",
       "      <th>[Fe/H]</th>\n",
       "      <th>log(g)</th>\n",
       "      <th>KP</th>\n",
       "      <th>Fe5270</th>\n",
       "      <th>GP</th>\n",
       "      <th>GPE</th>\n",
       "      <th>g-r</th>\n",
       "      <th>Bamg</th>\n",
       "      <th>Ba_bmc</th>\n",
       "      <th>Eu_bmc</th>\n",
       "      <th>Sr_bmc</th>\n",
       "      <th>CN1</th>\n",
       "      <th>CN2</th>\n",
       "      <th>Dz</th>\n",
       "      <th>l</th>\n",
       "      <th>b</th>\n",
       "      <th>Vr</th>\n",
       "    </tr>\n",
       "  </thead>\n",
       "  <tbody>\n",
       "    <tr>\n",
       "      <th>count</th>\n",
       "      <td>17036.000000</td>\n",
       "      <td>17036.000000</td>\n",
       "      <td>17036.000000</td>\n",
       "      <td>1.703600e+04</td>\n",
       "      <td>1.703600e+04</td>\n",
       "      <td>1.703600e+04</td>\n",
       "      <td>1.703600e+04</td>\n",
       "      <td>1.703600e+04</td>\n",
       "      <td>1.703600e+04</td>\n",
       "      <td>1.703600e+04</td>\n",
       "      <td>1.703600e+04</td>\n",
       "      <td>1.703600e+04</td>\n",
       "      <td>17036.000000</td>\n",
       "      <td>55.000000</td>\n",
       "      <td>17036.000000</td>\n",
       "      <td>17036.000000</td>\n",
       "      <td>17036.000000</td>\n",
       "      <td>17036.000000</td>\n",
       "    </tr>\n",
       "    <tr>\n",
       "      <th>mean</th>\n",
       "      <td>5556.779584</td>\n",
       "      <td>-1.504155</td>\n",
       "      <td>3.442723</td>\n",
       "      <td>1.042252e-15</td>\n",
       "      <td>-3.295608e-16</td>\n",
       "      <td>-1.404514e-15</td>\n",
       "      <td>-1.298849e-15</td>\n",
       "      <td>1.134590e-15</td>\n",
       "      <td>1.430057e-17</td>\n",
       "      <td>-7.099536e-17</td>\n",
       "      <td>-8.559979e-17</td>\n",
       "      <td>-5.128102e-16</td>\n",
       "      <td>-0.217109</td>\n",
       "      <td>-0.427691</td>\n",
       "      <td>-4324.152203</td>\n",
       "      <td>151.898993</td>\n",
       "      <td>51.877479</td>\n",
       "      <td>-43.961816</td>\n",
       "    </tr>\n",
       "    <tr>\n",
       "      <th>std</th>\n",
       "      <td>525.957407</td>\n",
       "      <td>0.370186</td>\n",
       "      <td>0.918218</td>\n",
       "      <td>1.000029e+00</td>\n",
       "      <td>1.000029e+00</td>\n",
       "      <td>1.000029e+00</td>\n",
       "      <td>1.000029e+00</td>\n",
       "      <td>1.000029e+00</td>\n",
       "      <td>1.000029e+00</td>\n",
       "      <td>1.000029e+00</td>\n",
       "      <td>1.000029e+00</td>\n",
       "      <td>1.000029e+00</td>\n",
       "      <td>0.148711</td>\n",
       "      <td>1.122344</td>\n",
       "      <td>4957.177404</td>\n",
       "      <td>88.525071</td>\n",
       "      <td>15.586280</td>\n",
       "      <td>141.089011</td>\n",
       "    </tr>\n",
       "    <tr>\n",
       "      <th>min</th>\n",
       "      <td>4015.000000</td>\n",
       "      <td>-4.282000</td>\n",
       "      <td>1.001000</td>\n",
       "      <td>-4.557218e+00</td>\n",
       "      <td>-1.959948e+00</td>\n",
       "      <td>-2.400189e+00</td>\n",
       "      <td>-1.761120e+00</td>\n",
       "      <td>-2.858177e+00</td>\n",
       "      <td>-2.656180e+00</td>\n",
       "      <td>-2.223234e+00</td>\n",
       "      <td>-2.449006e+00</td>\n",
       "      <td>-2.690338e+00</td>\n",
       "      <td>-9.990000</td>\n",
       "      <td>-3.017000</td>\n",
       "      <td>-9999.000000</td>\n",
       "      <td>0.134000</td>\n",
       "      <td>-7.015000</td>\n",
       "      <td>-718.000000</td>\n",
       "    </tr>\n",
       "    <tr>\n",
       "      <th>25%</th>\n",
       "      <td>5160.000000</td>\n",
       "      <td>-1.701000</td>\n",
       "      <td>2.665750</td>\n",
       "      <td>-6.624004e-01</td>\n",
       "      <td>-6.931044e-01</td>\n",
       "      <td>-9.377641e-01</td>\n",
       "      <td>-7.784559e-01</td>\n",
       "      <td>-8.860526e-01</td>\n",
       "      <td>-2.704200e-01</td>\n",
       "      <td>-6.402413e-01</td>\n",
       "      <td>-6.059597e-01</td>\n",
       "      <td>-6.466864e-01</td>\n",
       "      <td>-0.252000</td>\n",
       "      <td>-1.008000</td>\n",
       "      <td>-9999.000000</td>\n",
       "      <td>72.511750</td>\n",
       "      <td>39.658250</td>\n",
       "      <td>-136.900000</td>\n",
       "    </tr>\n",
       "    <tr>\n",
       "      <th>50%</th>\n",
       "      <td>5435.000000</td>\n",
       "      <td>-1.419500</td>\n",
       "      <td>3.730500</td>\n",
       "      <td>2.056599e-01</td>\n",
       "      <td>-1.308868e-01</td>\n",
       "      <td>1.577804e-01</td>\n",
       "      <td>-1.083274e-01</td>\n",
       "      <td>5.738469e-02</td>\n",
       "      <td>5.747595e-01</td>\n",
       "      <td>-2.073721e-01</td>\n",
       "      <td>-1.875571e-01</td>\n",
       "      <td>-2.190408e-01</td>\n",
       "      <td>-0.226000</td>\n",
       "      <td>-0.299000</td>\n",
       "      <td>-3.491000</td>\n",
       "      <td>150.455000</td>\n",
       "      <td>51.471000</td>\n",
       "      <td>-45.100000</td>\n",
       "    </tr>\n",
       "    <tr>\n",
       "      <th>75%</th>\n",
       "      <td>6081.000000</td>\n",
       "      <td>-1.230750</td>\n",
       "      <td>4.219000</td>\n",
       "      <td>8.446419e-01</td>\n",
       "      <td>5.322036e-01</td>\n",
       "      <td>9.068270e-01</td>\n",
       "      <td>5.889157e-01</td>\n",
       "      <td>6.314037e-01</td>\n",
       "      <td>6.924427e-01</td>\n",
       "      <td>3.815313e-01</td>\n",
       "      <td>3.795340e-01</td>\n",
       "      <td>3.703424e-01</td>\n",
       "      <td>-0.198000</td>\n",
       "      <td>0.318500</td>\n",
       "      <td>3.535250</td>\n",
       "      <td>214.147000</td>\n",
       "      <td>63.239500</td>\n",
       "      <td>41.300000</td>\n",
       "    </tr>\n",
       "    <tr>\n",
       "      <th>max</th>\n",
       "      <td>6512.000000</td>\n",
       "      <td>-1.000000</td>\n",
       "      <td>4.898000</td>\n",
       "      <td>2.049983e+00</td>\n",
       "      <td>5.426018e+00</td>\n",
       "      <td>2.461608e+00</td>\n",
       "      <td>6.444944e+00</td>\n",
       "      <td>4.655221e+00</td>\n",
       "      <td>1.730195e+00</td>\n",
       "      <td>8.487762e+00</td>\n",
       "      <td>6.887250e+00</td>\n",
       "      <td>4.982609e+00</td>\n",
       "      <td>1.641000</td>\n",
       "      <td>1.765000</td>\n",
       "      <td>148.802000</td>\n",
       "      <td>359.993000</td>\n",
       "      <td>89.817000</td>\n",
       "      <td>928.800000</td>\n",
       "    </tr>\n",
       "  </tbody>\n",
       "</table>\n",
       "</div>"
      ],
      "text/plain": [
       "               temp        [Fe/H]        log(g)            KP        Fe5270  \\\n",
       "count  17036.000000  17036.000000  17036.000000  1.703600e+04  1.703600e+04   \n",
       "mean    5556.779584     -1.504155      3.442723  1.042252e-15 -3.295608e-16   \n",
       "std      525.957407      0.370186      0.918218  1.000029e+00  1.000029e+00   \n",
       "min     4015.000000     -4.282000      1.001000 -4.557218e+00 -1.959948e+00   \n",
       "25%     5160.000000     -1.701000      2.665750 -6.624004e-01 -6.931044e-01   \n",
       "50%     5435.000000     -1.419500      3.730500  2.056599e-01 -1.308868e-01   \n",
       "75%     6081.000000     -1.230750      4.219000  8.446419e-01  5.322036e-01   \n",
       "max     6512.000000     -1.000000      4.898000  2.049983e+00  5.426018e+00   \n",
       "\n",
       "                 GP           GPE           g-r          Bamg        Ba_bmc  \\\n",
       "count  1.703600e+04  1.703600e+04  1.703600e+04  1.703600e+04  1.703600e+04   \n",
       "mean  -1.404514e-15 -1.298849e-15  1.134590e-15  1.430057e-17 -7.099536e-17   \n",
       "std    1.000029e+00  1.000029e+00  1.000029e+00  1.000029e+00  1.000029e+00   \n",
       "min   -2.400189e+00 -1.761120e+00 -2.858177e+00 -2.656180e+00 -2.223234e+00   \n",
       "25%   -9.377641e-01 -7.784559e-01 -8.860526e-01 -2.704200e-01 -6.402413e-01   \n",
       "50%    1.577804e-01 -1.083274e-01  5.738469e-02  5.747595e-01 -2.073721e-01   \n",
       "75%    9.068270e-01  5.889157e-01  6.314037e-01  6.924427e-01  3.815313e-01   \n",
       "max    2.461608e+00  6.444944e+00  4.655221e+00  1.730195e+00  8.487762e+00   \n",
       "\n",
       "             Eu_bmc        Sr_bmc           CN1        CN2            Dz  \\\n",
       "count  1.703600e+04  1.703600e+04  17036.000000  55.000000  17036.000000   \n",
       "mean  -8.559979e-17 -5.128102e-16     -0.217109  -0.427691  -4324.152203   \n",
       "std    1.000029e+00  1.000029e+00      0.148711   1.122344   4957.177404   \n",
       "min   -2.449006e+00 -2.690338e+00     -9.990000  -3.017000  -9999.000000   \n",
       "25%   -6.059597e-01 -6.466864e-01     -0.252000  -1.008000  -9999.000000   \n",
       "50%   -1.875571e-01 -2.190408e-01     -0.226000  -0.299000     -3.491000   \n",
       "75%    3.795340e-01  3.703424e-01     -0.198000   0.318500      3.535250   \n",
       "max    6.887250e+00  4.982609e+00      1.641000   1.765000    148.802000   \n",
       "\n",
       "                  l             b            Vr  \n",
       "count  17036.000000  17036.000000  17036.000000  \n",
       "mean     151.898993     51.877479    -43.961816  \n",
       "std       88.525071     15.586280    141.089011  \n",
       "min        0.134000     -7.015000   -718.000000  \n",
       "25%       72.511750     39.658250   -136.900000  \n",
       "50%      150.455000     51.471000    -45.100000  \n",
       "75%      214.147000     63.239500     41.300000  \n",
       "max      359.993000     89.817000    928.800000  "
      ]
     },
     "execution_count": 70,
     "metadata": {},
     "output_type": "execute_result"
    }
   ],
   "source": [
    "dfo.describe()"
   ]
  },
  {
   "cell_type": "code",
   "execution_count": 71,
   "metadata": {},
   "outputs": [
    {
     "data": {
      "text/html": [
       "<div>\n",
       "<style scoped>\n",
       "    .dataframe tbody tr th:only-of-type {\n",
       "        vertical-align: middle;\n",
       "    }\n",
       "\n",
       "    .dataframe tbody tr th {\n",
       "        vertical-align: top;\n",
       "    }\n",
       "\n",
       "    .dataframe thead th {\n",
       "        text-align: right;\n",
       "    }\n",
       "</style>\n",
       "<table border=\"1\" class=\"dataframe\">\n",
       "  <thead>\n",
       "    <tr style=\"text-align: right;\">\n",
       "      <th></th>\n",
       "      <th>KP</th>\n",
       "      <th>Fe5270</th>\n",
       "      <th>GP</th>\n",
       "      <th>GPE</th>\n",
       "      <th>g-r</th>\n",
       "      <th>Bamg</th>\n",
       "      <th>Ba_bmc</th>\n",
       "      <th>Eu_bmc</th>\n",
       "      <th>Sr_bmc</th>\n",
       "    </tr>\n",
       "  </thead>\n",
       "  <tbody>\n",
       "    <tr>\n",
       "      <th>count</th>\n",
       "      <td>1.703600e+04</td>\n",
       "      <td>1.703600e+04</td>\n",
       "      <td>1.703600e+04</td>\n",
       "      <td>1.703600e+04</td>\n",
       "      <td>1.703600e+04</td>\n",
       "      <td>1.703600e+04</td>\n",
       "      <td>1.703600e+04</td>\n",
       "      <td>1.703600e+04</td>\n",
       "      <td>1.703600e+04</td>\n",
       "    </tr>\n",
       "    <tr>\n",
       "      <th>mean</th>\n",
       "      <td>1.042252e-15</td>\n",
       "      <td>-3.295608e-16</td>\n",
       "      <td>-1.404514e-15</td>\n",
       "      <td>-1.298849e-15</td>\n",
       "      <td>1.134590e-15</td>\n",
       "      <td>1.430057e-17</td>\n",
       "      <td>-7.099536e-17</td>\n",
       "      <td>-8.559979e-17</td>\n",
       "      <td>-5.128102e-16</td>\n",
       "    </tr>\n",
       "    <tr>\n",
       "      <th>std</th>\n",
       "      <td>1.000029e+00</td>\n",
       "      <td>1.000029e+00</td>\n",
       "      <td>1.000029e+00</td>\n",
       "      <td>1.000029e+00</td>\n",
       "      <td>1.000029e+00</td>\n",
       "      <td>1.000029e+00</td>\n",
       "      <td>1.000029e+00</td>\n",
       "      <td>1.000029e+00</td>\n",
       "      <td>1.000029e+00</td>\n",
       "    </tr>\n",
       "    <tr>\n",
       "      <th>min</th>\n",
       "      <td>-4.557218e+00</td>\n",
       "      <td>-1.959948e+00</td>\n",
       "      <td>-2.400189e+00</td>\n",
       "      <td>-1.761120e+00</td>\n",
       "      <td>-2.858177e+00</td>\n",
       "      <td>-2.656180e+00</td>\n",
       "      <td>-2.223234e+00</td>\n",
       "      <td>-2.449006e+00</td>\n",
       "      <td>-2.690338e+00</td>\n",
       "    </tr>\n",
       "    <tr>\n",
       "      <th>25%</th>\n",
       "      <td>-6.624004e-01</td>\n",
       "      <td>-6.931044e-01</td>\n",
       "      <td>-9.377641e-01</td>\n",
       "      <td>-7.784559e-01</td>\n",
       "      <td>-8.860526e-01</td>\n",
       "      <td>-2.704200e-01</td>\n",
       "      <td>-6.402413e-01</td>\n",
       "      <td>-6.059597e-01</td>\n",
       "      <td>-6.466864e-01</td>\n",
       "    </tr>\n",
       "    <tr>\n",
       "      <th>50%</th>\n",
       "      <td>2.056599e-01</td>\n",
       "      <td>-1.308868e-01</td>\n",
       "      <td>1.577804e-01</td>\n",
       "      <td>-1.083274e-01</td>\n",
       "      <td>5.738469e-02</td>\n",
       "      <td>5.747595e-01</td>\n",
       "      <td>-2.073721e-01</td>\n",
       "      <td>-1.875571e-01</td>\n",
       "      <td>-2.190408e-01</td>\n",
       "    </tr>\n",
       "    <tr>\n",
       "      <th>75%</th>\n",
       "      <td>8.446419e-01</td>\n",
       "      <td>5.322036e-01</td>\n",
       "      <td>9.068270e-01</td>\n",
       "      <td>5.889157e-01</td>\n",
       "      <td>6.314037e-01</td>\n",
       "      <td>6.924427e-01</td>\n",
       "      <td>3.815313e-01</td>\n",
       "      <td>3.795340e-01</td>\n",
       "      <td>3.703424e-01</td>\n",
       "    </tr>\n",
       "    <tr>\n",
       "      <th>max</th>\n",
       "      <td>2.049983e+00</td>\n",
       "      <td>5.426018e+00</td>\n",
       "      <td>2.461608e+00</td>\n",
       "      <td>6.444944e+00</td>\n",
       "      <td>4.655221e+00</td>\n",
       "      <td>1.730195e+00</td>\n",
       "      <td>8.487762e+00</td>\n",
       "      <td>6.887250e+00</td>\n",
       "      <td>4.982609e+00</td>\n",
       "    </tr>\n",
       "  </tbody>\n",
       "</table>\n",
       "</div>"
      ],
      "text/plain": [
       "                 KP        Fe5270            GP           GPE           g-r  \\\n",
       "count  1.703600e+04  1.703600e+04  1.703600e+04  1.703600e+04  1.703600e+04   \n",
       "mean   1.042252e-15 -3.295608e-16 -1.404514e-15 -1.298849e-15  1.134590e-15   \n",
       "std    1.000029e+00  1.000029e+00  1.000029e+00  1.000029e+00  1.000029e+00   \n",
       "min   -4.557218e+00 -1.959948e+00 -2.400189e+00 -1.761120e+00 -2.858177e+00   \n",
       "25%   -6.624004e-01 -6.931044e-01 -9.377641e-01 -7.784559e-01 -8.860526e-01   \n",
       "50%    2.056599e-01 -1.308868e-01  1.577804e-01 -1.083274e-01  5.738469e-02   \n",
       "75%    8.446419e-01  5.322036e-01  9.068270e-01  5.889157e-01  6.314037e-01   \n",
       "max    2.049983e+00  5.426018e+00  2.461608e+00  6.444944e+00  4.655221e+00   \n",
       "\n",
       "               Bamg        Ba_bmc        Eu_bmc        Sr_bmc  \n",
       "count  1.703600e+04  1.703600e+04  1.703600e+04  1.703600e+04  \n",
       "mean   1.430057e-17 -7.099536e-17 -8.559979e-17 -5.128102e-16  \n",
       "std    1.000029e+00  1.000029e+00  1.000029e+00  1.000029e+00  \n",
       "min   -2.656180e+00 -2.223234e+00 -2.449006e+00 -2.690338e+00  \n",
       "25%   -2.704200e-01 -6.402413e-01 -6.059597e-01 -6.466864e-01  \n",
       "50%    5.747595e-01 -2.073721e-01 -1.875571e-01 -2.190408e-01  \n",
       "75%    6.924427e-01  3.815313e-01  3.795340e-01  3.703424e-01  \n",
       "max    1.730195e+00  8.487762e+00  6.887250e+00  4.982609e+00  "
      ]
     },
     "execution_count": 71,
     "metadata": {},
     "output_type": "execute_result"
    }
   ],
   "source": [
    "drop_elements = ['ID','temp','[Fe/H]','log(g)','CN1','CN2','Dz','l','b','Vr']\n",
    "X_new = dfo.drop(drop_elements, axis = 1)\n",
    "X_new.describe()"
   ]
  },
  {
   "cell_type": "code",
   "execution_count": 72,
   "metadata": {},
   "outputs": [],
   "source": [
    "y_pred_new = final_model1.predict(X_new)"
   ]
  },
  {
   "cell_type": "code",
   "execution_count": 73,
   "metadata": {},
   "outputs": [
    {
     "data": {
      "text/plain": [
       "1    0.831592\n",
       "2    0.033517\n",
       "3    0.134891\n",
       "dtype: float64"
      ]
     },
     "execution_count": 73,
     "metadata": {},
     "output_type": "execute_result"
    }
   ],
   "source": [
    "yy=pd.Series(y_pred_new)\n",
    "pd.value_counts(yy,dropna=True,sort=False,normalize=True)"
   ]
  },
  {
   "cell_type": "code",
   "execution_count": 74,
   "metadata": {},
   "outputs": [
    {
     "name": "stderr",
     "output_type": "stream",
     "text": [
      "/home/monique/anaconda3/lib/python3.7/site-packages/scipy/stats/stats.py:1713: FutureWarning: Using a non-tuple sequence for multidimensional indexing is deprecated; use `arr[tuple(seq)]` instead of `arr[seq]`. In the future this will be interpreted as an array index, `arr[np.array(seq)]`, which will result either in an error or a different result.\n",
      "  return np.add.reduce(sorted[indexer] * weights, axis=axis) / sumval\n"
     ]
    },
    {
     "data": {
      "image/png": "[encoded data removed]",
      "text/plain": [
       "<Figure size 1080x720 with 1 Axes>"
      ]
     },
     "metadata": {
      "needs_background": "light"
     },
     "output_type": "display_data"
    }
   ],
   "source": [
    "f,axes=plt.subplots(figsize=(15, 10))\n",
    "sns.distplot(X_new.GPE[yy==1],bins=50, kde=True,label='1')\n",
    "sns.distplot(X_new.GPE[yy==2],bins=50, kde=True,color='g',label='2')\n",
    "sns.distplot(X_new.GPE[yy==3],bins=50, kde=True,color='r',label='3')\n",
    "ylim(0,1)\n",
    "plt.legend()\n",
    "plt.show()"
   ]
  },
  {
   "cell_type": "code",
   "execution_count": 75,
   "metadata": {},
   "outputs": [
    {
     "name": "stderr",
     "output_type": "stream",
     "text": [
      "/home/monique/anaconda3/lib/python3.7/site-packages/scipy/stats/stats.py:1713: FutureWarning: Using a non-tuple sequence for multidimensional indexing is deprecated; use `arr[tuple(seq)]` instead of `arr[seq]`. In the future this will be interpreted as an array index, `arr[np.array(seq)]`, which will result either in an error or a different result.\n",
      "  return np.add.reduce(sorted[indexer] * weights, axis=axis) / sumval\n"
     ]
    },
    {
     "data": {
      "image/png": "[encoded data removed]",
      "text/plain": [
       "<Figure size 1080x720 with 1 Axes>"
      ]
     },
     "metadata": {
      "needs_background": "light"
     },
     "output_type": "display_data"
    }
   ],
   "source": [
    "f,axes=plt.subplots(figsize=(15, 10))\n",
    "sns.distplot(X_new.Ba_bmc[yy==1],bins=50, kde=True,label='1')\n",
    "sns.distplot(X_new.Ba_bmc[yy==2],bins=50, kde=True,color='g',label='2')\n",
    "sns.distplot(X_new.Ba_bmc[yy==3],bins=50, kde=True,color='r',label='3')\n",
    "ylim(0,1)\n",
    "\n",
    "plt.legend()\n",
    "plt.show()"
   ]
  },
  {
   "cell_type": "code",
   "execution_count": 76,
   "metadata": {},
   "outputs": [
    {
     "name": "stderr",
     "output_type": "stream",
     "text": [
      "/home/monique/anaconda3/lib/python3.7/site-packages/scipy/stats/stats.py:1713: FutureWarning: Using a non-tuple sequence for multidimensional indexing is deprecated; use `arr[tuple(seq)]` instead of `arr[seq]`. In the future this will be interpreted as an array index, `arr[np.array(seq)]`, which will result either in an error or a different result.\n",
      "  return np.add.reduce(sorted[indexer] * weights, axis=axis) / sumval\n"
     ]
    },
    {
     "data": {
      "image/png": "[encoded data removed]",
      "text/plain": [
       "<Figure size 1080x720 with 1 Axes>"
      ]
     },
     "metadata": {
      "needs_background": "light"
     },
     "output_type": "display_data"
    }
   ],
   "source": [
    "f,axes=plt.subplots(figsize=(15, 10))\n",
    "sns.distplot(dfo['[Fe/H]'],bins=50, kde=True,color='orange')\n",
    "sns.distplot(dfo['[Fe/H]'][yy==1],bins=50, kde=True,label='1')\n",
    "sns.distplot(dfo['[Fe/H]'][yy==2],bins=50, kde=True,color='g',label='2')\n",
    "sns.distplot(dfo['[Fe/H]'][yy==3],bins=50, kde=True,color='r',label='3')\n",
    "\n",
    "plt.legend()\n",
    "savefig('SDSS_lr1.eps', fmt='eps', dpi=200)\n",
    "savefig('SDSS_lr1.jpeg', fmt='jpeg', dpi=200)\n",
    "plt.show()"
   ]
  },
  {
   "cell_type": "markdown",
   "metadata": {},
   "source": [
    "The Figure above shows the distribution of **[Fe/H]** for each class in our observed sample. Class 1 appears to be predominant at higher values of **[Fe/H]** and Class 2 is predominant at the lowest end of **[Fe/H]**. This result is quite encoreging, since it is quite similar to what we observe in nature. "
   ]
  },
  {
   "cell_type": "markdown",
   "metadata": {},
   "source": [
    "# 7. Conclusions\n",
    "\n",
    "In this project we use synthetic data and machine learning models to find ways to select Carbon stars from the SDSS database. This database possesses spectra for hundreds of thousands of stars that can be potential targets for observations in high resolution in large telescopes. \n",
    "\n",
    "We used 9 features related to key chemical elements and a synthetic sample of approximately 20,000 objects. \n",
    "\n",
    "Before applying the models, we resampled our dataset to balance the data, using two types of oversampling.\n",
    "\n",
    "We applied logistic regression and random forest. We get similar results with both techniques, however, random forest tends to increase the performance on carbon normal stars which is not what we want. \n",
    "\n",
    "Overall, the models increase our chance to correctly find Carbon rich stars from 7% and 13% to around 70%, which is a significant improvement. \n",
    "\n",
    "Finally, we applied the best logistic regression model to a set of observed stars from the SDSS database. We see that the distribution of metallicities ([Fe/H]) for each class resembles what we know from high-resolution studies which is an indication that the model performace on an unknown sample is doing fine. "
   ]
  }
 ],
 "metadata": {
  "kernelspec": {
   "display_name": "Python 3",
   "language": "python",
   "name": "python3"
  },
  "language_info": {
   "codemirror_mode": {
    "name": "ipython",
    "version": 3
   },
   "file_extension": ".py",
   "mimetype": "text/x-python",
   "name": "python",
   "nbconvert_exporter": "python",
   "pygments_lexer": "ipython3",
   "version": "3.7.0"
  }
 },
 "nbformat": 4,
 "nbformat_minor": 2
}
